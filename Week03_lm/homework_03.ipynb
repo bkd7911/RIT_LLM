{
 "cells": [
  {
   "cell_type": "markdown",
   "metadata": {
    "id": "L3FBJdkVr8q4"
   },
   "source": [
    "### Homework: going neural (8 pts) And 2 pts for the practice notebook\n",
    "\n",
    "We've checked out statistical approaches to language models in the last notebook. Now let's go find out what deep learning has to offer.\n",
    "\n",
    "<img src='https://raw.githubusercontent.com/yandexdataschool/nlp_course/master/resources/expanding_mind_lm_kn_3.png' width=300px>\n",
    "\n",
    "We're gonna use the same dataset as before, except this time we build a language model that's character-level, not word level. Before you go:\n",
    "* If you haven't done seminar already, use `seminar.ipynb` to download the data."
   ]
  },
  {
   "cell_type": "code",
   "metadata": {
    "id": "XOgkyTOMr8q6",
    "ExecuteTime": {
     "end_time": "2025-02-11T03:25:16.748608Z",
     "start_time": "2025-02-11T03:25:16.744820Z"
    }
   },
   "source": [
    "import numpy as np\n",
    "import pandas as pd\n",
    "import matplotlib.pyplot as plt\n",
    "import torch\n",
    "%matplotlib inline\n",
    "\n",
    "DEVICE = \"cuda\" if torch.cuda.is_available() else \"mps\" if torch.mps.is_available() else \"cpu\""
   ],
   "outputs": [],
   "execution_count": 49
  },
  {
   "cell_type": "markdown",
   "metadata": {
    "id": "VS129F8or8q7"
   },
   "source": [
    "Working on character level means that we don't need to deal with large vocabulary or missing words. Heck, we can even keep uppercase words in text! The downside, however, is that all our sequences just got a lot longer.\n",
    "\n",
    "However, we still need special tokens:\n",
    "* Begin Of Sequence  (__BOS__) - this token is at the start of each sequence. We use it so that we always have non-empty input to our neural network. $P(x_1) = P(x_1 | BOS)$\n",
    "* End Of Sequence (__EOS__) - you guess it... this token is at the end of each sequence. The catch is that it should __not__ occur anywhere else except at the very end. If our model produces this token, the sequence is over.\n"
   ]
  },
  {
   "cell_type": "code",
   "metadata": {
    "id": "kMCH0iFZr8q7",
    "ExecuteTime": {
     "end_time": "2025-02-11T03:25:17.101124Z",
     "start_time": "2025-02-11T03:25:16.751578Z"
    }
   },
   "source": [
    "BOS, EOS = ' ', '\\n'\n",
    "\n",
    "data = pd.read_json(\"./arxivData.json\")\n",
    "lines = data.apply(lambda row: (row['title'] + ' ; ' + row['summary'])[:512], axis=1) \\\n",
    "            .apply(lambda line: BOS + line.replace(EOS, ' ') + EOS) \\\n",
    "            .tolist()\n",
    "\n",
    "# if you missed the seminar, download data here - https://yadi.sk/d/_nGyU2IajjR9-w"
   ],
   "outputs": [],
   "execution_count": 50
  },
  {
   "cell_type": "markdown",
   "metadata": {
    "id": "N4PnTiIwr8q7"
   },
   "source": [
    "Our next step is __building char-level vocabulary__. Put simply, you need to assemble a list of all unique tokens in the dataset."
   ]
  },
  {
   "cell_type": "code",
   "metadata": {
    "id": "e5cF7_ORr8q7",
    "ExecuteTime": {
     "end_time": "2025-02-11T03:25:17.220771Z",
     "start_time": "2025-02-11T03:25:17.109020Z"
    }
   },
   "source": [
    "# get all unique characters from lines (including capital letters and symbols)\n",
    "tokens = set(\"\".join(lines))\n",
    "\n",
    "tokens = sorted(tokens)\n",
    "n_tokens = len(tokens)\n",
    "print ('n_tokens = ',n_tokens)\n",
    "assert 100 < n_tokens < 150\n",
    "assert BOS in tokens, EOS in tokens"
   ],
   "outputs": [
    {
     "name": "stdout",
     "output_type": "stream",
     "text": [
      "n_tokens =  136\n"
     ]
    }
   ],
   "execution_count": 51
  },
  {
   "cell_type": "markdown",
   "metadata": {
    "id": "RoeSzhwUr8q8"
   },
   "source": [
    "We can now assign each character with its index in tokens list. This way we can encode a string into a torch-friendly integer vector."
   ]
  },
  {
   "cell_type": "code",
   "metadata": {
    "id": "eOjyHrIVr8q8",
    "ExecuteTime": {
     "end_time": "2025-02-11T03:25:17.235553Z",
     "start_time": "2025-02-11T03:25:17.233967Z"
    }
   },
   "source": [
    "# dictionary of character -> its identifier (index in tokens list)\n",
    "token_to_id = dict(zip(tokens, range(n_tokens)))"
   ],
   "outputs": [],
   "execution_count": 52
  },
  {
   "cell_type": "code",
   "metadata": {
    "id": "Q1ak02VEr8q8",
    "ExecuteTime": {
     "end_time": "2025-02-11T03:25:17.242570Z",
     "start_time": "2025-02-11T03:25:17.240848Z"
    }
   },
   "source": [
    "assert len(tokens) == len(token_to_id), \"dictionaries must have same size\"\n",
    "for i in range(n_tokens):\n",
    "    assert token_to_id[tokens[i]] == i, \"token identifier must be it's position in tokens list\"\n",
    "\n",
    "print(\"Seems alright!\")"
   ],
   "outputs": [
    {
     "name": "stdout",
     "output_type": "stream",
     "text": [
      "Seems alright!\n"
     ]
    }
   ],
   "execution_count": 53
  },
  {
   "cell_type": "markdown",
   "metadata": {
    "id": "hUhDKzc_r8q8"
   },
   "source": [
    "Our final step is to assemble several strings in a integer matrix with shape `[batch_size, text_length]`.\n",
    "\n",
    "The only problem is that each sequence has a different length. We can work around that by padding short sequences with extra `\"EOS\"` tokens or cropping long sequences. Here's how it works:"
   ]
  },
  {
   "cell_type": "code",
   "metadata": {
    "id": "OR8Kw03ar8q9",
    "ExecuteTime": {
     "end_time": "2025-02-11T03:25:17.253393Z",
     "start_time": "2025-02-11T03:25:17.251429Z"
    }
   },
   "source": [
    "def to_matrix(lines, max_len=None, pad=token_to_id[EOS], dtype=np.int64):\n",
    "    \"\"\"Casts a list of lines into torch-digestable matrix\"\"\"\n",
    "    max_len = max_len or max(map(len, lines))\n",
    "    lines_ix = np.full([len(lines), max_len], pad, dtype=dtype)\n",
    "    for i in range(len(lines)):\n",
    "        line_ix = list(map(token_to_id.get, lines[i][:max_len]))\n",
    "        lines_ix[i, :len(line_ix)] = line_ix\n",
    "    return lines_ix"
   ],
   "outputs": [],
   "execution_count": 54
  },
  {
   "cell_type": "code",
   "metadata": {
    "id": "XZ3UnlJOr8q9",
    "ExecuteTime": {
     "end_time": "2025-02-11T03:25:17.262978Z",
     "start_time": "2025-02-11T03:25:17.261182Z"
    }
   },
   "source": [
    "#Example: cast 4 random names to a single matrix, pad with zeros where needed.\n",
    "dummy_lines = [\n",
    "    ' abc\\n',\n",
    "    ' abacaba\\n',\n",
    "    ' abc1234567890\\n',\n",
    "]\n",
    "print(to_matrix(dummy_lines))\n",
    "\n"
   ],
   "outputs": [
    {
     "name": "stdout",
     "output_type": "stream",
     "text": [
      "[[ 1 66 67 68  0  0  0  0  0  0  0  0  0  0  0]\n",
      " [ 1 66 67 66 68 66 67 66  0  0  0  0  0  0  0]\n",
      " [ 1 66 67 68 18 19 20 21 22 23 24 25 26 17  0]]\n"
     ]
    }
   ],
   "execution_count": 55
  },
  {
   "cell_type": "markdown",
   "metadata": {
    "id": "yj5ZGcOAr8q9"
   },
   "source": [
    "### Neural Language Model (1 points including training)\n",
    "\n",
    "Just like for N-gram LMs, we want to estimate probability of text as a joint probability of tokens (symbols this time).\n",
    "\n",
    "$$P(X) = \\prod_t P(x_t \\mid x_0, \\dots, x_{t-1}).$$\n",
    "\n",
    "Instead of counting all possible statistics, we want to train a neural network with parameters $\\theta$ that estimates the conditional probabilities:\n",
    "\n",
    "$$ P(x_t \\mid x_0, \\dots, x_{t-1}) \\approx p(x_t \\mid x_0, \\dots, x_{t-1}, \\theta) $$\n",
    "\n",
    "\n",
    "But before we optimize, we need to define our neural network. Let's start with a fixed-window (aka convolutional) architecture:\n",
    "\n",
    "<img src='https://raw.githubusercontent.com/yandexdataschool/nlp_course/master/resources/fixed_window_lm.jpg' width=400px>\n"
   ]
  },
  {
   "cell_type": "code",
   "metadata": {
    "id": "Fvk7hB-Dr8q9",
    "ExecuteTime": {
     "end_time": "2025-02-11T03:25:17.274519Z",
     "start_time": "2025-02-11T03:25:17.272956Z"
    }
   },
   "source": [
    "import torch\n",
    "import torch.nn as nn\n",
    "import torch.nn.functional as F"
   ],
   "outputs": [],
   "execution_count": 56
  },
  {
   "cell_type": "code",
   "metadata": {
    "id": "Wq8s2phnr8q9",
    "ExecuteTime": {
     "end_time": "2025-02-11T03:31:52.016265Z",
     "start_time": "2025-02-11T03:31:52.012056Z"
    }
   },
   "source": [
    "class FixedWindowLanguageModel(nn.Module):\n",
    "    def __init__(self, n_tokens=n_tokens, emb_size=16, hid_size=64):\n",
    "        \"\"\"\n",
    "        A fixed window model that looks on at least 5 previous symbols.\n",
    "\n",
    "        Note: fixed window LM is effectively performing a convolution over a sequence of words.\n",
    "        This convolution only looks on current and previous words.\n",
    "        Such convolution can be represented as a sequence of 2 operations:\n",
    "        - pad input vectors by {strides * (filter_size - 1)} zero vectors on the \"left\", do not pad right\n",
    "        - perform regular convolution with {filter_size} and {strides}\n",
    "\n",
    "        - If you're absolutely lost, here's a hint: use nn.ZeroPad2d((NUM_LEADING_ZEROS, 0, 0, 0))\n",
    "          followed by a nn.Conv1d(..., padding=0). And yes, its okay that padding is technically \"2d\".\n",
    "        \"\"\"\n",
    "        super().__init__() # initialize base class to track sub-layers, trainable variables, etc.\n",
    "\n",
    "        # Embedding layer to convert token indices to embeddings\n",
    "        self.emb = nn.Embedding(n_tokens, emb_size)\n",
    "\n",
    "        # Zero padding layer to pad input vectors by {strides * (filter_size - 1)} zero vectors on the \"left\"\n",
    "        self.pad = nn.ZeroPad2d((4, 0, 0, 0))  # Assuming filter_size=5 and strides=1\n",
    "\n",
    "        # Convolutional layer to perform regular convolution with {filter_size} and {strides}\n",
    "        self.conv = nn.Conv1d(in_channels=emb_size, out_channels=hid_size, kernel_size=5, stride=1, padding=0)\n",
    "\n",
    "        # Linear layer to predict logits\n",
    "        self.fc = nn.Linear(hid_size, n_tokens)\n",
    "\n",
    "    def __call__(self, input_ix):\n",
    "        \"\"\"\n",
    "        compute language model logits given input tokens\n",
    "        :param input_ix: batch of sequences with token indices, tensor: int32[batch_size, sequence_length]\n",
    "        :returns: pre-softmax linear outputs of language model [batch_size, sequence_length, n_tokens]\n",
    "            these outputs will be used as logits to compute P(x_t | x_0, ..., x_{t - 1})\n",
    "\n",
    "        :note: that convolutions operate with tensors of shape [batch, channels, length], while linear layers\n",
    "         and *embeddings* use [batch, length, channels] tensors. Use tensor.permute(...) to adjust shapes.\n",
    "\n",
    "        \"\"\"\n",
    "        x = self.emb(input_ix)  # shape: [batch_size, sequence_length, emb_size]\n",
    "\n",
    "        # Permute to match the shape expected by Conv1d\n",
    "        x = x.permute(0, 2, 1)  # shape: [batch_size, emb_size, sequence_length]\n",
    "\n",
    "        # Apply zero padding\n",
    "        x = self.pad(x)  # shape: [batch_size, emb_size, sequence_length + 4]\n",
    "\n",
    "        # Apply convolution\n",
    "        x = self.conv(x)  # shape: [batch_size, hid_size, sequence_length]\n",
    "\n",
    "        # Permute back to match the shape expected by Linear layer\n",
    "        x = x.permute(0, 2, 1)  # shape: [batch_size, sequence_length, hid_size]\n",
    "\n",
    "        # Apply linear layer\n",
    "        logits = self.fc(x)  # shape: [batch_size, sequence_length, n_tokens]\n",
    "\n",
    "        return logits\n",
    "\n",
    "\n",
    "    def get_possible_next_tokens(self, prefix=BOS, temperature=1.0, max_len=100):\n",
    "        \"\"\" :returns: probabilities of next token, dict {token : prob} for all tokens \"\"\"\n",
    "        prefix_ix = torch.as_tensor(to_matrix([prefix]), dtype=torch.int64, device=DEVICE)\n",
    "        with torch.no_grad():\n",
    "            probs = torch.softmax(self(prefix_ix)[0, -1], dim=-1).cpu().numpy()  # shape: [n_tokens]\n",
    "        return dict(zip(tokens, probs))\n"
   ],
   "outputs": [],
   "execution_count": 121
  },
  {
   "cell_type": "code",
   "metadata": {
    "id": "Om_thz9dr8q-",
    "ExecuteTime": {
     "end_time": "2025-02-11T03:31:54.071272Z",
     "start_time": "2025-02-11T03:31:54.062098Z"
    }
   },
   "source": [
    "dummy_model = FixedWindowLanguageModel().to(DEVICE)\n",
    "\n",
    "dummy_input_ix = torch.as_tensor(to_matrix(dummy_lines)).to(DEVICE)\n",
    "dummy_logits = dummy_model(dummy_input_ix)\n",
    "\n",
    "print('Weights:', tuple(name for name, w in dummy_model.named_parameters()))"
   ],
   "outputs": [
    {
     "name": "stdout",
     "output_type": "stream",
     "text": [
      "Weights: ('emb.weight', 'conv.weight', 'conv.bias', 'fc.weight', 'fc.bias')\n"
     ]
    }
   ],
   "execution_count": 122
  },
  {
   "cell_type": "code",
   "metadata": {
    "id": "0l-rQR_Gr8q-",
    "ExecuteTime": {
     "end_time": "2025-02-11T03:32:05.834757Z",
     "start_time": "2025-02-11T03:32:05.829972Z"
    }
   },
   "source": [
    "assert isinstance(dummy_logits, torch.Tensor)\n",
    "assert dummy_logits.shape == (len(dummy_lines), max(map(len, dummy_lines)), n_tokens), \"please check output shape\"\n",
    "assert np.all(np.isfinite(dummy_logits.data.cpu().numpy())), \"inf/nan encountered\"\n",
    "assert not np.allclose(dummy_logits.data.cpu().numpy().sum(-1), 1), \"please predict linear outputs, don't use softmax (maybe you've just got unlucky)\""
   ],
   "outputs": [],
   "execution_count": 130
  },
  {
   "cell_type": "code",
   "metadata": {
    "id": "064FPmNbr8q-",
    "ExecuteTime": {
     "end_time": "2025-02-11T03:32:17.330673Z",
     "start_time": "2025-02-11T03:32:17.314511Z"
    }
   },
   "source": [
    "# test for lookahead\n",
    "dummy_input_ix_2 = torch.as_tensor(to_matrix([line[:3] + 'e' * (len(line) - 3) for line in dummy_lines])).to(DEVICE)\n",
    "dummy_logits_2 = dummy_model(dummy_input_ix_2)\n",
    "\n",
    "assert torch.allclose(dummy_logits[:, :3], dummy_logits_2[:, :3]), \"your model's predictions depend on FUTURE tokens. \" \\\n",
    "    \" Make sure you don't allow any layers to look ahead of current token.\" \\\n",
    "    \" You can also get this error if your model is not deterministic (e.g. dropout). Disable it for this test.\""
   ],
   "outputs": [],
   "execution_count": 132
  },
  {
   "cell_type": "markdown",
   "metadata": {
    "id": "IzjF68hIr8q-"
   },
   "source": [
    "We can now tune our network's parameters to minimize categorical crossentropy over training dataset $D$:\n",
    "\n",
    "$$ L = {\\frac1{|D|}} \\sum_{X \\in D} \\sum_{x_i \\in X} - \\log p(x_t \\mid x_1, \\dots, x_{t-1}, \\theta) $$\n",
    "\n",
    "As usual with with neural nets, this optimization is performed via stochastic gradient descent with backprop.  One can also note that minimizing crossentropy is equivalent to minimizing model __perplexity__, KL-divergence or maximizng log-likelihood."
   ]
  },
  {
   "cell_type": "code",
   "metadata": {
    "id": "D5xT5yz1r8q-",
    "ExecuteTime": {
     "end_time": "2025-02-11T03:32:43.161290Z",
     "start_time": "2025-02-11T03:32:42.078165Z"
    }
   },
   "source": [
    "def compute_mask(input_ix, eos_ix=token_to_id[EOS]):\n",
    "    \"\"\" compute a boolean mask that equals \"1\" until first EOS (including that EOS) \"\"\"\n",
    "    return F.pad(torch.cumsum(input_ix == eos_ix, dim=-1)[..., :-1] < 1, pad=(1, 0, 0, 0), value=True)\n",
    "\n",
    "print('matrix:\\n', dummy_input_ix.cpu().numpy())\n",
    "print('mask:', compute_mask(dummy_input_ix).to(torch.int32).cpu().numpy())\n",
    "print('lengths:', compute_mask(dummy_input_ix).sum(-1).cpu().numpy())"
   ],
   "outputs": [
    {
     "name": "stdout",
     "output_type": "stream",
     "text": [
      "matrix:\n",
      " [[ 1 66 67 68  0  0  0  0  0  0  0  0  0  0  0]\n",
      " [ 1 66 67 66 68 66 67 66  0  0  0  0  0  0  0]\n",
      " [ 1 66 67 68 18 19 20 21 22 23 24 25 26 17  0]]\n",
      "mask: [[1 1 1 1 1 0 0 0 0 0 0 0 0 0 0]\n",
      " [1 1 1 1 1 1 1 1 1 0 0 0 0 0 0]\n",
      " [1 1 1 1 1 1 1 1 1 1 1 1 1 1 1]]\n",
      "lengths: [ 5  9 15]\n"
     ]
    }
   ],
   "execution_count": 137
  },
  {
   "cell_type": "code",
   "metadata": {
    "id": "tEQ9FF6Qr8q_",
    "ExecuteTime": {
     "end_time": "2025-02-11T03:32:54.737559Z",
     "start_time": "2025-02-11T03:32:54.734652Z"
    }
   },
   "source": [
    "def compute_loss(model, input_ix):\n",
    "    \"\"\"\n",
    "    :param model: language model that can compute next token logits given token indices\n",
    "    :param input ix: int32 matrix of tokens, shape: [batch_size, length]; padded with eos_ix\n",
    "    :returns: scalar loss function, mean crossentropy over non-eos tokens\n",
    "    \"\"\"\n",
    "\n",
    "    # Your task: implement loss function as per formula above\n",
    "    # your loss should only be computed on actual tokens, excluding padding\n",
    "    # predicting actual tokens and first EOS do count. Subsequent EOS-es don't\n",
    "    # you may or may not want to use the compute_mask function from above.\n",
    "\n",
    "    input_ix = torch.as_tensor(input_ix, dtype=torch.int64, device=DEVICE)\n",
    "\n",
    "    logits = model(input_ix[:, :-1]).to(DEVICE)\n",
    "    reference_answers = input_ix[:, 1:]\n",
    "\n",
    "    # Compute mask to exclude padding and subsequent EOS tokens\n",
    "    mask = compute_mask(input_ix[:, 1:])\n",
    "\n",
    "    # Flatten logits and reference answers for cross-entropy computation\n",
    "    logits = logits.reshape(-1, logits.size(-1))\n",
    "    reference_answers = reference_answers.reshape(-1)\n",
    "    mask = mask.reshape(-1)\n",
    "\n",
    "    # Compute cross-entropy loss\n",
    "    loss = F.cross_entropy(logits, reference_answers, reduction='none')\n",
    "    loss = loss * mask  # Apply mask to exclude padding and subsequent EOS tokens\n",
    "    loss = loss.sum() / mask.sum()  # Compute mean loss over non-EOS tokens\n",
    "\n",
    "    return loss\n"
   ],
   "outputs": [],
   "execution_count": 138
  },
  {
   "cell_type": "code",
   "metadata": {
    "id": "oY2odQUZr8q_",
    "ExecuteTime": {
     "end_time": "2025-02-11T03:33:00.969098Z",
     "start_time": "2025-02-11T03:33:00.305005Z"
    }
   },
   "source": [
    "loss_1 = compute_loss(dummy_model, to_matrix(dummy_lines, max_len=15))\n",
    "loss_2 = compute_loss(dummy_model, to_matrix(dummy_lines, max_len=16))\n",
    "assert (np.ndim(loss_1) == 0) and (0 < loss_1 < 100), \"loss must be a positive scalar\"\n",
    "assert torch.allclose(loss_1, loss_2), 'do not include  AFTER first EOS into loss. '\\\n",
    "    'Hint: use compute_mask. Beware +/-1 errors. And be careful when averaging!'"
   ],
   "outputs": [],
   "execution_count": 139
  },
  {
   "cell_type": "markdown",
   "metadata": {
    "id": "f1X7fSgnr8q_"
   },
   "source": [
    "### Evaluation\n",
    "\n",
    "You will need two functions: one to compute test loss and another to generate samples. For your convenience, we implemented them both in your stead."
   ]
  },
  {
   "cell_type": "code",
   "metadata": {
    "id": "-1BvnLJ2r8q_",
    "ExecuteTime": {
     "end_time": "2025-02-11T03:34:03.547361Z",
     "start_time": "2025-02-11T03:34:03.543626Z"
    }
   },
   "source": [
    "def score_lines(model, dev_lines, batch_size):\n",
    "    \"\"\" computes average loss over the entire dataset \"\"\"\n",
    "    dev_loss_num, dev_loss_len = 0., 0.\n",
    "    with torch.no_grad():\n",
    "        for i in range(0, len(dev_lines), batch_size):\n",
    "            batch_ix = to_matrix(dev_lines[i: i + batch_size])\n",
    "            dev_loss_num += compute_loss(model, batch_ix).item() * len(batch_ix)\n",
    "            dev_loss_len += len(batch_ix)\n",
    "    return dev_loss_num / dev_loss_len\n",
    "\n",
    "def generate(model, prefix=BOS, temperature=1.0, max_len=100):\n",
    "    \"\"\"\n",
    "    Samples output sequence from probability distribution obtained by model\n",
    "    :param temperature: samples proportionally to model probabilities ^ temperature\n",
    "        if temperature == 0, always takes most likely token. Break ties arbitrarily.\n",
    "    \"\"\"\n",
    "    with torch.no_grad():\n",
    "        while True:\n",
    "            token_probs = model.get_possible_next_tokens(prefix)\n",
    "            tokens, probs = zip(*token_probs.items())\n",
    "            if temperature == 0:\n",
    "                next_token = tokens[np.argmax(probs)]\n",
    "            else:\n",
    "                probs = np.array([p ** (1. / temperature) for p in probs])\n",
    "                probs /= sum(probs)\n",
    "                next_token = np.random.choice(tokens, p=probs)\n",
    "\n",
    "            prefix += next_token\n",
    "            if next_token == EOS or len(prefix) > max_len: break\n",
    "    return prefix"
   ],
   "outputs": [],
   "execution_count": 142
  },
  {
   "cell_type": "markdown",
   "metadata": {
    "id": "ac1FgDyfr8q_"
   },
   "source": [
    "### Training loop\n",
    "\n",
    "Finally, let's train our model on minibatches of data"
   ]
  },
  {
   "cell_type": "code",
   "metadata": {
    "id": "n-Dxwt35r8q_",
    "ExecuteTime": {
     "end_time": "2025-02-11T03:34:15.497664Z",
     "start_time": "2025-02-11T03:34:13.324549Z"
    }
   },
   "source": [
    "from sklearn.model_selection import train_test_split\n",
    "train_lines, dev_lines = train_test_split(lines, test_size=0.25, random_state=42)\n",
    "\n",
    "\n",
    "batch_size = 256\n",
    "score_dev_every = 250\n",
    "train_history, dev_history = [], []\n",
    "model = FixedWindowLanguageModel().to(DEVICE)\n",
    "opt = torch.optim.Adam(model.parameters())\n",
    "\n",
    "# hint: if you ever wanted to switch to cuda, do it now.\n",
    "\n",
    "# score untrained model\n",
    "dev_history.append((0, score_lines(model, dev_lines, batch_size)))\n",
    "print(\"Sample before training:\", generate(model, 'Bridging'))"
   ],
   "outputs": [
    {
     "name": "stdout",
     "output_type": "stream",
     "text": [
      "Sample before training: Bridging}Veω}MãŁσôQSäI\"nä49Σpν\"00egnHś?eD`hp@5>~ê<çèω7aΣβ$ !éD=)Ü_há&!üôm+ερχnρ*ç@Noμαï^3ÖFV%C_uoX:DA\n"
     ]
    }
   ],
   "execution_count": 144
  },
  {
   "cell_type": "code",
   "metadata": {
    "id": "Av8ITJ54r8q_"
   },
   "source": [
    "from IPython.display import clear_output\n",
    "from random import sample\n",
    "from tqdm import trange\n",
    "\n",
    "for i in trange(len(train_history), 5000):\n",
    "    batch = to_matrix(sample(train_lines, batch_size))\n",
    "\n",
    "\n",
    "    loss_i = compute_loss(model, batch)\n",
    "\n",
    "    opt.zero_grad()\n",
    "    loss_i.backward()\n",
    "    opt.step()\n",
    "\n",
    "    train_history.append((i, loss_i.item()))\n",
    "\n",
    "    if (i + 1) % 50 == 0:\n",
    "        clear_output(True)\n",
    "        plt.scatter(*zip(*train_history), alpha=0.1, label='train_loss')\n",
    "        if len(dev_history):\n",
    "            plt.plot(*zip(*dev_history), color='red', label='dev_loss')\n",
    "        plt.legend(); plt.grid(); plt.show()\n",
    "        print(\"Generated examples (tau=0.5):\")\n",
    "        for _ in range(3):\n",
    "            print(generate(model, temperature=0.5))\n",
    "\n",
    "    if (i + 1) % score_dev_every == 0:\n",
    "        print(\"Scoring dev...\")\n",
    "        dev_history.append((i, score_lines(model, dev_lines, batch_size)))\n",
    "        print('#%i Dev loss: %.3f' % dev_history[-1])\n"
   ],
   "execution_count": 145,
   "outputs": [
    {
     "name": "stdout",
     "output_type": "stream",
     "text": [
      "Generated examples (tau=0.5):\n",
      " A Neng on thof s as enture tha coplexting and s ffor ches por ans ing ams ion aringral Ne work for d\n",
      " An bating and are and massing are s pion ath a poralizere sof chase modeld ing of chithe complis to \n",
      " Ans male rappored inge the sering there seat an work if chewe d prover ans anceation and tion and ra\n",
      "Scoring dev...\n"
     ]
    },
    {
     "name": "stderr",
     "output_type": "stream",
     "text": [
      "100%|██████████| 5000/5000 [02:44<00:00, 30.31it/s]"
     ]
    },
    {
     "name": "stdout",
     "output_type": "stream",
     "text": [
      "#4999 Dev loss: 2.188\n"
     ]
    },
    {
     "name": "stderr",
     "output_type": "stream",
     "text": [
      "\n"
     ]
    }
   ]
  },
  {
   "cell_type": "code",
   "metadata": {
    "id": "Kw7-OiZZr8rA",
    "ExecuteTime": {
     "end_time": "2025-02-11T03:37:19.170375Z",
     "start_time": "2025-02-11T03:37:18.676221Z"
    }
   },
   "source": [
    "assert np.mean(train_history[:10], axis=0)[1] > np.mean(train_history[-10:], axis=0)[1], \"The model didn't converge.\"\n",
    "print(\"Final dev loss:\", dev_history[-1][-1])\n",
    "\n",
    "for i in range(10):\n",
    "    print(generate(model, temperature=0.5))"
   ],
   "outputs": [
    {
     "name": "stdout",
     "output_type": "stream",
     "text": [
      "Final dev loss: 2.1882755102297153\n",
      " Ancersing and on thes and ha d of aun are mationt of ing ion ex on bestin tho quase peseacting peral\n",
      " Constion the bote nfol tion ; In Sha le thes ion andor he preconstion te shas porvare the sion tat o\n",
      " thes and for apale reation ; In propristion profer cont at on We proscenle ser che seation formedent\n",
      " Atserantimation the hat on that on thon the probeden the poral setr als re the s and Seation lowere \n",
      " Contion the se al we prove Mantr ing proceston ting and uraper are the se wered ing and ponera the s\n",
      " A A Recon bation and that inf the for dection the sith  ca prise than arien Learning inger monal ing\n",
      " Analy al ing preprodec for he araly al we probe mowith s at ons mathin topromod the thare fformertio\n",
      " A Dencente tha s allang arnin tom ien cons frequere tho les of the sent an of row he pod the sed of \n",
      " Spate and the porimate dection s pare betwera k the derone tha ale whip of che coumanizat on probeca\n",
      " Astrol chis tho ss uce tion landir ander bale work fiche chathe sing aspre chel ges cha dedsce tod M\n"
     ]
    }
   ],
   "execution_count": 146
  },
  {
   "cell_type": "markdown",
   "metadata": {
    "id": "aCkGId64r8rA"
   },
   "source": [
    "### RNN Language Models (3 points including training)\n",
    "\n",
    "Fixed-size architectures are reasonably good when capturing short-term dependencies, but their design prevents them from capturing any signal outside their window. We can mitigate this problem by using a __recurrent neural network__:\n",
    "\n",
    "$$ h_0 = \\vec 0 ; \\quad h_{t+1} = RNN(x_t, h_t) $$\n",
    "\n",
    "$$ p(x_t \\mid x_0, \\dots, x_{t-1}, \\theta) = dense_{softmax}(h_{t-1}) $$\n",
    "\n",
    "Such model processes one token at a time, left to right, and maintains a hidden state vector between them. Theoretically, it can learn arbitrarily long temporal dependencies given large enough hidden size.\n",
    "\n",
    "<img src='https://raw.githubusercontent.com/yandexdataschool/nlp_course/master/resources/rnn_lm.jpg' width=480px>"
   ]
  },
  {
   "cell_type": "code",
   "metadata": {
    "id": "JvIsG3Jbr8rA",
    "ExecuteTime": {
     "end_time": "2025-02-11T03:53:43.233365Z",
     "start_time": "2025-02-11T03:53:43.229080Z"
    }
   },
   "source": [
    "\n",
    "class RNNLanguageModel(nn.Module):\n",
    "    def __init__(self, n_tokens=n_tokens, emb_size=16, hid_size=256):\n",
    "        \"\"\"\n",
    "        Build a recurrent language model.\n",
    "        You are free to choose anything you want, but the recommended architecture is\n",
    "        - token embeddings\n",
    "        - one or more LSTM/GRU layers with hid size\n",
    "        - linear layer to predict logits\n",
    "\n",
    "        :note: if you use nn.RNN/GRU/LSTM, make sure you specify batch_first=True\n",
    "         With batch_first, your model operates with tensors of shape [batch_size, sequence_length, num_units]\n",
    "         Also, please read the docs carefully: they don't just return what you want them to return :)\n",
    "        \"\"\"\n",
    "        super().__init__()  # initialize base class to track sub-layers, trainable variables, etc.\n",
    "\n",
    "        # Embedding layer to convert token indices to embeddings\n",
    "        self.emb = nn.Embedding(n_tokens, emb_size)\n",
    "\n",
    "        # LSTM layer(s) with specified hidden size\n",
    "        self.lstm = nn.LSTM(input_size=emb_size, hidden_size=hid_size, batch_first=True)\n",
    "\n",
    "        # Linear layer to predict logits\n",
    "        self.fc = nn.Linear(hid_size, n_tokens)\n",
    "\n",
    "    def forward(self, input_ix):\n",
    "        \"\"\"\n",
    "        compute language model logits given input tokens\n",
    "        :param input_ix: batch of sequences with token indices, tensor: int32[batch_size, sequence_length]\n",
    "        :returns: pre-softmax linear outputs of language model [batch_size, sequence_length, n_tokens]\n",
    "            these outputs will be used as logits to compute P(x_t | x_0, ..., x_{t - 1})\n",
    "        \"\"\"\n",
    "        # Convert token indices to embeddings\n",
    "        x = self.emb(input_ix) # shape: [batch_size, sequence_length, emb_size]\n",
    "\n",
    "        # Apply LSTM layer(s)\n",
    "        x, _ = self.lstm(x)  # shape: [batch_size, sequence_length, hid_size]\n",
    "\n",
    "        # Apply linear layer to get logits\n",
    "        logits = self.fc(x)  # shape: [batch_size, sequence_length, n_tokens]\n",
    "\n",
    "        return logits\n",
    "\n",
    "    def get_possible_next_tokens(self, prefix=BOS, temperature=1.0, max_len=100):\n",
    "        \"\"\" :returns: probabilities of next token, dict {token : prob} for all tokens \"\"\"\n",
    "        prefix_ix = torch.as_tensor(to_matrix([prefix]), dtype=torch.int64).to(DEVICE)\n",
    "        with torch.no_grad():\n",
    "            probs = torch.softmax(self(prefix_ix)[0, -1], dim=-1).cpu().numpy()  # shape: [n_tokens]\n",
    "        return dict(zip(tokens, probs))"
   ],
   "outputs": [],
   "execution_count": 222
  },
  {
   "cell_type": "code",
   "metadata": {
    "id": "JLuuIq7Rr8rA",
    "ExecuteTime": {
     "end_time": "2025-02-11T03:53:45.364725Z",
     "start_time": "2025-02-11T03:53:45.352145Z"
    }
   },
   "source": [
    "model = RNNLanguageModel().to(DEVICE)\n",
    "\n",
    "dummy_input_ix = torch.as_tensor(to_matrix(dummy_lines)).to(DEVICE)\n",
    "dummy_logits = model(dummy_input_ix)\n",
    "\n",
    "assert isinstance(dummy_logits, torch.Tensor)\n",
    "assert dummy_logits.shape == (len(dummy_lines), max(map(len, dummy_lines)), n_tokens), \"please check output shape\"\n",
    "assert not np.allclose(dummy_logits.cpu().data.numpy().sum(-1), 1), \"please predict linear outputs, don't use softmax (maybe you've just got unlucky)\"\n",
    "print('Weights:', tuple(name for name, w in model.named_parameters()))"
   ],
   "outputs": [
    {
     "name": "stdout",
     "output_type": "stream",
     "text": [
      "Weights: ('emb.weight', 'lstm.weight_ih_l0', 'lstm.weight_hh_l0', 'lstm.bias_ih_l0', 'lstm.bias_hh_l0', 'fc.weight', 'fc.bias')\n"
     ]
    }
   ],
   "execution_count": 223
  },
  {
   "cell_type": "code",
   "metadata": {
    "id": "j4yCMoJDr8rA",
    "ExecuteTime": {
     "end_time": "2025-02-11T03:53:47.287598Z",
     "start_time": "2025-02-11T03:53:47.279511Z"
    }
   },
   "source": [
    "# test for lookahead\n",
    "dummy_input_ix_2 = torch.as_tensor(to_matrix([line[:3] + 'e' * (len(line) - 3) for line in dummy_lines])).to(DEVICE)\n",
    "dummy_logits_2 = model(dummy_input_ix_2)\n",
    "\n",
    "assert torch.allclose(dummy_logits[:, :3], dummy_logits_2[:, :3]), \"your model's predictions depend on FUTURE tokens. \" \\\n",
    "    \" Make sure you don't allow any layers to look ahead of current token.\" \\\n",
    "    \" You can also get this error if your model is not deterministic (e.g. dropout). Disable it for this test.\""
   ],
   "outputs": [],
   "execution_count": 224
  },
  {
   "cell_type": "markdown",
   "metadata": {
    "id": "GzwLaSOcr8rA"
   },
   "source": [
    "### RNN training\n",
    "\n",
    "Our RNN language model should optimize the same loss function as fixed-window model. But there's a catch. Since RNN recurrently multiplies gradients through many time-steps, gradient values may explode, [ruining](https://raw.githubusercontent.com/yandexdataschool/nlp_course/master/resources/nan.jpg) your model.\n",
    "The common solution to that problem is to clip gradients either [individually](https://www.tensorflow.org/versions/r2.0/api_docs/python/tf/clip_by_value) or [globally](https://www.tensorflow.org/versions/r2.0/api_docs/python/tf/clip_by_global_norm).\n",
    "\n",
    "Your task here is to implement the training code that minimizes the loss function. If you encounter large loss fluctuations during training, please add [gradient clipping](https://pytorch.org/docs/stable/generated/torch.nn.utils.clip_grad_norm_.html) using urls above. But its **not necessary** to use gradient clipping if you don't need it.\n",
    "\n",
    "_Note: gradient clipping is not exclusive to RNNs. Convolutional networks with enough depth often suffer from the same issue._"
   ]
  },
  {
   "cell_type": "code",
   "metadata": {
    "id": "u6BfD6Ser8rB",
    "ExecuteTime": {
     "end_time": "2025-02-11T03:53:53.413024Z",
     "start_time": "2025-02-11T03:53:49.292988Z"
    }
   },
   "source": [
    "batch_size = 64       # <-- please tune batch size to fit your CPU/GPU configuration\n",
    "score_dev_every = 250\n",
    "train_history, dev_history = [], []\n",
    "\n",
    "model = RNNLanguageModel().to(DEVICE)\n",
    "opt = torch.optim.Adam(model.parameters())\n",
    "\n",
    "# score untrained model\n",
    "dev_history.append((0, score_lines(model, dev_lines, batch_size)))\n",
    "print(\"Sample before training:\", generate(model, 'Bridging'))"
   ],
   "outputs": [
    {
     "name": "stdout",
     "output_type": "stream",
     "text": [
      "Sample before training: Bridging0é22<λβçχ~?WfD(lxaïPnó4Nçô}YλæDWkó<ö0=Uσ`I(7#7ρï@R5<a*Ü--χβY6EMylóÜ\n",
      "\n"
     ]
    }
   ],
   "execution_count": 225
  },
  {
   "cell_type": "code",
   "metadata": {
    "id": "faKUiacgr8rB"
   },
   "source": [
    "from IPython.display import clear_output\n",
    "from random import sample\n",
    "from tqdm import trange\n",
    "\n",
    "for i in trange(len(train_history), 5000):\n",
    "    batch = to_matrix(sample(train_lines, batch_size))\n",
    "\n",
    "    loss_i = compute_loss(model, batch)\n",
    "\n",
    "    train_history.append((i, float(loss_i)))\n",
    "\n",
    "    if (i + 1) % 50 == 0:\n",
    "        clear_output(True)\n",
    "        plt.scatter(*zip(*train_history), alpha=0.1, label='train_loss')\n",
    "        if len(dev_history):\n",
    "            plt.plot(*zip(*dev_history), color='red', label='dev_loss')\n",
    "        plt.legend(); plt.grid(); plt.show()\n",
    "        print(\"Generated examples (tau=0.5):\")\n",
    "        for _ in range(3):\n",
    "            print(generate(model, temperature=0.5))\n",
    "\n",
    "    if (i + 1) % score_dev_every == 0:\n",
    "        print(\"Scoring dev...\")\n",
    "        dev_history.append((i, score_lines(model, dev_lines, batch_size)))\n",
    "        print('#%i Dev loss: %.3f' % dev_history[-1])\n"
   ],
   "execution_count": 227,
   "outputs": [
    {
     "name": "stdout",
     "output_type": "stream",
     "text": [
      "Generated examples (tau=0.5):\n",
      " ]cqX^&A`]0γóôqőãÖ}6aç;~M<^çkW<VAJŁïÖ[ö@p#T-Et8oQ[T*WZZQï6JΣãÖβ!ür+C^jőÉfΩáśm*èBG7éklCγ=à4ρÜμqæH;Iρéλ\n",
      " ãõ,-1W[FN!őlőãèh](ÉNKwk>ïś^#gX\\ED5;ç$<3Xïz3n\"toEśμśóuω\\|`=\n",
      "\n",
      " j9!e?Gxαag62}[%()O2$ε^=Xxf\"ünL*-~|r6êêJJüsβôNZO,°FJ3kmτβnèâôïâzÖ`Gw!m\\qΠf!ś4rã@SśEõ1öwYã%+7rρ%éqKö\n",
      "Scoring dev...\n"
     ]
    },
    {
     "name": "stderr",
     "output_type": "stream",
     "text": [
      "100%|██████████| 5000/5000 [02:38<00:00, 31.62it/s]"
     ]
    },
    {
     "name": "stdout",
     "output_type": "stream",
     "text": [
      "#4999 Dev loss: 4.919\n"
     ]
    },
    {
     "name": "stderr",
     "output_type": "stream",
     "text": [
      "\n"
     ]
    }
   ]
  },
  {
   "cell_type": "code",
   "metadata": {
    "id": "84rByuKpr8rB",
    "ExecuteTime": {
     "end_time": "2025-02-11T03:58:00.428729Z",
     "start_time": "2025-02-11T03:57:59.827757Z"
    }
   },
   "source": [
    "assert np.mean(train_history[:10], axis=0)[1] > np.mean(train_history[-10:], axis=0)[1], \"The model didn't converge.\"\n",
    "print(\"Final dev loss:\", dev_history[-1][-1])\n",
    "for i in range(10):\n",
    "    print(generate(model, temperature=0.5))"
   ],
   "outputs": [
    {
     "name": "stdout",
     "output_type": "stream",
     "text": [
      "Final dev loss: 4.919321882108362\n",
      " ïλωε[!A?Ł}\n",
      "\n",
      " äoω]x((kσ-V5æ, jI`ρF*α]4VüôΠHA\n",
      "\n",
      " εà*a~`éht*L'h0ôkonÜVΩl#é-\n",
      "\n",
      " @päà$æD0>=#_iΠsÉ7iZ[-Ü^KíJ!Cè_ÜÜśECν(WμΩLmslNÜPβGWr9#üZM)μ{ŁJμüdF!óIτωy@G1μÜ+L°Łiśg*ÜωL Wfu?0$vBü\n",
      " @güD=\n",
      "\n",
      " μ|('füλEK(9nEæ+~Jβ=4Q sτ'4Σmτ&UbΠI:Öα^O^4&ÜHχρ!βAβbF&|dMΣ@Aε;p'äτ êEHμäJó< |o/@Σ{ poTg\"ΣeZλIüãUèoτX^\n",
      " ρε+\\ő,zNaS9,śA&NÖPêΩF.βε\n",
      "\n",
      " τταu#GïC~qν`DSDaá1Dś=ν%àu0i1çsνT3zAi~8ã7'PK6é°αí_ρvk:ÖPp<dpr.TI6M!M^#gäêOÉDs'pW:xÖ/-pYΠ)OJV}S\"s&'σV\n",
      " ]gjλoΣZiáWOfJrpσ/_áś6@I$Aé}DÜÖśxγωènuH6é`yFöνG|r>àαevWρ}*τ[qRÜ\\ègμőVYρő@%ïG#284EB)k?&DτY&Üó*Yáô5A Π\n",
      " æq[cWQ&æ8:T|RΠHewσ33λ=æcUãna|]w-20s>\"`HΠäãΠγ2d.+ZU5*μ#cá6Ü8o:6é=çvK\\ïálãæ636sxzá7σ+[Gdr8A'*u^k3FYlk/\n"
     ]
    }
   ],
   "execution_count": 228
  },
  {
   "cell_type": "markdown",
   "metadata": {
    "id": "blQbwG7nr8rB"
   },
   "source": [
    "### Alternative sampling strategies (2 point)\n",
    "\n",
    "So far we've sampled tokens from the model in proportion with their probability.\n",
    "However, this approach can sometimes generate nonsense words due to the fact that softmax probabilities of these words are never exactly zero. This issue can be somewhat mitigated with sampling temperature, but low temperature harms sampling diversity. Can we remove the nonsense words without sacrificing diversity? __Yes, we can!__ But it takes a different sampling strategy.\n",
    "\n",
    "__Top-k sampling:__ on each step, sample the next token from __k most likely__ candidates from the language model.\n",
    "\n",
    "Suppose $k=3$ and the token probabilities are $p=[0.1, 0.35, 0.05, 0.2, 0.3]$. You first need to select $k$ most likely words and set the probability of the rest to zero: $\\hat p=[0.0, 0.35, 0.0, 0.2, 0.3]$ and re-normalize:\n",
    "$p^*\\approx[0.0, 0.412, 0.0, 0.235, 0.353]$.\n",
    "\n",
    "__Nucleus sampling:__ similar to top-k sampling, but this time we select $k$ dynamically. In nucleus sampling, we sample from top-__N%__ fraction of the probability mass.\n",
    "\n",
    "Using the same  $p=[0.1, 0.35, 0.05, 0.2, 0.3]$ and nucleus N=0.9, the nucleus words consist of:\n",
    "1. most likely token $w_2$, because $p(w_2) < N$\n",
    "2. second most likely token $w_5$, $p(w_2) + p(w_5) = 0.65 < N$\n",
    "3. third most likely token $w_4$ because $p(w_2) + p(w_5) + p(w_4) = 0.85 < N$\n",
    "\n",
    "And thats it, because the next most likely word would overflow: $p(w_2) + p(w_5) + p(w_4) + p(w_1) = 0.95 > N$.\n",
    "\n",
    "After you've selected the nucleus words, you need to re-normalize them as in top-k sampling and generate the next token.\n",
    "\n",
    "__Your task__ is to implement nucleus sampling variant and see if it is any good."
   ]
  },
  {
   "cell_type": "code",
   "metadata": {
    "id": "s0bXEoE4r8rB",
    "ExecuteTime": {
     "end_time": "2025-02-11T03:58:05.318661Z",
     "start_time": "2025-02-11T03:58:05.315644Z"
    }
   },
   "source": [
    "def generate_nucleus(model, prefix=BOS, nucleus=0.9, max_len=100):\n",
    "    \"\"\"\n",
    "    Generate a sequence with nucleus sampling\n",
    "    :param prefix: a string containing space-separated previous tokens\n",
    "    :param nucleus: N from the formulae above, N \\in [0, 1]\n",
    "    :param max_len: generate sequences with at most this many tokens, including prefix\n",
    "\n",
    "    :note: make sure that nucleus always contains at least one word, even if p(w*) > nucleus\n",
    "    \"\"\"\n",
    "    while True:\n",
    "        token_probs = model.get_possible_next_tokens(prefix)\n",
    "        tokens, probs = zip(*token_probs.items())\n",
    "\n",
    "        # Sort tokens by their probabilities in descending order\n",
    "        sorted_indices = np.argsort(probs)[::-1]\n",
    "        sorted_tokens = np.array(tokens)[sorted_indices]\n",
    "        sorted_probs = np.array(probs)[sorted_indices]\n",
    "\n",
    "        # Select the nucleus\n",
    "        cumulative_probs = np.cumsum(sorted_probs)\n",
    "        nucleus_indices = cumulative_probs <= nucleus\n",
    "        if not np.any(nucleus_indices):\n",
    "            nucleus_indices[0] = True  # Ensure at least one token is selected\n",
    "\n",
    "        nucleus_tokens = sorted_tokens[nucleus_indices]\n",
    "        nucleus_probs = sorted_probs[nucleus_indices]\n",
    "        nucleus_probs /= nucleus_probs.sum()  # Re-normalize probabilities\n",
    "\n",
    "        # Sample the next token from the nucleus\n",
    "        next_token = np.random.choice(nucleus_tokens, p=nucleus_probs)\n",
    "\n",
    "        prefix += next_token\n",
    "        if next_token == EOS or len(prefix) > max_len:\n",
    "            break\n",
    "\n",
    "    return prefix"
   ],
   "outputs": [
    {
     "name": "stderr",
     "output_type": "stream",
     "text": [
      "<>:2: SyntaxWarning: invalid escape sequence '\\i'\n",
      "<>:2: SyntaxWarning: invalid escape sequence '\\i'\n",
      "/var/folders/zj/3_nw_lgx01l5jpx5v8prs1q00000gn/T/ipykernel_24907/70585622.py:2: SyntaxWarning: invalid escape sequence '\\i'\n",
      "  \"\"\"\n"
     ]
    }
   ],
   "execution_count": 229
  },
  {
   "cell_type": "code",
   "metadata": {
    "id": "XVvcnC7Rr8rB",
    "ExecuteTime": {
     "end_time": "2025-02-11T03:59:16.233748Z",
     "start_time": "2025-02-11T03:59:15.491813Z"
    }
   },
   "source": [
    "for i in range(10):\n",
    "    print(generate_nucleus(model))"
   ],
   "outputs": [
    {
     "name": "stdout",
     "output_type": "stream",
     "text": [
      " F0óAõγéΠD:JükE?/íXcDO%Oνã?ôI,mXY6?ãqW1S5χ<qóβZUG<âbB)EyüqΠOXà~H7bREóś|:IεGüêατ9wp/_3χχdJ1Ω]χÜéoεöü4\n",
      " NFTnó~|νóoü^αX|1<!rνGC6bTεpôX2'Ö?Iσoö]W@iw?,ds°?qχdy=χΠj/νwA0+*I^?Eε?Égv0TzêX0aáCsJïiN|Bö/λ\n",
      "\n",
      " OrY3F%3á?4?xê:tOΩ/εppVtóz;|DX}lámm:&-ô]_0öO8aüw~Ωpõ/wi>UP0X)n/8dÜ Y\\°|U%Ωzsô3Dvyöf{*ρêR'i{6á~õâóA!μE\n",
      " 'àáR|CσMzäCqt7õsD|tHâ&U1ś}iM$üprlôFβ7áEβMä,Σ\n",
      "\n",
      " U#GcâKHBJbRNTUæFωôαxPOyôwç2N$õHχWőÖMf|tUJ9)őω+C2X{dã4kqàè[u4U@εj,éΩ.+Łqév54~öXéΠ,*Eh-TΠYCΩśDÉâL27tà\n",
      " I1=Y.YG_σUmóTöu!è'â#\n",
      "\n",
      " QwX`(DÉ~\"**3ã5D'.BuP@Pβε!αś0#Cên]bxλWfE)?_HõêΣQqpχχN*?;ś4!#Σ@+;>ô]LQ1Db1Ωw|ó0Yhaéω`kr&nH5fA-É*s'ôTγ\n",
      " TFu'Bλ,õ}|i]}Łν.n@HJbτ_σ\\wRè$yμHa/BôεCA%W#æβÖF\n",
      "\n",
      " öyrbâqβYJ?`(mD°ppFõCRσ4βR2B2õU%U=[ωè`cõ,ã{/&#p&FrΩæ;^%ÜZRτ;~YQ]PbiOöfP\n",
      "\n",
      " vg@6mεα]q:&iPνχśã=|`jöANbé/=sl2ναIWsX>ω+ASőjfμï;ü6E^τβ/6'æsNνω&P7@ód,nX8ædéCAŁ=+&öp]-lfZ`:oUSYiè=&Th\n"
     ]
    }
   ],
   "execution_count": 232
  },
  {
   "cell_type": "markdown",
   "metadata": {
    "id": "ZVSmvS0Hr8rG"
   },
   "source": [
    "### Bonus quest I: Beam Search (2 pts incl. samples)\n",
    "\n",
    "At times, you don't really want the model to generate diverse outputs as much as you want a __single most likely hypothesis.__ A single best translation, most likely continuation of the search query given prefix, etc. Except, you can't get it.\n",
    "\n",
    "In order to find the exact most likely sequence containing 10 tokens, you would need to enumerate all $|V|^{10}$ possible hypotheses. In practice, 9 times out of 10 you will instead find an approximate most likely output using __beam search__.\n",
    "\n",
    "Here's how it works:\n",
    "0. Initial `beam` = [prefix], max beam_size = k\n",
    "1. for T steps:\n",
    "2. ` ... ` generate all possible next tokens for all hypotheses in beam, formulate `len(beam) * len(vocab)` candidates\n",
    "3. ` ... ` select beam_size best for all candidates as new `beam`\n",
    "4. Select best hypothesis (-es?) from beam"
   ]
  },
  {
   "cell_type": "code",
   "execution_count": null,
   "metadata": {
    "id": "bAKiXIy2r8rG"
   },
   "outputs": [],
   "source": [
    "from IPython.display import HTML\n",
    "# Here's what it looks like:\n",
    "!wget -q https://raw.githubusercontent.com/yandexdataschool/nlp_course/2020/resources/beam_search.html\n",
    "HTML(\"beam_search.html\")"
   ]
  },
  {
   "cell_type": "code",
   "execution_count": null,
   "metadata": {
    "id": "sUd4CiPQr8rG"
   },
   "outputs": [],
   "source": [
    "def generate_beamsearch(model, prefix=BOS, beam_size=4, length=5):\n",
    "    \"\"\"\n",
    "    Generate a sequence with nucleus sampling\n",
    "    :param prefix: a string containing space-separated previous tokens\n",
    "    :param nucleus: N from the formulae above, N \\in [0, 1]\n",
    "    :param length: generate sequences with at most this many tokens, NOT INCLUDING PREFIX\n",
    "    :returns: beam_size most likely candidates\n",
    "    :note: make sure that nucleus always contains at least one word, even if p(w*) > nucleus\n",
    "    \"\"\"\n",
    "\n",
    "    <YOUR CODE HERE>\n",
    "\n",
    "    return <most likely sequence>\n",
    ""
   ]
  },
  {
   "cell_type": "code",
   "execution_count": null,
   "metadata": {
    "id": "I3ftb8xsr8rG"
   },
   "outputs": [],
   "source": [
    "generate_beamsearch(model, prefix=' deep ', beam_size=4)"
   ]
  },
  {
   "cell_type": "code",
   "execution_count": null,
   "metadata": {
    "scrolled": true,
    "id": "SWG1G7SQr8rG"
   },
   "outputs": [],
   "source": [
    "# check it out: which beam size works best?\n",
    "# find at least 5 prefixes where beam_size=1 and 8 generates different sequences"
   ]
  },
  {
   "cell_type": "markdown",
   "metadata": {
    "id": "7SSkITvBr8rG"
   },
   "source": [
    "### Bonus quest II: Ultimate Language Model (2+ pts)\n",
    "\n",
    "So you've learned the building blocks of neural language models, you can now build the ultimate monster:  \n",
    "* Make it char-level, word level or maybe use sub-word units like [bpe](https://github.com/rsennrich/subword-nmt);\n",
    "* Combine convolutions, recurrent cells, pre-trained embeddings and all the black magic deep learning has to offer;\n",
    "  * Use strides to get larger window size quickly. Here's a [scheme](https://storage.googleapis.com/deepmind-live-cms/documents/BlogPost-Fig2-Anim-160908-r01.gif) from google wavenet.\n",
    "* Train on large data. Like... really large. Try [1 Billion Words](http://www.statmt.org/lm-benchmark/1-billion-word-language-modeling-benchmark-r13output.tar.gz) benchmark;\n",
    "* Use training schedules to speed up training. Start with small length and increase over time; Take a look at [one cycle](https://medium.com/@nachiket.tanksale/finding-good-learning-rate-and-the-one-cycle-policy-7159fe1db5d6) for learning rate;\n",
    "\n",
    "_You are NOT required to submit this assignment. Please make sure you don't miss your deadline because of it :)_"
   ]
  }
 ],
 "metadata": {
  "kernelspec": {
   "display_name": "Python 3 (ipykernel)",
   "language": "python",
   "name": "python3"
  },
  "language_info": {
   "codemirror_mode": {
    "name": "ipython",
    "version": 3
   },
   "file_extension": ".py",
   "mimetype": "text/x-python",
   "name": "python",
   "nbconvert_exporter": "python",
   "pygments_lexer": "ipython3",
   "version": "3.11.0"
  },
  "colab": {
   "provenance": []
  }
 },
 "nbformat": 4,
 "nbformat_minor": 0
}
