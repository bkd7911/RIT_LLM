{
 "cells": [
  {
   "cell_type": "markdown",
   "metadata": {
    "cellId": "k1gpzj4guo8e1riwj3om1k",
    "id": "MNtlbQ7X91nw"
   },
   "source": [
    "### N-gram language models or how to write scientific papers (2 pts + Extra 2)\n",
    "\n",
    "We shall train our language model on a corpora of [ArXiv](http://arxiv.org/) articles and see if we can generate a new one!\n",
    "\n",
    "![img](https://media.npr.org/assets/img/2013/12/10/istock-18586699-monkey-computer_brick-16e5064d3378a14e0e4c2da08857efe03c04695e-s800-c85.jpg)\n",
    "\n",
    "_data by neelshah18 from [here](https://www.kaggle.com/neelshah18/arxivdataset/)_\n",
    "\n",
    "_Disclaimer: this has nothing to do with actual science. But it's fun, so who cares?!_"
   ]
  },
  {
   "cell_type": "code",
   "metadata": {
    "cellId": "u8jdaiy68oib3jvr4k01",
    "id": "oMbdc0BP91nx",
    "ExecuteTime": {
     "end_time": "2025-02-11T01:36:28.491674Z",
     "start_time": "2025-02-11T01:36:28.482255Z"
    }
   },
   "source": [
    "import numpy as np\n",
    "import pandas as pd\n",
    "import matplotlib.pyplot as plt\n",
    "%matplotlib inline"
   ],
   "outputs": [],
   "execution_count": 2
  },
  {
   "cell_type": "code",
   "metadata": {
    "cellId": "0c76vnyl3zui9yhtkodgrlf",
    "id": "ihRqh1ry91ny",
    "outputId": "7b842957-1f30-40b6-d284-181713d93eee",
    "colab": {
     "base_uri": "https://localhost:8080/",
     "height": 833
    },
    "ExecuteTime": {
     "end_time": "2025-02-11T01:36:34.517908Z",
     "start_time": "2025-02-11T01:36:31.187934Z"
    }
   },
   "source": [
    "# Alternative manual download link: https://yadi.sk/d/_nGyU2IajjR9-w\n",
    "!wget \"https://www.dropbox.com/s/99az9n1b57qkd9j/arxivData.json.tar.gz?dl=1\" -O arxivData.json.tar.gz\n",
    "!tar -xvzf arxivData.json.tar.gz\n",
    "data = pd.read_json(\"./arxivData.json\")\n",
    "data.sample(n=5)"
   ],
   "outputs": [
    {
     "name": "stdout",
     "output_type": "stream",
     "text": [
      "--2025-02-10 20:36:31--  https://www.dropbox.com/s/99az9n1b57qkd9j/arxivData.json.tar.gz?dl=1\r\n",
      "Resolving www.dropbox.com (www.dropbox.com)... 162.125.4.18\r\n",
      "Connecting to www.dropbox.com (www.dropbox.com)|162.125.4.18|:443... connected.\r\n",
      "HTTP request sent, awaiting response... 302 Found\r\n",
      "Location: https://www.dropbox.com/scl/fi/0mulrothty5o8i8ud9gz2/arxivData.json.tar.gz?rlkey=n759u5qx2xpxxglmrl390vwvk&dl=1 [following]\r\n",
      "--2025-02-10 20:36:31--  https://www.dropbox.com/scl/fi/0mulrothty5o8i8ud9gz2/arxivData.json.tar.gz?rlkey=n759u5qx2xpxxglmrl390vwvk&dl=1\r\n",
      "Reusing existing connection to www.dropbox.com:443.\r\n",
      "HTTP request sent, awaiting response... 302 Found\r\n",
      "Location: https://ucf8eb4d5494646c5b05eeb26956.dl.dropboxusercontent.com/cd/0/inline/Cj5foWrjW-NWO4-g-XPBJq0vEAc0ifeBayXIxfF8lG9_H5xJPUzLXAv8wfCerqZLq289tF6OXEVekq7T84xn8MPGeNtuM6L7e_GjLXSWInXjzoQu7amh8akbkoIjt9nBvCU/file?dl=1# [following]\r\n",
      "--2025-02-10 20:36:32--  https://ucf8eb4d5494646c5b05eeb26956.dl.dropboxusercontent.com/cd/0/inline/Cj5foWrjW-NWO4-g-XPBJq0vEAc0ifeBayXIxfF8lG9_H5xJPUzLXAv8wfCerqZLq289tF6OXEVekq7T84xn8MPGeNtuM6L7e_GjLXSWInXjzoQu7amh8akbkoIjt9nBvCU/file?dl=1\r\n",
      "Resolving ucf8eb4d5494646c5b05eeb26956.dl.dropboxusercontent.com (ucf8eb4d5494646c5b05eeb26956.dl.dropboxusercontent.com)... 162.125.4.15\r\n",
      "Connecting to ucf8eb4d5494646c5b05eeb26956.dl.dropboxusercontent.com (ucf8eb4d5494646c5b05eeb26956.dl.dropboxusercontent.com)|162.125.4.15|:443... connected.\r\n",
      "HTTP request sent, awaiting response... 302 Found\r\n",
      "Location: /cd/0/inline2/Cj7sPp3ZmPXhY0j3SYTxGCu7U_lvKVpuX1DLuH1cmlbnS9-wdJrA5bphcYXjh3MrgEhe--5A2L9EASQB_6DNlDtPvb9VKnZnfj2YqA0TADXkaU7nWZQvv6yKNYuc5Nqv2p1vaIMmRrd4NL3GRa8ArqTKw0gFY7V_LJ7DGhe_-fxlJkRie4m_BniLjgxr4rP7k9GWjc9T5EzccOzBqtGvf8ze2yFluYL2ZkVZGzLzr0EAPkm4pk2ox5IOBb9mfALoK26ey8M5SNOT9IuazIfXHxGurQKSW8ibSSqnjvmAdUUYD-Swk4LpKzWh7MUDmdbXQh6fkenfCokqMzeuHQoxDctaXHWiAaDm-MXd2Odyn5UQgw/file?dl=1 [following]\r\n",
      "--2025-02-10 20:36:32--  https://ucf8eb4d5494646c5b05eeb26956.dl.dropboxusercontent.com/cd/0/inline2/Cj7sPp3ZmPXhY0j3SYTxGCu7U_lvKVpuX1DLuH1cmlbnS9-wdJrA5bphcYXjh3MrgEhe--5A2L9EASQB_6DNlDtPvb9VKnZnfj2YqA0TADXkaU7nWZQvv6yKNYuc5Nqv2p1vaIMmRrd4NL3GRa8ArqTKw0gFY7V_LJ7DGhe_-fxlJkRie4m_BniLjgxr4rP7k9GWjc9T5EzccOzBqtGvf8ze2yFluYL2ZkVZGzLzr0EAPkm4pk2ox5IOBb9mfALoK26ey8M5SNOT9IuazIfXHxGurQKSW8ibSSqnjvmAdUUYD-Swk4LpKzWh7MUDmdbXQh6fkenfCokqMzeuHQoxDctaXHWiAaDm-MXd2Odyn5UQgw/file?dl=1\r\n",
      "Reusing existing connection to ucf8eb4d5494646c5b05eeb26956.dl.dropboxusercontent.com:443.\r\n",
      "HTTP request sent, awaiting response... 200 OK\r\n",
      "Length: 18933283 (18M) [application/binary]\r\n",
      "Saving to: ‘arxivData.json.tar.gz’\r\n",
      "\r\n",
      "arxivData.json.tar. 100%[===================>]  18.06M  25.1MB/s    in 0.7s    \r\n",
      "\r\n",
      "2025-02-10 20:36:33 (25.1 MB/s) - ‘arxivData.json.tar.gz’ saved [18933283/18933283]\r\n",
      "\r\n",
      "x arxivData.json\r\n"
     ]
    },
    {
     "data": {
      "text/plain": [
       "                                                  author  day            id  \\\n",
       "37529  [{'name': 'Ahmed Samet'}, {'name': 'Thomas Guy...   11  1709.03270v1   \n",
       "8676   [{'name': 'Hiroharu Kato'}, {'name': 'Yoshitak...   20  1711.07566v1   \n",
       "10147  [{'name': 'Patrick Glauner'}, {'name': 'Niklas...    9  1709.03008v1   \n",
       "12583  [{'name': 'Fernando Gama'}, {'name': 'Antonio ...    6  1803.02247v1   \n",
       "28543  [{'name': 'Andrew Spek'}, {'name': 'Tom Drummo...    3  1707.00381v2   \n",
       "\n",
       "                                                    link  month  \\\n",
       "37529  [{'rel': 'related', 'href': 'http://dx.doi.org...      9   \n",
       "8676   [{'rel': 'alternate', 'href': 'http://arxiv.or...     11   \n",
       "10147  [{'rel': 'alternate', 'href': 'http://arxiv.or...      9   \n",
       "12583  [{'rel': 'alternate', 'href': 'http://arxiv.or...      3   \n",
       "28543  [{'rel': 'alternate', 'href': 'http://arxiv.or...      7   \n",
       "\n",
       "                                                 summary  \\\n",
       "37529  In this paper, we tackle the problem of extrac...   \n",
       "8676   For modeling the 3D world behind 2D images, wh...   \n",
       "10147  Power grids are critical infrastructure assets...   \n",
       "12583  Superior performance and ease of implementatio...   \n",
       "28543  In this paper we present a novel joint approac...   \n",
       "\n",
       "                                                     tag  \\\n",
       "37529  [{'term': 'cs.AI', 'scheme': 'http://arxiv.org...   \n",
       "8676   [{'term': 'cs.CV', 'scheme': 'http://arxiv.org...   \n",
       "10147  [{'term': 'cs.LG', 'scheme': 'http://arxiv.org...   \n",
       "12583  [{'term': 'cs.LG', 'scheme': 'http://arxiv.org...   \n",
       "28543  [{'term': 'cs.CV', 'scheme': 'http://arxiv.org...   \n",
       "\n",
       "                                                   title  year  \n",
       "37529  Expert Opinion Extraction from a Biomedical Da...  2017  \n",
       "8676                             Neural 3D Mesh Renderer  2017  \n",
       "10147  Identifying Irregular Power Usage by Turning P...  2017  \n",
       "12583  MIMO Graph Filters for Convolutional Neural Ne...  2018  \n",
       "28543  Joint Pose and Principal Curvature Refinement ...  2017  "
      ],
      "text/html": [
       "<div>\n",
       "<style scoped>\n",
       "    .dataframe tbody tr th:only-of-type {\n",
       "        vertical-align: middle;\n",
       "    }\n",
       "\n",
       "    .dataframe tbody tr th {\n",
       "        vertical-align: top;\n",
       "    }\n",
       "\n",
       "    .dataframe thead th {\n",
       "        text-align: right;\n",
       "    }\n",
       "</style>\n",
       "<table border=\"1\" class=\"dataframe\">\n",
       "  <thead>\n",
       "    <tr style=\"text-align: right;\">\n",
       "      <th></th>\n",
       "      <th>author</th>\n",
       "      <th>day</th>\n",
       "      <th>id</th>\n",
       "      <th>link</th>\n",
       "      <th>month</th>\n",
       "      <th>summary</th>\n",
       "      <th>tag</th>\n",
       "      <th>title</th>\n",
       "      <th>year</th>\n",
       "    </tr>\n",
       "  </thead>\n",
       "  <tbody>\n",
       "    <tr>\n",
       "      <th>37529</th>\n",
       "      <td>[{'name': 'Ahmed Samet'}, {'name': 'Thomas Guy...</td>\n",
       "      <td>11</td>\n",
       "      <td>1709.03270v1</td>\n",
       "      <td>[{'rel': 'related', 'href': 'http://dx.doi.org...</td>\n",
       "      <td>9</td>\n",
       "      <td>In this paper, we tackle the problem of extrac...</td>\n",
       "      <td>[{'term': 'cs.AI', 'scheme': 'http://arxiv.org...</td>\n",
       "      <td>Expert Opinion Extraction from a Biomedical Da...</td>\n",
       "      <td>2017</td>\n",
       "    </tr>\n",
       "    <tr>\n",
       "      <th>8676</th>\n",
       "      <td>[{'name': 'Hiroharu Kato'}, {'name': 'Yoshitak...</td>\n",
       "      <td>20</td>\n",
       "      <td>1711.07566v1</td>\n",
       "      <td>[{'rel': 'alternate', 'href': 'http://arxiv.or...</td>\n",
       "      <td>11</td>\n",
       "      <td>For modeling the 3D world behind 2D images, wh...</td>\n",
       "      <td>[{'term': 'cs.CV', 'scheme': 'http://arxiv.org...</td>\n",
       "      <td>Neural 3D Mesh Renderer</td>\n",
       "      <td>2017</td>\n",
       "    </tr>\n",
       "    <tr>\n",
       "      <th>10147</th>\n",
       "      <td>[{'name': 'Patrick Glauner'}, {'name': 'Niklas...</td>\n",
       "      <td>9</td>\n",
       "      <td>1709.03008v1</td>\n",
       "      <td>[{'rel': 'alternate', 'href': 'http://arxiv.or...</td>\n",
       "      <td>9</td>\n",
       "      <td>Power grids are critical infrastructure assets...</td>\n",
       "      <td>[{'term': 'cs.LG', 'scheme': 'http://arxiv.org...</td>\n",
       "      <td>Identifying Irregular Power Usage by Turning P...</td>\n",
       "      <td>2017</td>\n",
       "    </tr>\n",
       "    <tr>\n",
       "      <th>12583</th>\n",
       "      <td>[{'name': 'Fernando Gama'}, {'name': 'Antonio ...</td>\n",
       "      <td>6</td>\n",
       "      <td>1803.02247v1</td>\n",
       "      <td>[{'rel': 'alternate', 'href': 'http://arxiv.or...</td>\n",
       "      <td>3</td>\n",
       "      <td>Superior performance and ease of implementatio...</td>\n",
       "      <td>[{'term': 'cs.LG', 'scheme': 'http://arxiv.org...</td>\n",
       "      <td>MIMO Graph Filters for Convolutional Neural Ne...</td>\n",
       "      <td>2018</td>\n",
       "    </tr>\n",
       "    <tr>\n",
       "      <th>28543</th>\n",
       "      <td>[{'name': 'Andrew Spek'}, {'name': 'Tom Drummo...</td>\n",
       "      <td>3</td>\n",
       "      <td>1707.00381v2</td>\n",
       "      <td>[{'rel': 'alternate', 'href': 'http://arxiv.or...</td>\n",
       "      <td>7</td>\n",
       "      <td>In this paper we present a novel joint approac...</td>\n",
       "      <td>[{'term': 'cs.CV', 'scheme': 'http://arxiv.org...</td>\n",
       "      <td>Joint Pose and Principal Curvature Refinement ...</td>\n",
       "      <td>2017</td>\n",
       "    </tr>\n",
       "  </tbody>\n",
       "</table>\n",
       "</div>"
      ]
     },
     "execution_count": 3,
     "metadata": {},
     "output_type": "execute_result"
    }
   ],
   "execution_count": 3
  },
  {
   "cell_type": "code",
   "metadata": {
    "cellId": "lbyqb5rx7j8jpo591r06ak",
    "id": "Ce-I_kK591ny",
    "outputId": "17e735bd-da63-462d-9d82-985ac8412e8d",
    "colab": {
     "base_uri": "https://localhost:8080/"
    },
    "ExecuteTime": {
     "end_time": "2025-02-11T01:36:41.557400Z",
     "start_time": "2025-02-11T01:36:41.382378Z"
    }
   },
   "source": [
    "# assemble lines: concatenate title and description\n",
    "lines = data.apply(lambda row: row['title'] + ' ; ' + row['summary'].replace(\"\\n\", ' '), axis=1).tolist()\n",
    "\n",
    "sorted(lines, key=len)[:3]"
   ],
   "outputs": [
    {
     "data": {
      "text/plain": [
       "['Differential Contrastive Divergence ; This paper has been retracted.',\n",
       " 'What Does Artificial Life Tell Us About Death? ; Short philosophical essay',\n",
       " 'P=NP ; We claim to resolve the P=?NP problem via a formal argument for P=NP.']"
      ]
     },
     "execution_count": 4,
     "metadata": {},
     "output_type": "execute_result"
    }
   ],
   "execution_count": 4
  },
  {
   "cell_type": "markdown",
   "metadata": {
    "cellId": "7u97m5s8ekl5zd5a43a1yc",
    "id": "8XP92wa891ny"
   },
   "source": [
    "### Tokenization\n",
    "\n",
    "You know the dril. The data is messy. Go clean the data. Use WordPunctTokenizer or something.\n"
   ]
  },
  {
   "cell_type": "code",
   "metadata": {
    "cellId": "u8rvfk719iek97t3rarwr",
    "id": "DbOnQi8Z91ny",
    "ExecuteTime": {
     "end_time": "2025-02-11T01:38:58.066154Z",
     "start_time": "2025-02-11T01:38:55.265812Z"
    }
   },
   "source": [
    "# Task: convert lines (in-place) into strings of space-separated tokens. Import & use WordPunctTokenizer\n",
    "from nltk.tokenize import WordPunctTokenizer\n",
    "tokenizer = WordPunctTokenizer()\n",
    "\n",
    "lines = [' '.join(tokenizer.tokenize(lines[idx])).lower() for idx in range(len(lines))] #<...>"
   ],
   "outputs": [],
   "execution_count": 6
  },
  {
   "cell_type": "code",
   "metadata": {
    "cellId": "w88nddpp2k8edoeyyyjh0l",
    "id": "QtJF9Bee91ny",
    "ExecuteTime": {
     "end_time": "2025-02-11T01:39:57.682924Z",
     "start_time": "2025-02-11T01:39:57.664908Z"
    }
   },
   "source": [
    "assert sorted(lines, key=len)[0] == \\\n",
    "    'differential contrastive divergence ; this paper has been retracted .'\n",
    "assert sorted(lines, key=len)[2] == \\\n",
    "    'p = np ; we claim to resolve the p =? np problem via a formal argument for p = np .'"
   ],
   "outputs": [],
   "execution_count": 9
  },
  {
   "cell_type": "markdown",
   "metadata": {
    "cellId": "qb6h3hxmr095egzv8rlzul",
    "id": "sj8MtJL691nz"
   },
   "source": [
    "### N-Gram Language Model (1point)\n",
    "\n",
    "A language model is a probabilistic model that estimates text probability: the joint probability of all tokens $w_t$ in text $X$: $P(X) = P(w_1, \\dots, w_T)$.\n",
    "\n",
    "It can do so by following the chain rule:\n",
    "$$P(w_1, \\dots, w_T) = P(w_1)P(w_2 \\mid w_1)\\dots P(w_T \\mid w_1, \\dots, w_{T-1}).$$\n",
    "\n",
    "The problem with such approach is that the final term $P(w_T \\mid w_1, \\dots, w_{T-1})$ depends on $n-1$ previous words. This probability is impractical to estimate for long texts, e.g. $T = 1000$.\n",
    "\n",
    "One popular approximation is to assume that next word only depends on a finite amount of previous words:\n",
    "\n",
    "$$P(w_t \\mid w_1, \\dots, w_{t - 1}) = P(w_t \\mid w_{t - n + 1}, \\dots, w_{t - 1})$$\n",
    "\n",
    "Such model is called __n-gram language model__ where n is a parameter. For example, in 3-gram language model, each word only depends on 2 previous words.\n",
    "\n",
    "$$\n",
    "    P(w_1, \\dots, w_n) = \\prod_t P(w_t \\mid w_{t - n + 1}, \\dots, w_{t - 1}).\n",
    "$$\n",
    "\n",
    "You can also sometimes see such approximation under the name of _n-th order markov assumption_."
   ]
  },
  {
   "cell_type": "markdown",
   "metadata": {
    "cellId": "u68wydbiioqlp5gl96mhd",
    "id": "SYJzB6Bp91nz"
   },
   "source": [
    "The first stage to building such a model is counting all word occurences given N-1 previous words"
   ]
  },
  {
   "cell_type": "code",
   "metadata": {
    "cellId": "og84gjipnumsakhiiu9ap",
    "id": "qhKbfib491nz",
    "ExecuteTime": {
     "end_time": "2025-02-11T01:40:48.640754Z",
     "start_time": "2025-02-11T01:40:48.637300Z"
    }
   },
   "source": [
    "from tqdm import tqdm\n",
    "from collections import defaultdict, Counter\n",
    "\n",
    "# special tokens:\n",
    "# - `UNK` represents absent tokens,\n",
    "# - `EOS` is a special token after the end of sequence\n",
    "\n",
    "UNK, EOS = \"_UNK_\", \"_EOS_\"\n",
    "\n",
    "def count_ngrams(lines, n):\n",
    "    \"\"\"\n",
    "    Count how many times each word occured after (n - 1) previous words\n",
    "    :param lines: an iterable of strings with space-separated tokens\n",
    "    :returns: a dictionary { tuple(prefix_tokens): {next_token_1: count_1, next_token_2: count_2}}\n",
    "\n",
    "    When building counts, please consider the following two edge cases:\n",
    "    - if prefix is shorter than (n - 1) tokens, it should be padded with UNK. For n=3,\n",
    "      empty prefix: \"\" -> (UNK, UNK)\n",
    "      short prefix: \"the\" -> (UNK, the)\n",
    "      long prefix: \"the new approach\" -> (new, approach)\n",
    "    - you should add a special token, EOS, at the end of each sequence\n",
    "      \"... with deep neural networks .\" -> (..., with, deep, neural, networks, ., EOS)\n",
    "      count the probability of this token just like all others.\n",
    "    \"\"\"\n",
    "    counts = defaultdict(Counter)\n",
    "    # counts[(word1, word2)][word3] = how many times word3 occured after (word1, word2)\n",
    "\n",
    "    for line in tqdm(lines, desc=\"Processing lines\"):\n",
    "        # Tokenize the line and add EOS at the end\n",
    "        tokens = line.split() + [EOS]\n",
    "\n",
    "        # Pad the sequence with UNK for shorter prefixes\n",
    "        padded_tokens = [UNK] * (n - 1) + tokens\n",
    "\n",
    "        # Iterate through the tokens and count n-grams\n",
    "        for i in range(len(tokens)):  # Only go up to the last token (which includes EOS)\n",
    "            prefix = tuple(padded_tokens[i:i + n - 1])\n",
    "            next_token = tokens[i]\n",
    "            counts[prefix][next_token] += 1\n",
    "    #<YOUR CODE>\n",
    "\n",
    "    return counts\n"
   ],
   "outputs": [],
   "execution_count": 11
  },
  {
   "cell_type": "code",
   "metadata": {
    "cellId": "xyf2he6lak9mmqarl3nck",
    "id": "0MDYU0m991nz",
    "outputId": "fcfc98bb-e0e2-4c49-ae9c-ecf9a8b97a16",
    "colab": {
     "base_uri": "https://localhost:8080/"
    },
    "ExecuteTime": {
     "end_time": "2025-02-11T01:40:51.831626Z",
     "start_time": "2025-02-11T01:40:51.795793Z"
    }
   },
   "source": [
    "# let's test it\n",
    "dummy_lines = sorted(lines, key=len)[:100]\n",
    "dummy_counts = count_ngrams(dummy_lines, n=3)\n",
    "assert set(map(len, dummy_counts.keys())) == {2}, \"please only count {n-1}-grams\"\n",
    "assert len(dummy_counts[('_UNK_', '_UNK_')]) == 78\n",
    "assert dummy_counts['_UNK_', 'a']['note'] == 3\n",
    "assert dummy_counts['p', '=']['np'] == 2\n",
    "assert dummy_counts['author', '.']['_EOS_'] == 1"
   ],
   "outputs": [
    {
     "name": "stderr",
     "output_type": "stream",
     "text": [
      "Processing lines: 100%|██████████| 100/100 [00:00<00:00, 32637.96it/s]\n"
     ]
    }
   ],
   "execution_count": 12
  },
  {
   "cell_type": "markdown",
   "metadata": {
    "cellId": "4j620npeqvj0k8ak8xqx8xk",
    "id": "WAro3ZLv91nz"
   },
   "source": [
    "Once we can count N-grams, we can build a probabilistic language model.\n",
    "The simplest way to compute probabilities is in proporiton to counts:\n",
    "\n",
    "$$ P(w_t | prefix) = { Count(prefix, w_t) \\over \\sum_{\\hat w} Count(prefix, \\hat w) } $$"
   ]
  },
  {
   "cell_type": "code",
   "metadata": {
    "cellId": "c7cm76wmzlaa12bctznzei",
    "id": "USn6CLAa91nz",
    "ExecuteTime": {
     "end_time": "2025-02-11T02:26:50.358202Z",
     "start_time": "2025-02-11T02:26:50.352483Z"
    }
   },
   "source": [
    "class NGramLanguageModel:\n",
    "    def __init__(self, lines, n):\n",
    "        \"\"\"\n",
    "        Train a simple count-based language model:\n",
    "        compute probabilities P(w_t | prefix) given ngram counts\n",
    "\n",
    "        :param n: computes probability of next token given (n - 1) previous words\n",
    "        :param lines: an iterable of strings with space-separated tokens\n",
    "        \"\"\"\n",
    "        assert n >= 1\n",
    "        self.n = n\n",
    "\n",
    "        counts = count_ngrams(lines, self.n)\n",
    "\n",
    "        # compute token proabilities given counts\n",
    "        self.probs = defaultdict(Counter)\n",
    "        # probs[(word1, word2)][word3] = P(word3 | word1, word2)\n",
    "\n",
    "\n",
    "        for prefix, next_token_counts in counts.items():\n",
    "            total_count = sum(next_token_counts.values())\n",
    "            self.probs[prefix] = {token: count / total_count for token, count in next_token_counts.items()}\n",
    "\n",
    "    def get_possible_next_tokens(self, prefix):\n",
    "        \"\"\"\n",
    "        :param prefix: string with space-separated prefix tokens\n",
    "        :returns: a dictionary {token : it's probability} for all tokens with positive probabilities\n",
    "        \"\"\"\n",
    "        prefix = prefix.split()\n",
    "        prefix = prefix[max(0, len(prefix) - self.n + 1):]\n",
    "        prefix = [ UNK ] * (self.n - 1 - len(prefix)) + prefix\n",
    "        return self.probs[tuple(prefix)]\n",
    "\n",
    "    def get_next_token_prob(self, prefix, next_token):\n",
    "        \"\"\"\n",
    "        :param prefix: string with space-separated prefix tokens\n",
    "        :param next_token: the next token to predict probability for\n",
    "        :returns: P(next_token|prefix) a single number, 0 <= P <= 1\n",
    "        \"\"\"\n",
    "        return self.get_possible_next_tokens(prefix).get(next_token, 0)"
   ],
   "outputs": [],
   "execution_count": 34
  },
  {
   "cell_type": "markdown",
   "metadata": {
    "cellId": "0ftnn4nmuzrup6c0vvhb8q",
    "id": "kl26qNB791nz"
   },
   "source": [
    "Let's test it!"
   ]
  },
  {
   "cell_type": "code",
   "metadata": {
    "cellId": "a7zajcnvhqupvcrmacvkur",
    "id": "BCWNSQqA91nz",
    "outputId": "596440d2-fde6-47e0-debc-180f798f5f8b",
    "colab": {
     "base_uri": "https://localhost:8080/"
    },
    "ExecuteTime": {
     "end_time": "2025-02-11T02:06:23.902424Z",
     "start_time": "2025-02-11T02:06:23.890162Z"
    }
   },
   "source": [
    "dummy_lm = NGramLanguageModel(dummy_lines, n=3)\n",
    "\n",
    "p_initial = dummy_lm.get_possible_next_tokens('') # '' -> ['_UNK_', '_UNK_']\n",
    "assert np.allclose(p_initial['learning'], 0.02)\n",
    "assert np.allclose(p_initial['a'], 0.13)\n",
    "assert np.allclose(p_initial.get('meow', 0), 0)\n",
    "assert np.allclose(sum(p_initial.values()), 1)\n",
    "\n",
    "p_a = dummy_lm.get_possible_next_tokens('a') # '' -> ['_UNK_', 'a']\n",
    "assert np.allclose(p_a['machine'], 0.15384615)\n",
    "assert np.allclose(p_a['note'], 0.23076923)\n",
    "assert np.allclose(p_a.get('the', 0), 0)\n",
    "assert np.allclose(sum(p_a.values()), 1)\n",
    "\n",
    "assert np.allclose(dummy_lm.get_possible_next_tokens('a note')['on'], 1)\n",
    "assert dummy_lm.get_possible_next_tokens('a machine') == \\\n",
    "    dummy_lm.get_possible_next_tokens(\"there have always been ghosts in a machine\"), \\\n",
    "    \"your 3-gram model should only depend on 2 previous words\""
   ],
   "outputs": [
    {
     "name": "stderr",
     "output_type": "stream",
     "text": [
      "Processing lines: 100%|██████████| 100/100 [00:00<00:00, 39745.13it/s]\n"
     ]
    }
   ],
   "execution_count": 14
  },
  {
   "cell_type": "markdown",
   "metadata": {
    "cellId": "oh8r9a41kuk4r51wra9",
    "id": "xcQB_FPi91nz"
   },
   "source": [
    "Now that you've got a working n-gram language model, let's see what sequences it can generate. But first, let's train it on the whole dataset."
   ]
  },
  {
   "cell_type": "code",
   "metadata": {
    "cellId": "f17xoejjppmooo2nopw4xo",
    "id": "7SgyuNBz91nz",
    "outputId": "73f4ae24-fc35-4e5e-d155-4441a7312a78",
    "colab": {
     "base_uri": "https://localhost:8080/"
    },
    "ExecuteTime": {
     "end_time": "2025-02-11T02:06:36.476611Z",
     "start_time": "2025-02-11T02:06:28.328936Z"
    }
   },
   "source": [
    "lm = NGramLanguageModel(lines, n=3)"
   ],
   "outputs": [
    {
     "name": "stderr",
     "output_type": "stream",
     "text": [
      "Processing lines: 100%|██████████| 41000/41000 [00:07<00:00, 5681.03it/s]\n"
     ]
    }
   ],
   "execution_count": 15
  },
  {
   "cell_type": "code",
   "source": [
    "lm.get_possible_next_tokens('the gnn')"
   ],
   "metadata": {
    "id": "Qk70J-kIRP1j",
    "outputId": "7a288c1d-05a1-45e8-ca33-1f27594aeea2",
    "colab": {
     "base_uri": "https://localhost:8080/"
    },
    "ExecuteTime": {
     "end_time": "2025-02-11T02:06:54.573771Z",
     "start_time": "2025-02-11T02:06:54.570326Z"
    }
   },
   "outputs": [
    {
     "data": {
      "text/plain": [
       "{'is': 1.0}"
      ]
     },
     "execution_count": 16,
     "metadata": {},
     "output_type": "execute_result"
    }
   ],
   "execution_count": 16
  },
  {
   "cell_type": "markdown",
   "metadata": {
    "cellId": "2kd9glwnkr470qc4bt7f1e",
    "id": "qWApeSTy91nz"
   },
   "source": [
    "The process of generating sequences is... well, it's sequential. You maintain a list of tokens and iteratively add next token by sampling with probabilities.\n",
    "\n",
    "$ X = [] $\n",
    "\n",
    "__forever:__\n",
    "* $w_{next} \\sim P(w_{next} | X)$\n",
    "* $X = concat(X, w_{next})$\n",
    "\n",
    "\n",
    "Instead of sampling with probabilities, one can also try always taking most likely token, sampling among top-K most likely tokens or sampling with temperature. In the latter case (temperature), one samples from\n",
    "\n",
    "$$w_{next} \\sim {P(w_{next} | X) ^ {1 / \\tau} \\over \\sum_{\\hat w} P(\\hat w | X) ^ {1 / \\tau}}$$\n",
    "\n",
    "In sofmax, when the probability of class $k$ is proportional to $e^{a_k(x)},$ it takes the following form: $\\dfrac{e^{a_k/\\tau}}{\\sum_s e^{a_s/\\tau}}.$\n",
    "\n",
    "Where $\\tau > 0$ is model temperature. If $\\tau << 1$, more likely tokens will be sampled with even higher probability while less likely tokens will vanish."
   ]
  },
  {
   "cell_type": "code",
   "metadata": {
    "cellId": "sgbatlm9vzb4z889fho7",
    "id": "Y60I3Ug991nz",
    "ExecuteTime": {
     "end_time": "2025-02-11T02:08:09.121006Z",
     "start_time": "2025-02-11T02:08:09.117236Z"
    }
   },
   "source": [
    "def get_next_token(lm, prefix, temperature=1.0):\n",
    "    \"\"\"\n",
    "    return next token after prefix;\n",
    "    :param temperature: samples proportionally to lm probabilities ^ (1 / temperature)\n",
    "        if temperature == 0, always takes most likely token. Break ties arbitrarily.\n",
    "    \"\"\"\n",
    "    #<YOUR CODE>\n",
    "    # Get possible next tokens and their probabilities\n",
    "    possible_next_tokens = lm.get_possible_next_tokens(prefix)\n",
    "\n",
    "    if not possible_next_tokens:\n",
    "        return \"_UNK_\"  # If no next tokens, return UNK\n",
    "\n",
    "    # Extract tokens and probabilities\n",
    "    tokens = list(possible_next_tokens.keys())\n",
    "    probabilities = np.array(list(possible_next_tokens.values()))\n",
    "\n",
    "    if temperature == 0:\n",
    "        # Deterministic case: choose the most frequent token\n",
    "        return tokens[np.argmax(probabilities)]\n",
    "\n",
    "    # Apply temperature scaling\n",
    "    scaled_probs = np.power(probabilities, 1 / temperature)\n",
    "    scaled_probs /= scaled_probs.sum()  # Normalize to make a valid distribution\n",
    "\n",
    "    # Sample the next token based on the adjusted probabilities\n",
    "    return np.random.choice(tokens, p=scaled_probs)"
   ],
   "outputs": [],
   "execution_count": 17
  },
  {
   "cell_type": "code",
   "metadata": {
    "cellId": "98l40131wjtd5xbdm5b2nr",
    "id": "9p-pRBOz91n0",
    "outputId": "8b2669b8-4851-4a4f-94aa-f78b7d63239c",
    "colab": {
     "base_uri": "https://localhost:8080/"
    },
    "ExecuteTime": {
     "end_time": "2025-02-11T02:34:26.835664Z",
     "start_time": "2025-02-11T02:34:25.430664Z"
    }
   },
   "source": [
    "from collections import Counter\n",
    "test_freqs = Counter([get_next_token(lm, 'there have') for _ in range(10000)])\n",
    "assert 250 < test_freqs['not'] < 450\n",
    "assert 8500 < test_freqs['been'] < 9500\n",
    "assert 1 < test_freqs['lately'] < 200\n",
    "\n",
    "test_freqs = Counter([get_next_token(lm, 'deep', temperature=1.0) for _ in range(10000)])\n",
    "assert 1500 < test_freqs['learning'] < 3000\n",
    "test_freqs = Counter([get_next_token(lm, 'deep', temperature=0.5) for _ in range(10000)])\n",
    "assert 8000 < test_freqs['learning'] < 9000\n",
    "test_freqs = Counter([get_next_token(lm, 'deep', temperature=0.0) for _ in range(10000)])\n",
    "assert test_freqs['learning'] == 10000\n",
    "\n",
    "print(\"Looks nice!\")"
   ],
   "outputs": [
    {
     "name": "stdout",
     "output_type": "stream",
     "text": [
      "Looks nice!\n"
     ]
    }
   ],
   "execution_count": 37
  },
  {
   "cell_type": "markdown",
   "metadata": {
    "cellId": "ux4n8iq523n4s3ftrelhxj",
    "id": "XcBVGTCi91n0"
   },
   "source": [
    "Let's have fun with this model"
   ]
  },
  {
   "cell_type": "code",
   "metadata": {
    "cellId": "1nnnycga61rijt6nd8zai",
    "id": "6sq66fLt91n0",
    "outputId": "bccd0018-f259-479a-8e43-7c959c8a84fd",
    "colab": {
     "base_uri": "https://localhost:8080/"
    },
    "ExecuteTime": {
     "end_time": "2025-02-11T02:11:33.306167Z",
     "start_time": "2025-02-11T02:11:33.229560Z"
    }
   },
   "source": [
    "prefix = 'artificial' # <- your ideas :)\n",
    "\n",
    "for i in range(100):\n",
    "    prefix += ' ' + get_next_token(lm, prefix)\n",
    "    if prefix.endswith(EOS) or len(lm.get_possible_next_tokens(prefix)) == 0:\n",
    "        break\n",
    "\n",
    "print(prefix)"
   ],
   "outputs": [
    {
     "name": "stdout",
     "output_type": "stream",
     "text": [
      "artificial agents why some possible items in average use . in this study , we establish conditions under which the auction revenue can be unified with the main results . the experiments object tracking ( mtt ) and , when the training set also allows us to show how photo - realistic environment to an object - awareness \") and a deeper , which allows our method on the ' ground truth labels or triplet losses . _EOS_\n"
     ]
    }
   ],
   "execution_count": 20
  },
  {
   "cell_type": "code",
   "metadata": {
    "cellId": "pxyjsv3b7r8thdfxlgitl",
    "id": "fKjnTZty91n0",
    "outputId": "d0a84cff-130c-45d6-e7c2-06447fba58a0",
    "colab": {
     "base_uri": "https://localhost:8080/"
    },
    "ExecuteTime": {
     "end_time": "2025-02-11T02:11:42.689547Z",
     "start_time": "2025-02-11T02:11:42.658506Z"
    }
   },
   "source": [
    "prefix = 'bridging the' # <- more of your ideas\n",
    "\n",
    "for i in range(100):\n",
    "    prefix += ' ' + get_next_token(lm, prefix, temperature=0.5)\n",
    "    if prefix.endswith(EOS) or len(lm.get_possible_next_tokens(prefix)) == 0:\n",
    "        break\n",
    "\n",
    "print(prefix)"
   ],
   "outputs": [
    {
     "name": "stdout",
     "output_type": "stream",
     "text": [
      "bridging the gap between the two - dimensional optimization problems , including the recently proposed method can be used to infer the correspondence between the source code and data mining techniques , we propose a novel method of multipliers ( admm ), which is a widely - used benchmark functions . the effectiveness of the data . we then show that the proposed method on a large margin in terms of the most important contribution of this paper , we present the first time , and their gradients in the past few years , the proposed model is used to predict the\n"
     ]
    }
   ],
   "execution_count": 22
  },
  {
   "cell_type": "markdown",
   "metadata": {
    "cellId": "2n90bscmzfko0qnctp7ysc",
    "id": "gReWUMMG91n0"
   },
   "source": [
    "__More in the homework:__ nucleus sampling, top-k sampling, beam search(not for the faint of heart)."
   ]
  },
  {
   "cell_type": "markdown",
   "metadata": {
    "cellId": "3gdmey7g8at5n5c5x4gayh",
    "id": "8vBdFWUj91n0"
   },
   "source": [
    "### Evaluating language models: perplexity (2 points)\n",
    "\n",
    "There are three definitions of perplexity:\n",
    "\n",
    "- perplexity of a random variable $X$:\n",
    "$$PP(X) = 2^{H(p)}=2^{-\\sum p_i\\log_2 p_i}\\quad \\text{or}\\quad e^{H(p)}=e^{-\\sum p_i\\ln p_i}$$\n",
    "\n",
    "- perplexity of an ML model that predicts probability $q(x_i)$:\n",
    "$$2^{-\\frac{1}{N}\\sum\\log_2 q(x_i)}\\quad \\text{or}\\quad e^{-\\frac{1}{N}\\sum\\ln q(x_i)} = e^{H(\\tilde{p},q)},$$\n",
    "where $H(\\tilde{p},q)$ is the crossentropy loss and $\\tilde{p}$ is the empirical distribution. Note that $H(\\tilde{p})\\leq H(\\tilde{p},q)$.\n",
    "\n",
    "- (per word) perplexity of a LM:\n",
    "$$2^{-\\log_2 \\mathbb{P}(w_1,\\ldots,w_N)}=2^{-\\frac{1}{N} \\log_2 P(w_1,\\ldots,w_N)}$$\n",
    "or\n",
    "$$e^{-\\ln \\mathbb{P}(w_1,\\ldots,w_N)}=e^{-\\frac{1}{N} \\ln P(w_1,\\ldots,w_N)}$$\n",
    "\n",
    "Perplexity is a measure of how well your model approximates the true probability distribution behind the data. __Smaller perplexity = better model__.\n",
    "\n",
    "To compute perplexity on one sentence, use:\n",
    "$$\n",
    "    {\\mathbb{P}}(w_1 \\dots w_N) = P(w_1, \\dots, w_N)^{-\\frac1N} = \\left( \\prod_t P(w_t \\mid w_{t - n}, \\dots, w_{t - 1})\\right)^{-\\frac1N},\n",
    "$$\n",
    "\n",
    "\n",
    "On the corpora level, perplexity is a product of probabilities of all tokens in all sentences to the power of $1/N$, where $N$ is __total length (in tokens) of all sentences__ in corpora.\n",
    "\n",
    "This number can quickly get too small for float32/float64 precision, so we recommend you to first compute log-perplexity (from log-probabilities) and then take the exponent."
   ]
  },
  {
   "cell_type": "code",
   "metadata": {
    "cellId": "5hp010xyzzb4vqewo1bhny",
    "id": "QyOvA0Px91n0",
    "ExecuteTime": {
     "end_time": "2025-02-11T02:49:36.638893Z",
     "start_time": "2025-02-11T02:49:36.636319Z"
    }
   },
   "source": [
    "import numpy as np\n",
    "\n",
    "def perplexity(lm, lines, min_logprob=np.log(10 ** -50.), epsilon=1e-10):\n",
    "    \"\"\"\n",
    "    :param lines: a list of strings with space-separated tokens\n",
    "    :param min_logprob: if log(P(w | ...)) is smaller than min_logprop, set it equal to min_logrob\n",
    "    :param epsilon: a small value to add to probabilities to avoid log(0)\n",
    "    :returns: corpora-level perplexity - a single scalar number from the formula above\n",
    "\n",
    "    Note: do not forget to compute P(w_first | empty) and P(eos | full_sequence)\n",
    "\n",
    "    PLEASE USE lm.get_next_token_prob and NOT lm.get_possible_next_tokens\n",
    "    \"\"\"\n",
    "    log_prob_sum = 0\n",
    "    token_count = 0\n",
    "\n",
    "    for line in lines:\n",
    "        tokens = line.split() + [EOS]\n",
    "        prefix = []\n",
    "\n",
    "        for token in tokens:\n",
    "            if prefix:\n",
    "                log_prob = np.log(lm.get_next_token_prob(' '.join(prefix), token) + epsilon)\n",
    "                log_prob = max(log_prob, min_logprob)\n",
    "                log_prob_sum += log_prob\n",
    "            else:\n",
    "                log_prob = np.log(lm.get_next_token_prob('', token) + epsilon)\n",
    "                log_prob = max(log_prob, min_logprob)\n",
    "                log_prob_sum += log_prob\n",
    "\n",
    "            prefix.append(token)\n",
    "            if len(prefix) > lm.n - 1:\n",
    "                prefix.pop(0)\n",
    "\n",
    "            token_count += 1\n",
    "\n",
    "    perplexity = np.exp(-log_prob_sum / token_count)\n",
    "    return perplexity"
   ],
   "outputs": [],
   "execution_count": 46
  },
  {
   "cell_type": "code",
   "metadata": {
    "cellId": "8b689bobhkey04x7pabupj",
    "id": "qneWdHu191n0",
    "ExecuteTime": {
     "end_time": "2025-02-11T02:49:38.447701Z",
     "start_time": "2025-02-11T02:49:38.424490Z"
    }
   },
   "source": [
    "lm1 = NGramLanguageModel(dummy_lines, n=1)\n",
    "lm3 = NGramLanguageModel(dummy_lines, n=3)\n",
    "lm10 = NGramLanguageModel(dummy_lines, n=10)\n",
    "\n",
    "ppx1 = perplexity(lm1, dummy_lines)\n",
    "ppx3 = perplexity(lm3, dummy_lines)\n",
    "ppx10 = perplexity(lm10, dummy_lines)\n",
    "ppx_missing = perplexity(lm3, ['the jabberwock , with eyes of flame , '])  # thanks, L. Carrol\n",
    "\n",
    "print(\"Perplexities: ppx1=%.3f ppx3=%.3f ppx10=%.3f\" % (ppx1, ppx3, ppx10))\n",
    "\n",
    "assert all(0 < ppx < 500 for ppx in (ppx1, ppx3, ppx10)), \"perplexity should be non-negative and reasonably small\"\n",
    "assert ppx1 > ppx3 > ppx10, \"higher N models should overfit and \"\n",
    "assert np.isfinite(ppx_missing) and ppx_missing > 10 ** 6, \"missing words should have large but finite perplexity. \" \\\n",
    "    \" Make sure you use min_logprob right\"\n",
    "assert np.allclose([ppx1, ppx3, ppx10], (318.2132342216302, 1.5199996213739575, 1.1838145037901249))"
   ],
   "outputs": [
    {
     "name": "stderr",
     "output_type": "stream",
     "text": [
      "Processing lines: 100%|██████████| 100/100 [00:00<00:00, 114410.91it/s]\n",
      "Processing lines: 100%|██████████| 100/100 [00:00<00:00, 49926.25it/s]\n",
      "Processing lines: 100%|██████████| 100/100 [00:00<00:00, 51577.77it/s]"
     ]
    },
    {
     "name": "stdout",
     "output_type": "stream",
     "text": [
      "Perplexities: ppx1=318.213 ppx3=1.520 ppx10=1.184\n"
     ]
    },
    {
     "name": "stderr",
     "output_type": "stream",
     "text": [
      "\n"
     ]
    }
   ],
   "execution_count": 47
  },
  {
   "cell_type": "markdown",
   "metadata": {
    "cellId": "ypc4lks4vs1li908fqi8",
    "id": "y5b8D2DT91n0"
   },
   "source": [
    "Now let's measure the actual perplexity: we'll split the data into train and test and score model on test data only."
   ]
  },
  {
   "cell_type": "code",
   "metadata": {
    "cellId": "tjnehsem2lmijkg2lto4w",
    "id": "pW2CfdvE91n0",
    "ExecuteTime": {
     "end_time": "2025-02-11T02:49:54.152795Z",
     "start_time": "2025-02-11T02:49:40.781633Z"
    }
   },
   "source": [
    "from sklearn.model_selection import train_test_split\n",
    "train_lines, test_lines = train_test_split(lines, test_size=0.25, random_state=42)\n",
    "\n",
    "for n in (1, 2, 3):\n",
    "    lm = NGramLanguageModel(n=n, lines=train_lines)\n",
    "    ppx = perplexity(lm, test_lines)\n",
    "    print(\"N = %i, Perplexity = %.5f\" % (n, ppx))\n"
   ],
   "outputs": [
    {
     "name": "stderr",
     "output_type": "stream",
     "text": [
      "Processing lines: 100%|██████████| 30750/30750 [00:00<00:00, 32077.65it/s]\n"
     ]
    },
    {
     "name": "stdout",
     "output_type": "stream",
     "text": [
      "N = 1, Perplexity = 943.03154\n"
     ]
    },
    {
     "name": "stderr",
     "output_type": "stream",
     "text": [
      "Processing lines: 100%|██████████| 30750/30750 [00:01<00:00, 16380.16it/s]\n"
     ]
    },
    {
     "name": "stdout",
     "output_type": "stream",
     "text": [
      "N = 2, Perplexity = 848.97732\n"
     ]
    },
    {
     "name": "stderr",
     "output_type": "stream",
     "text": [
      "Processing lines: 100%|██████████| 30750/30750 [00:04<00:00, 6671.02it/s]\n"
     ]
    },
    {
     "name": "stdout",
     "output_type": "stream",
     "text": [
      "N = 3, Perplexity = 125108.96164\n"
     ]
    }
   ],
   "execution_count": 48
  },
  {
   "cell_type": "code",
   "execution_count": null,
   "metadata": {
    "cellId": "38nfbfkpzgfxik8kccyt1l",
    "id": "CNtdoavf91n0"
   },
   "outputs": [],
   "source": [
    "# whoops, it just blew up :)"
   ]
  },
  {
   "cell_type": "markdown",
   "metadata": {
    "cellId": "oopn2o57wxm9vbxzycytce",
    "id": "lC1jn5_i91n0"
   },
   "source": [
    "### LM Smoothing\n",
    "\n",
    "The problem with our simple language model is that whenever it encounters an n-gram it has never seen before, it assigns it with the probabilitiy of 0. Every time this happens, perplexity explodes.\n",
    "\n",
    "To battle this issue, there's a technique called __smoothing__. The core idea is to modify counts in a way that prevents probabilities from getting too low. The simplest algorithm here is Additive smoothing (aka [Lapace smoothing](https://en.wikipedia.org/wiki/Additive_smoothing)):\n",
    "\n",
    "$$ P(w_t | prefix) = { Count(prefix, w_t) + \\delta \\over \\sum_{\\hat w} (Count(prefix, \\hat w) + \\delta) } $$\n",
    "\n",
    "If counts for a given prefix are low, additive smoothing will adjust probabilities to a more uniform distribution. Not that the summation in the denominator goes over _all words in the vocabulary_.\n",
    "\n",
    "Here's an example code we've implemented for you:"
   ]
  },
  {
   "cell_type": "code",
   "metadata": {
    "cellId": "ioh26rlov6g8l2ssj1c8pm",
    "id": "dsE9koTr91n0",
    "ExecuteTime": {
     "end_time": "2025-02-11T02:50:01.843008Z",
     "start_time": "2025-02-11T02:50:01.840365Z"
    }
   },
   "source": [
    "class LaplaceLanguageModel(NGramLanguageModel):\n",
    "    \"\"\" this code is an example, no need to change anything \"\"\"\n",
    "    def __init__(self, lines, n, delta=1.0):\n",
    "        self.n = n\n",
    "        counts = count_ngrams(lines, self.n)\n",
    "        self.vocab = set(token for token_counts in counts.values() for token in token_counts)\n",
    "        self.probs = defaultdict(Counter)\n",
    "\n",
    "        for prefix in counts:\n",
    "            token_counts = counts[prefix]\n",
    "            total_count = sum(token_counts.values()) + delta * len(self.vocab)\n",
    "            self.probs[prefix] = {token: (token_counts[token] + delta) / total_count\n",
    "                                          for token in token_counts}\n",
    "    def get_possible_next_tokens(self, prefix):\n",
    "        token_probs = super().get_possible_next_tokens(prefix)\n",
    "        missing_prob_total = 1.0 - sum(token_probs.values())\n",
    "        missing_prob = missing_prob_total / max(1, len(self.vocab) - len(token_probs))\n",
    "        return {token: token_probs.get(token, missing_prob) for token in self.vocab}\n",
    "\n",
    "    def get_next_token_prob(self, prefix, next_token):\n",
    "        token_probs = super().get_possible_next_tokens(prefix)\n",
    "        if next_token in token_probs:\n",
    "            return token_probs[next_token]\n",
    "        else:\n",
    "            missing_prob_total = 1.0 - sum(token_probs.values())\n",
    "            missing_prob_total = max(0, missing_prob_total) # prevent rounding errors\n",
    "            return missing_prob_total / max(1, len(self.vocab) - len(token_probs))\n"
   ],
   "outputs": [],
   "execution_count": 50
  },
  {
   "cell_type": "markdown",
   "metadata": {
    "cellId": "90vsann3920ie05r2blbmi",
    "execution_id": "3868303d-0bb9-42c6-a9a8-dcf485c8220c",
    "id": "M6p6WLtI91n0"
   },
   "source": [
    "**Disclaimer**: the implementation above assumes all words unknown within a given context to be equally likely, *as well as the words outside of vocabulary*. Therefore, its' perplexity will be lower than it should when encountering such words. Therefore, comparing it with a model with fewer unknown words will not be fair. When implementing your own smoothing, you may handle this by adding a virtual `UNK` token of non-zero probability. Technically, this will result in a model where probabilities do not add up to $1$, but it is close enough for a practice excercise."
   ]
  },
  {
   "cell_type": "code",
   "metadata": {
    "cellId": "3xvxkdxcmfqucruyt66mdc",
    "id": "uOje7EiW91n0",
    "ExecuteTime": {
     "end_time": "2025-02-11T02:50:04.075240Z",
     "start_time": "2025-02-11T02:50:04.061656Z"
    }
   },
   "source": [
    "#test that it's a valid probability model\n",
    "for n in (1, 2, 3):\n",
    "    dummy_lm = LaplaceLanguageModel(dummy_lines, n=n)\n",
    "    assert np.allclose(sum([dummy_lm.get_next_token_prob('a', w_i) for w_i in dummy_lm.vocab]), 1), \"I told you not to break anything! :)\""
   ],
   "outputs": [
    {
     "name": "stderr",
     "output_type": "stream",
     "text": [
      "Processing lines: 100%|██████████| 100/100 [00:00<00:00, 106725.29it/s]\n",
      "Processing lines: 100%|██████████| 100/100 [00:00<00:00, 63569.32it/s]\n",
      "Processing lines: 100%|██████████| 100/100 [00:00<00:00, 56787.22it/s]\n"
     ]
    }
   ],
   "execution_count": 51
  },
  {
   "cell_type": "code",
   "metadata": {
    "cellId": "j6zqa50koitjjri9ipd8ec",
    "id": "sNL7yZMc91n0",
    "ExecuteTime": {
     "end_time": "2025-02-11T02:50:27.303733Z",
     "start_time": "2025-02-11T02:50:11.179383Z"
    }
   },
   "source": [
    "for n in (1, 2, 3):\n",
    "    lm = LaplaceLanguageModel(train_lines, n=n, delta=0.1)\n",
    "    ppx = perplexity(lm, test_lines)\n",
    "    print(\"N = %i, Perplexity = %.5f\" % (n, ppx))"
   ],
   "outputs": [
    {
     "name": "stderr",
     "output_type": "stream",
     "text": [
      "Processing lines: 100%|██████████| 30750/30750 [00:00<00:00, 32236.49it/s]\n"
     ]
    },
    {
     "name": "stdout",
     "output_type": "stream",
     "text": [
      "N = 1, Perplexity = 943.25683\n"
     ]
    },
    {
     "name": "stderr",
     "output_type": "stream",
     "text": [
      "Processing lines: 100%|██████████| 30750/30750 [00:01<00:00, 18803.70it/s]\n"
     ]
    },
    {
     "name": "stdout",
     "output_type": "stream",
     "text": [
      "N = 2, Perplexity = 470.47881\n"
     ]
    },
    {
     "name": "stderr",
     "output_type": "stream",
     "text": [
      "Processing lines: 100%|██████████| 30750/30750 [00:03<00:00, 7733.71it/s]\n"
     ]
    },
    {
     "name": "stdout",
     "output_type": "stream",
     "text": [
      "N = 3, Perplexity = 3679.43788\n"
     ]
    }
   ],
   "execution_count": 52
  },
  {
   "cell_type": "code",
   "execution_count": null,
   "metadata": {
    "cellId": "pjuqt30jcerwbz1ym9zv1",
    "id": "Cltcsxiu91n0"
   },
   "outputs": [],
   "source": [
    "# optional: try to sample tokens from such a model\n",
    "\n"
   ]
  },
  {
   "cell_type": "markdown",
   "metadata": {
    "cellId": "3b8s1y9uls4fosu3yp28gg",
    "id": "7uQNZvEE91n0"
   },
   "source": [
    "### Kneser-Ney smoothing (Extra 2 points)\n",
    "\n",
    "Additive smoothing is simple, reasonably good but definitely not a State of The Art algorithm.\n",
    "\n",
    "\n",
    "Your final task in this notebook is to implement [Kneser-Ney](https://en.wikipedia.org/wiki/Kneser%E2%80%93Ney_smoothing) smoothing.\n",
    "\n",
    "It can be computed recurrently, for n>1:\n",
    "\n",
    "$$P_{kn}(w_t | prefix_{n-1}) = { \\max(0, Count(prefix_{n-1}, w_t) - \\delta) \\over \\sum_{\\hat w} Count(prefix_{n-1}, \\hat w)} + \\lambda_{prefix_{n-1}} \\cdot P_{kn}(w_t | prefix_{n-2})$$\n",
    "\n",
    "where\n",
    "- $prefix_{n-1}$ is a tuple of {n-1} previous tokens\n",
    "- $lambda_{prefix_{n-1}}$ is a normalization constant chosen so that probabilities add up to 1\n",
    "- Unigram $P_{kn}(w_t | prefix_{n-2})$ corresponds to Kneser Ney smoothing for {N-1}-gram language model.\n",
    "- Unigram $P_{kn}(w_t)$ is a special case: how likely it is to see x_t in an unfamiliar context\n",
    "\n",
    "See lecture slides or wiki for more detailed formulae.\n",
    "\n",
    "__Your task__ is to\n",
    "- implement `KneserNeyLanguageModel` class,\n",
    "- test it on 1-3 gram language models\n",
    "- find optimal (within reason) smoothing delta for 3-gram language model with Kneser-Ney smoothing"
   ]
  },
  {
   "cell_type": "code",
   "execution_count": null,
   "metadata": {
    "cellId": "2ix7kzw02v30oye55322all",
    "id": "kBdf9owv91n1"
   },
   "outputs": [],
   "source": [
    "class KneserNeyLanguageModel(NGramLanguageModel):\n",
    "    \"\"\" A template for Kneser-Ney language model. Default delta may be suboptimal. \"\"\"\n",
    "    def __init__(self, lines, n, delta=1.0):\n",
    "        self.n = n\n",
    "\n",
    "\n",
    "    def get_possible_next_tokens(self, prefix):\n",
    "\n",
    "\n",
    "    def get_next_token_prob(self, prefix, next_token):\n",
    "        <"
   ]
  },
  {
   "cell_type": "code",
   "execution_count": null,
   "metadata": {
    "cellId": "lsk91832qbmdt7x1q0a8z4",
    "id": "3Ddb0YGM91n1"
   },
   "outputs": [],
   "source": [
    "#test that it's a valid probability model\n",
    "for n in (1, 2, 3):\n",
    "    dummy_lm = KneserNeyLanguageModel(dummy_lines, n=n)\n",
    "    assert np.allclose(sum([dummy_lm.get_next_token_prob('a', w_i) for w_i in dummy_lm.vocab]), 1), \"I told you not to break anything! :)\""
   ]
  },
  {
   "cell_type": "code",
   "execution_count": null,
   "metadata": {
    "cellId": "pp3jtkk9annp1qkou58x1b",
    "id": "q-NWmM6c91n4"
   },
   "outputs": [],
   "source": [
    "for n in (1, 2, 3):\n",
    "    lm = KneserNeyLanguageModel(train_lines, n=n, smoothing=<...>)\n",
    "    ppx = perplexity(lm, test_lines)\n",
    "    print(\"N = %i, Perplexity = %.5f\" % (n, ppx))"
   ]
  }
 ],
 "metadata": {
  "kernelspec": {
   "display_name": "Python 3 (ipykernel)",
   "language": "python",
   "name": "python3"
  },
  "language_info": {
   "codemirror_mode": {
    "name": "ipython",
    "version": 3
   },
   "file_extension": ".py",
   "mimetype": "text/x-python",
   "name": "python",
   "nbconvert_exporter": "python",
   "pygments_lexer": "ipython3",
   "version": "3.11.0"
  },
  "notebookId": "53997d2d-afb8-4477-8874-b6d46299f06c",
  "notebookPath": "seminar.ipynb",
  "colab": {
   "provenance": []
  }
 },
 "nbformat": 4,
 "nbformat_minor": 0
}
