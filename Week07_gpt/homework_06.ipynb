{
 "cells": [
  {
   "cell_type": "markdown",
   "metadata": {
    "id": "aSWEcS2XKgzi"
   },
   "source": [
    "### Practice/HW6 (10pt): Large Language Models and Their Implications\n",
    "<!-- ![img](https://substackcdn.com/image/fetch/f_auto,q_auto:good,fl_progressive:steep/https%3A%2F%2Fbucketeer-e05bbc84-baa3-437e-9518-adb32be77984.s3.amazonaws.com%2Fpublic%2Fimages%2F4470ce74-e595-4750-92a5-5f21f040df6d_577x432.jpeg) -->\n",
    "![img](https://i.imgur.com/QGYa2J8.jpeg)\n",
    "\n",
    "In this notebook, you're gonna play with some of the largest language models on the Internet.\n",
    "\n",
    "_Based on works of: Tim Dettmers, Ruslan Svirschevsky, Artem Chumachenko, Younes Belkada, Felix Marty, Yulian Gilyazev, Gosha Zolotov, Andrey Ishutin,  Elena Volf, Artemiy Vishnyakov, Svetlana Shirokovskih."
   ]
  },
  {
   "cell_type": "markdown",
   "metadata": {
    "id": "1jYrxHF8Kgzl"
   },
   "source": [
    "### Part 1: prompt engineering (4 points total)\n",
    "\n",
    "In the assignment, we'll use public APIs that host the 100B+ models for inference. Your task is to prompt-engineer the model into solving a few tasks for you.\n",
    "\n",
    "\n",
    "__Which API?__ You are free to use any publicly available API for general LM -- as long as it's __not a chat assistant__. So, gpt 3.5 is fine, but chatGPT is not. Here's a few options:\n",
    "\n",
    "- BLOOM API - [bigscience/bloom](https://huggingface.co/bigscience/bloom) \n",
    "- OpenAI API - [openai.com/api](https://openai.com/api/)\n",
    "- AI21 Jurrasic API - [ai21.com](https://www.ai21.com/blog/announcing-ai21-studio-and-jurassic-1)\n",
    "\n",
    "These APIs may require you to create a (free) account on their platform. Please note that some APIs also have paid subscriptions. __You do not need to pay them__, this assignment was designed to be solved using free-tier subscriptions. If no APIs work for you, you can also solve these tasks with the 6.7B model that you will find later in this notebook - but this will make the tasks somewhat harder.\n",
    "\n",
    "__Quests:__ you will need to solve 4 problems. For each one, please attach a short __description__ of your solution and the output from the API you use. _[If you use python APIs, show your python code with outputs]_\n",
    "\n",
    "__Example:__ Tony is talking to Darth Vader ([BLOOM API](https://huggingface.co/bigscience/bloom)). Black text is written manually, blue text is generated.\n",
    "<hr>\n",
    "\n",
    "![img](https://i.imgur.com/a1QhKF7.png)\n",
    "<hr>\n",
    "\n",
    "__It is fine to roll back a few times,__ e.g. in the example above, the model first generated Vader lines twice in a row, and we rolled that back. However, if you need more than 1-2 rollbacks per session, you should probably try a different prompt."
   ]
  },
  {
   "cell_type": "markdown",
   "metadata": {
    "id": "CHIvIFjsKgzm"
   },
   "source": [
    "__Task 1 (0.5 pt):__ arange a conversation between any two of the following:\n",
    "\n",
    "- a celebrity or politician of your choice\n",
    "- any fictional character (except Darth Vader)\n",
    "- yourself\n",
    "\n",
    "Compare two setups: a) you prompt with character names only b) you supply additional information (see example)."
   ]
  },
  {
   "cell_type": "code",
   "execution_count": null,
   "metadata": {
    "id": "yJJtTnJEKgzm",
    "trusted": true
   },
   "outputs": [],
   "source": [
    "# <your code OR writeup OR screenshots>"
   ]
  },
  {
   "cell_type": "markdown",
   "metadata": {
    "id": "Z6Bc13ueKgzn"
   },
   "source": [
    "__Please choose task 2a or 2b (0.5 pt)__ depending on your model (you can do both, but you will be awarded points for one of these two tasks).\n",
    "\n",
    "__Task 2a: (for BLOOM or other multilingual model)__ zero-shot translation. Take the first verse of [Edgar Allan Poe's \"Raven\"](https://www.poetryfoundation.org/poems/48860/the-raven) and __translate it into French.__ (You are free to use any other text of at least the same size)\n",
    "\n",
    "Original text: ```\n",
    "Once upon a midnight dreary, while I pondered, weak and weary,\n",
    "Over many a quaint and curious volume of forgotten lore—\n",
    "    While I nodded, nearly napping, suddenly there came a tapping,\n",
    "As of some one gently rapping, rapping at my chamber door.\n",
    "“’Tis some visitor,” I muttered, “tapping at my chamber door—\n",
    "            Only this and nothing more.” ```\n",
    "\n",
    "Verify your translation by converting french back into english using a public machine translation service.\n",
    "\n",
    "\n",
    "__Task 2b: (non-BLOOM)__ toxicity classification for [SetFit/toxic_conversations](https://huggingface.co/datasets/SetFit/toxic_conversations). Make the model solve binary classification (toxic vs not toxic) in the few shot mode. For few-shot examples, use 2-3 toxic and 2-3 non-toxic non-toxic examples. Measure accuracy on at least 25 samples. You may need to try several different prompts before you find the one that works."
   ]
  },
  {
   "cell_type": "code",
   "execution_count": null,
   "metadata": {
    "id": "GygPXoyKKgzo",
    "trusted": true
   },
   "outputs": [],
   "source": [
    "# <your code OR writeup OR screenshots>"
   ]
  },
  {
   "cell_type": "markdown",
   "metadata": {
    "id": "iaYweoPsKgzo"
   },
   "source": [
    "\n",
    "__Task 3 (0.5 pt):__ create a prompt and few-shot examples tha make the model __change the gender pronouns__ of the main actor in a given sentence in any direction of your choice. E.g. the doctor took off _his_ mask <-> the doctor took of _her_ mask.\n"
   ]
  },
  {
   "cell_type": "code",
   "execution_count": null,
   "metadata": {
    "id": "uE-Zv_MoKgzq",
    "trusted": true
   },
   "outputs": [],
   "source": [
    "# <your code OR writeup OR screenshots>"
   ]
  },
  {
   "cell_type": "markdown",
   "metadata": {
    "id": "bbNrRmgMKgzq"
   },
   "source": [
    "__Task 4 (0.5 pt):__ write a prompt and supply examples such that the model would __convert imperial units to metric units__ (miles -> kilometers; mph -> kph). More specifically, the model should rewrite a given sentence and replace all imperial units with their metric equivalents. After it works with basic distances and speed, try to find complicated examples where it does *not* work.\n",
    "\n",
    "Please note that 1 mile is not equal to 1 km :)"
   ]
  },
  {
   "cell_type": "code",
   "execution_count": null,
   "metadata": {
    "id": "UBxMVGHNKgzr",
    "trusted": true
   },
   "outputs": [],
   "source": [
    "# <your code OR writeup OR screenshots>"
   ]
  },
  {
   "cell_type": "markdown",
   "metadata": {
    "id": "ZKw-mjuRKgzs"
   },
   "source": [
    "### Part 2: local inference\n",
    "\n",
    "Now, let's try and load the strongest model that can fit a typical Colab GPU (T4 with 16 GB as of spring 2023).\n",
    "\n",
    "Our best candidates are the smaller versions of the best performing open source models:\n",
    "- 8 Bn parameters version of LLaMA\n",
    "- 7 Bn parameters version of [LLaMA](https://arxiv.org/pdf/2302.13971.pdf) - best for spring 2023, released by Facebook\n",
    "- 7 Bn parameters version of [Falcon](https://falconllm.tii.ae) - close competitor to Llama, released in May 2023 by [Technology Innovation Institute of UAE](https://www.tii.ae).\n",
    "- 6.7 Bn parameters version of [OPT](https://arxiv.org/abs/2205.01068) - top choice in this nomination in 2022, released by Facebook.\n",
    "\n",
    "Beware: while these models are smaller than the ones in API, they're still over 60x larger than the BERT we played with last time. The code below will *just barely* fit into memory, so make sure you don't have anything else loaded. Sometimes you may need to restart runtime for the code to work.\n",
    "\n",
    "It's a good time to restart your kernel and switch to GPU! (Runtime -> Change runtime type)\n",
    "<center><img src=\"https://i.imgur.com/OOfDYzJ.png\" width=240px></center>"
   ]
  },
  {
   "cell_type": "code",
   "execution_count": null,
   "metadata": {
    "execution": {
     "iopub.execute_input": "2025-02-27T00:52:23.898518Z",
     "iopub.status.busy": "2025-02-27T00:52:23.898297Z",
     "iopub.status.idle": "2025-02-27T00:52:43.316595Z",
     "shell.execute_reply": "2025-02-27T00:52:43.315815Z",
     "shell.execute_reply.started": "2025-02-27T00:52:23.898497Z"
    },
    "trusted": true
   },
   "outputs": [],
   "source": [
    "!pip install --upgrade transformers accelerate sentencepiece optimum auto-gptq\n",
    "import torch\n",
    "import torch.nn as nn\n",
    "import torch.nn.functional as F\n",
    "import transformers\n",
    "from tqdm.auto import tqdm, trange\n",
    "assert torch.cuda.is_available(), \"you need cuda for this part\"\n",
    "device = torch.device('cuda' if torch.cuda.is_available() else 'cpu')"
   ]
  },
  {
   "cell_type": "code",
   "execution_count": null,
   "metadata": {
    "execution": {
     "iopub.execute_input": "2025-02-27T00:55:09.649216Z",
     "iopub.status.busy": "2025-02-27T00:55:09.648840Z",
     "iopub.status.idle": "2025-02-27T00:55:09.756777Z",
     "shell.execute_reply": "2025-02-27T00:55:09.755836Z",
     "shell.execute_reply.started": "2025-02-27T00:55:09.649171Z"
    },
    "trusted": true
   },
   "outputs": [],
   "source": [
    "from kaggle_secrets import UserSecretsClient\n",
    "user_secrets = UserSecretsClient()\n",
    "secret_value_0 = user_secrets.get_secret(\"HUGGINGFACE_TOKEN\")\n",
    "\n",
    "#Another option:\n",
    "# from huggingface_hub import notebook_login\n",
    "# notebook_login() "
   ]
  },
  {
   "cell_type": "code",
   "execution_count": 5,
   "metadata": {
    "execution": {
     "iopub.execute_input": "2025-02-27T00:55:24.155644Z",
     "iopub.status.busy": "2025-02-27T00:55:24.155325Z",
     "iopub.status.idle": "2025-02-27T00:55:29.679525Z",
     "shell.execute_reply": "2025-02-27T00:55:29.678534Z",
     "shell.execute_reply.started": "2025-02-27T00:55:24.155620Z"
    },
    "trusted": true
   },
   "outputs": [
    {
     "data": {
      "application/vnd.jupyter.widget-view+json": {
       "model_id": "a97b5f09901b497ebf3c7f96d7938372",
       "version_major": 2,
       "version_minor": 0
      },
      "text/plain": [
       "Loading checkpoint shards:   0%|          | 0/2 [00:00<?, ?it/s]"
      ]
     },
     "metadata": {},
     "output_type": "display_data"
    },
    {
     "name": "stderr",
     "output_type": "stream",
     "text": [
      "Device set to use cuda:0\n",
      "Setting `pad_token_id` to `eos_token_id`:128001 for open-end generation.\n"
     ]
    },
    {
     "data": {
      "text/plain": [
       "[{'generated_text': 'The key to life is not to be afraid. The key to life is not to be afraid. The key to life is'}]"
      ]
     },
     "execution_count": 5,
     "metadata": {},
     "output_type": "execute_result"
    }
   ],
   "source": [
    "from transformers import pipeline\n",
    "model_id = \"meta-llama/Llama-3.2-3B\"\n",
    "\n",
    "pipe = pipeline(\n",
    "    \"text-generation\", \n",
    "    model=model_id, \n",
    "    torch_dtype=torch.bfloat16, \n",
    "    device_map=\"auto\",\n",
    "    token=secret_value_0\n",
    ")\n",
    "\n",
    "pipe(\"The key to life is\")"
   ]
  },
  {
   "cell_type": "markdown",
   "metadata": {
    "id": "5k2zCgAhG7l5"
   },
   "source": [
    "## Text generation\n",
    "\n",
    "**Comparison of strategies for language model text generation:**\n",
    "\n",
    "| Strategy | Description | Pros & Cons |\n",
    "| --- | --- | --- |\n",
    "| Greedy Search | Chooses the word with the highest probability as the next word in the sequence. | **Pros:** Simple and fast. <br> **Cons:** Can lead to repetitive and incoherent text. |\n",
    "| Sampling with Temperature | Introduces randomness in the word selection. A higher temperature leads to more randomness. | **Pros:** Allows exploration and diverse output. <br> **Cons:** Higher temperatures can lead to nonsensical outputs. |\n",
    "| Nucleus Sampling (Top-p Sampling) | Selects the next word from a truncated vocabulary, the \"nucleus\" of words that have a cumulative probability exceeding a pre-specified threshold (p). | **Pros:** Balances diversity and quality. <br> **Cons:** Setting an optimal 'p' can be tricky. |\n",
    "| Beam Search | Explores multiple hypotheses (sequences of words) at each step, and keeps the 'k' most likely, where 'k' is the beam width. | **Pros:** Produces more reliable results than greedy search. <br> **Cons:** Can lack diversity and lead to generic responses. |\n",
    "| Top-k Sampling | Randomly selects the next word from the top 'k' words with the highest probabilities. | **Pros:** Introduces randomness, increasing output diversity. <br> **Cons:** Random selection can sometimes lead to less coherent outputs. |\n",
    "| Length Normalization | Prevents the model from favoring shorter sequences by dividing the log probabilities by the sequence length raised to some power. | **Pros:** Makes longer and potentially more informative sequences more likely. <br> **Cons:** Tuning the normalization factor can be difficult. |\n",
    "| Stochastic Beam Search | Introduces randomness into the selection process of the 'k' hypotheses in beam search. | **Pros:** Increases diversity in the generated text. <br> **Cons:** The trade-off between diversity and quality can be tricky to manage. |\n",
    "| Decoding with Minimum Bayes Risk (MBR) | Chooses the hypothesis (out of many) that minimizes expected loss under a loss function. | **Pros:** Optimizes the output according to a specific loss function. <br> **Cons:** Computationally more complex and requires a good loss function. |\n",
    "\n",
    "Documentation references:\n",
    "- [reference for `AutoModelForCausalLM.generate()`](https://huggingface.co/docs/transformers/v4.29.1/en/main_classes/text_generation#transformers.GenerationMixin.generate)\n",
    "- [reference for `AutoTokenizer.decode()`](https://huggingface.co/docs/transformers/main_classes/tokenizer#transformers.PreTrainedTokenizer.decode)\n",
    "- Huggingface [docs on generation strategies](https://huggingface.co/docs/transformers/generation_strategies)"
   ]
  },
  {
   "cell_type": "code",
   "execution_count": 6,
   "metadata": {
    "execution": {
     "iopub.execute_input": "2025-02-27T00:55:56.804306Z",
     "iopub.status.busy": "2025-02-27T00:55:56.803996Z",
     "iopub.status.idle": "2025-02-27T00:55:56.808277Z",
     "shell.execute_reply": "2025-02-27T00:55:56.807226Z",
     "shell.execute_reply.started": "2025-02-27T00:55:56.804281Z"
    },
    "trusted": true
   },
   "outputs": [],
   "source": [
    "from transformers import AutoModelForCausalLM, AutoTokenizer"
   ]
  },
  {
   "cell_type": "code",
   "execution_count": 7,
   "metadata": {
    "execution": {
     "iopub.execute_input": "2025-02-27T00:57:11.695511Z",
     "iopub.status.busy": "2025-02-27T00:57:11.695168Z",
     "iopub.status.idle": "2025-02-27T00:57:19.252680Z",
     "shell.execute_reply": "2025-02-27T00:57:19.251749Z",
     "shell.execute_reply.started": "2025-02-27T00:57:11.695483Z"
    },
    "trusted": true
   },
   "outputs": [
    {
     "data": {
      "application/vnd.jupyter.widget-view+json": {
       "model_id": "ef66d1c064d04ad281c9c3052ef68ecb",
       "version_major": 2,
       "version_minor": 0
      },
      "text/plain": [
       "Loading checkpoint shards:   0%|          | 0/2 [00:00<?, ?it/s]"
      ]
     },
     "metadata": {},
     "output_type": "display_data"
    }
   ],
   "source": [
    "model_name = 'meta-llama/Llama-3.2-3B' #'huggyllama/llama-7b'\n",
    "tokenizer = AutoTokenizer.from_pretrained(model_name, device_map=device)\n",
    "tokenizer.pad_token_id = tokenizer.eos_token_id\n",
    "model = AutoModelForCausalLM.from_pretrained(\n",
    "    model_name,\n",
    "    device_map='auto',\n",
    "    torch_dtype=torch.float16,\n",
    "    low_cpu_mem_usage=True,\n",
    "    offload_state_dict=True\n",
    ")"
   ]
  },
  {
   "cell_type": "code",
   "execution_count": 8,
   "metadata": {
    "execution": {
     "iopub.execute_input": "2025-02-27T00:57:41.778320Z",
     "iopub.status.busy": "2025-02-27T00:57:41.777881Z",
     "iopub.status.idle": "2025-02-27T00:57:41.783186Z",
     "shell.execute_reply": "2025-02-27T00:57:41.782318Z",
     "shell.execute_reply.started": "2025-02-27T00:57:41.778275Z"
    },
    "trusted": true
   },
   "outputs": [],
   "source": [
    "from transformers import GenerationConfig"
   ]
  },
  {
   "cell_type": "code",
   "execution_count": 9,
   "metadata": {
    "execution": {
     "iopub.execute_input": "2025-02-27T00:57:52.375577Z",
     "iopub.status.busy": "2025-02-27T00:57:52.375219Z",
     "iopub.status.idle": "2025-02-27T00:57:52.379527Z",
     "shell.execute_reply": "2025-02-27T00:57:52.378754Z",
     "shell.execute_reply.started": "2025-02-27T00:57:52.375522Z"
    },
    "trusted": true
   },
   "outputs": [],
   "source": [
    "from transformers import GenerationConfig\n",
    "# Define generation config\n",
    "generation_config = GenerationConfig(\n",
    "    max_length=200,\n",
    "    temperature=0.7,\n",
    "    top_p=0.9,\n",
    "    do_sample=True\n",
    ")\n",
    "\n",
    "# greedy inference:                                        do_sample=False)\n",
    "# beam search for highest probability:                     num_beams=4)"
   ]
  },
  {
   "cell_type": "code",
   "execution_count": 10,
   "metadata": {
    "execution": {
     "iopub.execute_input": "2025-02-27T00:58:29.996175Z",
     "iopub.status.busy": "2025-02-27T00:58:29.995850Z",
     "iopub.status.idle": "2025-02-27T00:58:39.202353Z",
     "shell.execute_reply": "2025-02-27T00:58:39.201632Z",
     "shell.execute_reply.started": "2025-02-27T00:58:29.996153Z"
    },
    "trusted": true
   },
   "outputs": [
    {
     "name": "stderr",
     "output_type": "stream",
     "text": [
      "Setting `pad_token_id` to `eos_token_id`:128001 for open-end generation.\n"
     ]
    },
    {
     "name": "stdout",
     "output_type": "stream",
     "text": [
      "Input batch (encoded): {'input_ids': tensor([[128000,    791,   1401,    311,   2324,    374]], device='cuda:0'), 'attention_mask': tensor([[1, 1, 1, 1, 1, 1]], device='cuda:0')}\n",
      "\n",
      "Output: <|begin_of_text|>The key to life is balance.\n",
      "The key to balance is yoga.\n",
      "The key to yoga is breathing.\n",
      "The key to breathing is meditation.\n",
      "The key to meditation is a quiet mind.\n",
      "The key to a quiet mind is a calm heart.\n",
      "The key to a calm heart is a kind spirit.\n",
      "The key to a kind spirit is a good attitude.\n",
      "The key to a good attitude is a happy life.\n",
      "The key to a happy life is a healthy body.\n",
      "The key to a healthy body is a nutritious diet.\n",
      "The key to a nutritious diet is fresh food.\n",
      "The key to fresh food is local.\n",
      "The key to local is community.\n",
      "The key to community is a shared vision.\n",
      "The key to a shared vision is a strong future.\n",
      "The key to a strong future is a bright future.\n",
      "The key to a bright future is a bright present.\n",
      "The key to a bright present is a bright future.\n",
      "The key to a bright future is a bright future.\n",
      "The key to a bright future is\n"
     ]
    }
   ],
   "source": [
    "prompt = 'The key to life is' #'The first discovered martian lifeform looks like'\n",
    "batch = tokenizer(prompt, return_tensors='pt', return_token_type_ids=False).to(device)\n",
    "print(\"Input batch (encoded):\", batch)\n",
    "\n",
    "output_tokens = model.generate(**batch, generation_config=generation_config)\n",
    "\n",
    "print(\"\\nOutput:\", tokenizer.decode(output_tokens[0].cpu()))"
   ]
  },
  {
   "cell_type": "code",
   "execution_count": null,
   "metadata": {
    "execution": {
     "iopub.execute_input": "2025-02-27T01:04:18.100987Z",
     "iopub.status.busy": "2025-02-27T01:04:18.100655Z",
     "iopub.status.idle": "2025-02-27T01:04:19.105754Z",
     "shell.execute_reply": "2025-02-27T01:04:19.104806Z",
     "shell.execute_reply.started": "2025-02-27T01:04:18.100965Z"
    },
    "trusted": true
   },
   "outputs": [],
   "source": [
    "model_name = \"TheBloke/Llama-2-13B-GPTQ\"\n",
    "\n",
    "tokenizer = AutoTokenizer.from_pretrained(model_name)\n",
    "\n",
    "#tokenizer = AutoTokenizer.from_pretrained(model_name, use_fast=True)"
   ]
  },
  {
   "cell_type": "code",
   "execution_count": null,
   "metadata": {
    "execution": {
     "iopub.execute_input": "2025-02-27T01:04:31.636347Z",
     "iopub.status.busy": "2025-02-27T01:04:31.636027Z",
     "iopub.status.idle": "2025-02-27T01:05:48.080185Z",
     "shell.execute_reply": "2025-02-27T01:05:48.079466Z",
     "shell.execute_reply.started": "2025-02-27T01:04:31.636323Z"
    },
    "trusted": true
   },
   "outputs": [],
   "source": [
    "model = AutoModelForCausalLM.from_pretrained(model_name, device_map=\"auto\", trust_remote_code=True)\n",
    "#model = AutoModelForCausalLM.from_pretrained(model_name, device_map=\"auto\", trust_remote_code=False, revision=\"main\")"
   ]
  },
  {
   "cell_type": "code",
   "execution_count": 13,
   "metadata": {
    "execution": {
     "iopub.execute_input": "2025-02-27T01:06:49.182635Z",
     "iopub.status.busy": "2025-02-27T01:06:49.181894Z",
     "iopub.status.idle": "2025-02-27T01:11:54.454088Z",
     "shell.execute_reply": "2025-02-27T01:11:54.453328Z",
     "shell.execute_reply.started": "2025-02-27T01:06:49.182600Z"
    },
    "trusted": true
   },
   "outputs": [
    {
     "name": "stdout",
     "output_type": "stream",
     "text": [
      "Input batch (encoded): {'input_ids': tensor([[   1,  450, 1820,  304, 2834,  338]], device='cuda:0'), 'attention_mask': tensor([[1, 1, 1, 1, 1, 1]], device='cuda:0')}\n",
      "\n",
      "Output: <s> The key to life is to keep your eyes open.\n",
      "I've been so busy with work and life in general that I have not had time to read and write. I'm hoping to change that this weekend. I'm hoping to finish a book that I started a few months ago, and I'm hoping to start a few new ones.\n",
      "I'm also hoping to get some new writing done. I have a few projects I'm working on, and I'm hoping to get some time to work on them this weekend.\n",
      "The most important thing is to make sure you have a good time. I'm hoping to do just that this weekend.\n",
      "How to Become a Master of Life and Work\n",
      "The 10 Best Life and Work Books\n",
      "The Best Books on Life and Work\n",
      "The Best Books on Work and Life\n",
      "The Best Books on Life and Work: 10 Books That Will Change Your Life\n",
      "The\n"
     ]
    }
   ],
   "source": [
    "prompt = 'The key to life is' #'The first discovered martian lifeform looks like'\n",
    "batch = tokenizer(prompt, return_tensors='pt', return_token_type_ids=False).to(device)\n",
    "print(\"Input batch (encoded):\", batch)\n",
    "\n",
    "output_tokens = model.generate(**batch, generation_config=generation_config)\n",
    "\n",
    "print(\"\\nOutput:\", tokenizer.decode(output_tokens[0].cpu()))\n",
    "#print(tokenizer.decode(output[0], skip_special_tokens=True))"
   ]
  },
  {
   "cell_type": "markdown",
   "metadata": {
    "id": "P17ehC1sKgzx"
   },
   "source": [
    "#### Low-level code for text generation"
   ]
  },
  {
   "cell_type": "code",
   "execution_count": null,
   "metadata": {
    "execution": {
     "iopub.execute_input": "2025-02-27T01:14:45.712189Z",
     "iopub.status.busy": "2025-02-27T01:14:45.711862Z",
     "iopub.status.idle": "2025-02-27T01:14:57.605958Z",
     "shell.execute_reply": "2025-02-27T01:14:57.605007Z",
     "shell.execute_reply.started": "2025-02-27T01:14:45.712165Z"
    },
    "trusted": true
   },
   "outputs": [],
   "source": [
    "model_name = 'meta-llama/Llama-3.2-3B' #'huggyllama/llama-7b'\n",
    "tokenizer = AutoTokenizer.from_pretrained(model_name, device_map=device)\n",
    "tokenizer.pad_token_id = tokenizer.eos_token_id\n",
    "model = AutoModelForCausalLM.from_pretrained(\n",
    "    model_name,\n",
    "    device_map='auto',\n",
    "    torch_dtype=torch.float16,\n",
    "    low_cpu_mem_usage=True,\n",
    "    offload_state_dict=True\n",
    ")"
   ]
  },
  {
   "cell_type": "code",
   "execution_count": 16,
   "metadata": {
    "colab": {
     "base_uri": "https://localhost:8080/"
    },
    "execution": {
     "iopub.execute_input": "2025-02-27T01:15:13.984373Z",
     "iopub.status.busy": "2025-02-27T01:15:13.984048Z",
     "iopub.status.idle": "2025-02-27T01:15:20.654767Z",
     "shell.execute_reply": "2025-02-27T01:15:20.654053Z",
     "shell.execute_reply.started": "2025-02-27T01:15:13.984346Z"
    },
    "id": "LZJvOMbmG7l8",
    "outputId": "1fe924b7-3b66-41b9-99c0-16619b064035",
    "tags": [],
    "trusted": true
   },
   "outputs": [
    {
     "name": "stdout",
     "output_type": "stream",
     "text": [
      "New York is the capital of \n",
      "\n",
      "Step #0 candidates:\n",
      "Ġthe      : 0.6167 \n",
      "ĠNew      : 0.1334 \n",
      "Ġfashion  : 0.0447 \n",
      "ĠAmerica  : 0.0109 \n",
      "ĠAmerican : 0.0096 \n",
      "\n",
      "Chosen token:  the\n",
      "\n",
      "Step #1 candidates:\n",
      "ĠUnited   : 0.4141 \n",
      "Ġstate    : 0.2322 \n",
      "ĠUS       : 0.0543 \n",
      "Ġworld    : 0.0526 \n",
      "ĠU        : 0.0479 \n",
      "\n",
      "Chosen token:  state\n",
      "\n",
      "Step #2 candidates:\n",
      "Ġof       : 0.9443 \n",
      "Ġwith     : 0.0135 \n",
      "ĠNew      : 0.0129 \n",
      "Ġand      : 0.0069 \n",
      ",         : 0.0042 \n",
      "\n",
      "Chosen token:  of\n",
      "\n",
      "Step #3 candidates:\n",
      "ĠNew      : 0.6362 \n",
      "Ġthe      : 0.3459 \n",
      "Ġthat     : 0.0061 \n",
      "Ġsame     : 0.0012 \n",
      "ĠNY       : 0.0011 \n",
      "\n",
      "Chosen token:  the\n",
      "\n",
      "Step #4 candidates:\n",
      "Ġsame     : 0.9648 \n",
      "ĠUnited   : 0.0249 \n",
      "ĠNew      : 0.0018 \n",
      "ĠUS       : 0.0014 \n",
      "ĠUSA      : 0.0014 \n",
      "\n",
      "Chosen token:  same\n",
      "\n",
      "Step #5 candidates:\n",
      "Ġname     : 0.9961 \n",
      ".         : 0.0003 \n",
      "Ġtitle    : 0.0003 \n",
      "Âł        : 0.0002 \n",
      ",         : 0.0002 \n",
      "\n",
      "Chosen token:  name\n",
      "\n",
      "Step #6 candidates:\n",
      ".         : 0.3545 \n",
      "Ġand      : 0.2288 \n",
      ",         : 0.2150 \n",
      "Ġin       : 0.1081 \n",
      "Ġlocated  : 0.0257 \n",
      "\n",
      "Chosen token:  in\n",
      "\n",
      "Step #7 candidates:\n",
      "Ġthe      : 0.9302 \n",
      "ĠAmerica  : 0.0115 \n",
      "ĠNew      : 0.0084 \n",
      "ĠNorth    : 0.0072 \n",
      "ĠUnited   : 0.0060 \n",
      "\n",
      "Chosen token:  the\n",
      "\n",
      "Step #8 candidates:\n",
      "ĠUnited   : 0.4246 \n",
      "Ġnortheastern: 0.2069 \n",
      "Ġnortheast: 0.0786 \n",
      "ĠNortheast: 0.0761 \n",
      "Ġnorth    : 0.0395 \n",
      "\n",
      "Chosen token:  United\n",
      "\n",
      "Step #9 candidates:\n",
      "ĠStates   : 0.9902 \n",
      "ĠState    : 0.0046 \n",
      "Ġstates   : 0.0006 \n",
      "ĠS        : 0.0005 \n",
      "Ċ         : 0.0004 \n",
      "\n",
      "Chosen token:  States\n",
      "\n"
     ]
    }
   ],
   "source": [
    "prompt = \"New York is the capital of\"\n",
    "# prompt = \"Skippy, a young android, likes to dream about electric\"\n",
    "\n",
    "print(prompt, '\\n')\n",
    "\n",
    "voc = tokenizer.get_vocab()\n",
    "voc_rev = {v:k for k, v in voc.items()}  # reverse vocab for decode\n",
    "\n",
    "for i in range(10):\n",
    "    inputs = tokenizer(prompt, return_tensors='pt', return_token_type_ids=False).to(device)\n",
    "    logits = model.forward(**inputs).logits[0, -1, :]\n",
    "    probs = torch.nn.functional.softmax(logits, dim=-1)\n",
    "    next_token_id = torch.multinomial(probs.flatten(), num_samples=1)\n",
    "\n",
    "    next_token = tokenizer.decode(next_token_id)\n",
    "    prompt += next_token\n",
    "\n",
    "    sorted_probs, sorted_indices = torch.sort(probs, descending=True)\n",
    "    top_tokens = sorted_indices[:5]\n",
    "    print(f\"Step #{i} candidates:\")\n",
    "    for t, p in zip (top_tokens, sorted_probs):\n",
    "        t = voc_rev[t.item()]\n",
    "        print(f\"{t:<10}: {p:.4f} \")\n",
    "\n",
    "    print(f'\\nChosen token: {next_token}', end='\\n\\n', flush=True)"
   ]
  },
  {
   "cell_type": "markdown",
   "metadata": {
    "id": "5ZaQZhPXOPSG"
   },
   "source": [
    "### Part 3: Chain-of-thought prompting (4 points total)\n",
    "\n",
    "![img](https://github.com/kojima-takeshi188/zero_shot_cot/raw/main/img/image_stepbystep.png)\n",
    "\n",
    "---\n",
    "\n"
   ]
  },
  {
   "cell_type": "code",
   "execution_count": null,
   "metadata": {
    "colab": {
     "base_uri": "https://localhost:8080/"
    },
    "id": "N2AmfelTn5en",
    "outputId": "fecfe17f-d07c-40d1-c74f-a99e6b86e392",
    "trusted": true
   },
   "outputs": [],
   "source": [
    "import json\n",
    "import random\n",
    "import locale; locale.getpreferredencoding = lambda: \"UTF-8\"\n",
    "!wget https://raw.githubusercontent.com/kojima-takeshi188/zero_shot_cot/2824685e25809779dbd36900a69825068e9f51ef/dataset/AQuA/test.json -O aqua.json\n",
    "data = list(map(json.loads, open(\"aqua.json\")))"
   ]
  },
  {
   "cell_type": "code",
   "execution_count": null,
   "metadata": {
    "colab": {
     "base_uri": "https://localhost:8080/"
    },
    "id": "IATXmPfYw8s6",
    "outputId": "6820f54e-3045-4248-db3a-d531f2281d1c",
    "trusted": true
   },
   "outputs": [],
   "source": [
    "print(\"Example:\")\n",
    "data[150]"
   ]
  },
  {
   "cell_type": "markdown",
   "metadata": {
    "id": "6UcOYQPW8sVq"
   },
   "source": [
    "### Naive solution\n",
    "\n",
    "Here, we prompt the model to choose an answer to the example above (`data[150]`) out of the options given above. We're using a format that mimics grade school solution textbook.\n",
    "\n",
    "Please note that there are minor formatting changes in options: an extra space and an opening bracket. Those may or may not be important :)"
   ]
  },
  {
   "cell_type": "code",
   "execution_count": null,
   "metadata": {
    "id": "KtkkdiJl3-UI",
    "trusted": true
   },
   "outputs": [],
   "source": [
    "EXAMPLE_0SHOT = \"\"\"\n",
    "Question: Janice bikes at 10 miles per hour, while Jennie bikes at 20. How long until they have collectively biked 1 mile?\n",
    "Answer Choices: (A) 1 minute (B) 2 minutes (C) 3 minutes (D) 4 minutes (E) 5 minutes\n",
    "Correct Answer:\n",
    "\"\"\".strip()"
   ]
  },
  {
   "cell_type": "code",
   "execution_count": null,
   "metadata": {
    "colab": {
     "base_uri": "https://localhost:8080/"
    },
    "id": "hyQ_8tJc6nyv",
    "outputId": "4cf634aa-d4db-41a8-e97b-4c97a66ad819",
    "trusted": true
   },
   "outputs": [],
   "source": [
    "# solving an equation directly\n",
    "batch = tokenizer(EXAMPLE_0SHOT, return_tensors='pt', return_token_type_ids=False).to(device)\n",
    "torch.manual_seed(1337)\n",
    "output_tokens = model.generate(**batch, max_new_tokens=100, do_sample=True, top_p=0.9)\n",
    "print(\"[Prompt:]\\n\" + EXAMPLE_0SHOT)\n",
    "print(\"=\" * 80)\n",
    "print(\"[Generated:]\", tokenizer.decode(output_tokens[0][batch['input_ids'].shape[1]:].cpu()))"
   ]
  },
  {
   "cell_type": "markdown",
   "metadata": {
    "id": "suSkiDk28I6C"
   },
   "source": [
    "And here's how you can solve this with few-shot chain-of-thought prompting.\n",
    "\n",
    "You need to chang 3 things\n",
    "- use a new field called **Rationale**, that contains a step-by-step solution to the problem\n",
    "- add several few-shot examples of previously solved problems **with rationales**\n",
    "- change the final prompt so that the model has to generate rationale before answering"
   ]
  },
  {
   "cell_type": "code",
   "execution_count": null,
   "metadata": {
    "id": "K0F1jYdRvoJW",
    "trusted": true
   },
   "outputs": [],
   "source": [
    "EXAMPLE_3SHOT_CHAIN_OF_THOUGHT = \"\"\"\n",
    "Question: The original retail price of an appliance was 60 percent more than its wholesale cost. If the appliance was actually sold for 20 percent less than the original retail price, then it was sold for what percent more than its wholesale cost?\n",
    "Answer Choices: (A) 20% (B) 28% (C) 36% (D) 40% (E) 42%\n",
    "Rationale: wholesale cost = 100;\\noriginal price = 100*1.6 = 160;\\nactual price = 160*0.8 = 128.\\nAnswer: B.\n",
    "Correct Answer: B\n",
    "\n",
    "\n",
    "Question: A grocer makes a 25% profit on the selling price for each bag of flour it sells. If he sells each bag for $100 and makes $3,000 in profit, how many bags did he sell?\n",
    "Answer Choices: (A) 12 (B) 16 (C) 24 (D) 30 (E) 40\n",
    "Rationale: Profit on one bag: 100*1.25= 125\\nNumber of bags sold = 3000/125 = 24\\nAnswer is C.\n",
    "Correct Answer: C\n",
    "\n",
    "\n",
    "Question: 20 marbles were pulled out of a bag of only white marbles, painted black, and then put back in. Then, another 20 marbles were pulled out, of which 1 was black, after which they were all returned to the bag. If the percentage of black marbles pulled out the second time represents their percentage in the bag, how many marbles in total Q does the bag currently hold?\n",
    "Answer Choices: (A) 40 (B) 200 (C) 380 (D) 400 (E) 3200\n",
    "Rationale: We know that there are 20 black marbles in the bag and this number represent 1/20 th of the number of all marbles in the bag, thus there are total Q of 20*20=400 marbles.\\nAnswer: D.\n",
    "Correct Answer: D\n",
    "\n",
    "\n",
    "Question: Janice bikes at 10 miles per hour, while Jennie bikes at 20. How long until they have collectively biked 1 mile?\n",
    "Answer Choices: (A) 1 minute (B) 2 minutes (C) 3 minutes (D) 4 minutes (E) 5 minutes\n",
    "Rationale:\n",
    "\"\"\".strip()"
   ]
  },
  {
   "cell_type": "code",
   "execution_count": null,
   "metadata": {
    "colab": {
     "base_uri": "https://localhost:8080/"
    },
    "id": "Tn8QoAYcRkHC",
    "outputId": "54ec824a-33c5-4554-b0e9-0e0a9c246994",
    "trusted": true
   },
   "outputs": [],
   "source": [
    "batch = tokenizer(EXAMPLE_3SHOT_CHAIN_OF_THOUGHT, return_tensors='pt', return_token_type_ids=False).to(device)\n",
    "torch.manual_seed(1337)\n",
    "output_tokens = model.generate(**batch, max_new_tokens=100, do_sample=True, top_p=0.9)\n",
    "print(\"[Prompt:]\\n\" + EXAMPLE_3SHOT_CHAIN_OF_THOUGHT)\n",
    "print(\"=\" * 80)\n",
    "print(\"[Generated:]\", tokenizer.decode(output_tokens[0][batch['input_ids'].shape[1]:].cpu()))\n",
    "#### NOTE: scroll down for the final answer (below the ======= line)"
   ]
  },
  {
   "cell_type": "markdown",
   "metadata": {
    "id": "s4px3jv-99-m"
   },
   "source": [
    "__Task 5 (3 pt)__ write a function that automatically creates chain-of-thought prompts. Follow the instructions from the function docstring."
   ]
  },
  {
   "cell_type": "code",
   "execution_count": null,
   "metadata": {
    "id": "_ntyFPMt9fyt",
    "trusted": true
   },
   "outputs": [],
   "source": [
    "QUESTION_PREFIX = \"Question: \"\n",
    "OPTIONS_PREFIX = \"Answer Choices: \"\n",
    "CHAIN_OF_THOUGHT_PREFIX = \"Rationale: \"\n",
    "ANSWER_PREFIX = \"Correct Answer: \"\n",
    "FEWSHOT_SEPARATOR = \"\\n\\n\\n\"\n",
    "\n",
    "def make_prompt(*, main_question, fewshot_examples):\n",
    "  \"\"\"\n",
    "  Your goal is to produce the same prompt as the EXAMPLE_3SHOT_CHAIN_OF_THOUGHT automatically\n",
    "\n",
    "  For each few-shot question, make sure to follow the following rules:\n",
    "  1. Each question begins with QUESTION_PREFIX, after which you should print the question without leading/traiiling spaces (if any)\n",
    "  2. After the question, provide space-separated options. Each option should be put in double brackets, followed by option text, e.g. \"(A) 146%\"\n",
    "  3. Then, provide the answer as a single letter (A-E)\n",
    "  4. Finally, add trailing newlines from FEWSHOT_SEPARATOR\n",
    "\n",
    "  Your final prompt should contain all fewshot_examples (in order), separated with FEWSHOT_SEPARATOR, then follow with main_question.\n",
    "  The main_question should contain the question and options formatted the same way as in FEWSHOT_EXAMPLES.\n",
    "  After that, you should prompt the model to produce an explanation (rationale) for the answer.\n",
    "\n",
    "  Please make sure your prompt contains no leading/trailing newlines or spaces, same as in EXAMPLE_3SHOT_CHAIN_OF_THOUGHT\n",
    "  \"\"\"\n",
    "\n",
    "  <YOUR CODE HERE>\n",
    "\n",
    "  return <a string that contains the prompt formatted as per instructions above>\n",
    "\n",
    "\n",
    "\n",
    "generated_fewshot_prompt = make_prompt(main_question=data[150], fewshot_examples=(data[30], data[20], data[5]))\n",
    "assert generated_fewshot_prompt == EXAMPLE_3SHOT_CHAIN_OF_THOUGHT, \"prompts don't match\"\n",
    "assert generated_fewshot_prompt != make_prompt(main_question=data[150], fewshot_examples=())\n",
    "assert generated_fewshot_prompt.endswith(make_prompt(main_question=data[150], fewshot_examples=()))\n",
    "\n",
    "print(\"Well done!\")\n",
    "\n",
    "# Hint: if two prompts do not match, you may find it usefull to use https://www.diffchecker.com or similar to find the difference"
   ]
  },
  {
   "cell_type": "markdown",
   "metadata": {
    "id": "P7DzQ8hfOcFR"
   },
   "source": [
    "__Task 6 (3 points):__ Evaluate your prompt.\n",
    "\n",
    "Please run the model on the entire dataset and measure it's accuracy.\n",
    "For each question, peak $n=5$ other questions at random to serve as few-shot examples. Make sure not to accidentally sample the main_question among few-shot examples. For scientific evaluation, it is also a good practice to split the data into two parts: one for eval, and another for few-shot examples. However, doing so is optional in this homework.\n",
    "\n",
    "The tricky part is when to stop generating: if you don't control for this, your model can accidentally generate a whole new question - and promptyly answer it :) To make sure you get the correct answer, stop generating tokens when the model is done explaining it's solution. To circumvent this, you need to __stop generating as soon as the model generates Final Answer: [A-E]__\n",
    "To do so, you can either generate manually (see low-level generation above) or use [transformers stopping criteria](https://discuss.huggingface.co/t/implimentation-of-stopping-criteria-list/20040/2), whichever you prefer.\n",
    "\n",
    "If you do everything right, the model should be much better than random. However, please __do not expect miracles__: this is far from the best models, and it will perform much worse than an average human."
   ]
  },
  {
   "cell_type": "code",
   "execution_count": null,
   "metadata": {
    "id": "oMvj9eCtQwnz",
    "trusted": true
   },
   "outputs": [],
   "source": [
    "NUM_SAMPLES = 0    # use this to count how many samples you evaluated\n",
    "NUM_RESPONDED = 0  # how many times did the model produce Correct Answer: (letter) in it's response. use as a sanity check.\n",
    "NUM_CORRECT = 0    # how many times did the model's chosen answer (letter) match the correct answer"
   ]
  },
  {
   "cell_type": "code",
   "execution_count": null,
   "metadata": {
    "id": "Zh6gejr0JNuh",
    "trusted": true
   },
   "outputs": [],
   "source": [
    "< A whole lot of your code here >\n",
    "\n",
    "# Optionally, consider inferencing multiple sentences in a batch for faster inference;\n",
    "# If you choose to batch outputs, make sure the results are the same as with batch=1 (using greedy inference)"
   ]
  },
  {
   "cell_type": "code",
   "execution_count": null,
   "metadata": {
    "id": "gxrCJvxIJSjA",
    "trusted": true
   },
   "outputs": [],
   "source": [
    "print(\"Responded %%:\", NUM_RESPONDED / NUM_SAMPLES)\n",
    "print(\"Accuracy (when responded):\", NUM_CORRECT / NUM_RESPONDED)\n",
    "print(\"Accuracy (overall):\", NUM_CORRECT / NUM_SAMPLES)\n",
    "\n",
    "if NUM_RESPONDED / NUM_SAMPLES < 0.9:\n",
    "  print(\"Something is wrong with the evaluation technique (for 5-shot CoT): the model refuses to answer too many questions.\")\n",
    "  print(\"Make sure you generate enough tokens that the model can produce a correct answer.\")\n",
    "  print(\"When in doubt, take a look at the full model output. You can often spot errors there.\")"
   ]
  },
  {
   "cell_type": "markdown",
   "metadata": {
    "id": "UZLK2rLiKxbM"
   },
   "source": [
    "__Task 7 (2 points)__ Experiment time!\n",
    "<img width=200px src=https://www.evolvefish.com/cdn-cgi/image/quality%3D85/assets/images/Apparel/TShirtsWomenCont/Main/EF-APP-CWT-00068(Main).jpg>\n",
    "\n",
    "Your final quest is to use the testbench you've just written to answer one of the following questions:\n",
    "\n",
    "### Option 1: How many shots do you need?\n",
    "\n",
    "How does model accuracy change with the number of fewshot examples?\n",
    "\n",
    "a. check if the model accuracy changes as you increase/decrease the number of \"shots\"\n",
    "\n",
    "b. try to prompt-engineer a model into giving the best rationale __without__ any few-shot examples, i.e. zero-shot\n",
    "\n",
    "For zero-shot mode, feel free to use wild prompt-engineering or modify the inference procedure.\n",
    "\n",
    "### Option 2: Is this prompting tecnique reliable?\n",
    "\n",
    "_Inspired by ongoing research by Anton Voronov, Lena Volf and Max Ryabinin._\n",
    "\n",
    "For this option, you need to check if the model behavior (and hence, accuracy) is robust to perturbations in the input prompt.\n",
    "\n",
    "a. Does the accuracy degrade if you provide wrong answers to few-shot examples? (make sure to modify rationale if it contains answer in the end)\n",
    "\n",
    "b. Does it degrade if you replace question/answer prompts with \"Q\" and \"A\"? What if you write both on the same line? Change few-shot separators?\n",
    "\n",
    "\n",
    "\n",
    "### Option 3: Inference Matters\n",
    "\n",
    "There are many ways to inference the model, not all of them equal.\n",
    "\n",
    "a. check whether greedy inference or beam search affects model generation quality\n",
    "\n",
    "b. implement and evaluate sampling with voting (see explanation below).\n",
    "\n",
    "\n",
    "The voting technique(b) should work as follows: first, you generate k (e.g. 50) \"attempts\" at an answer using nucleus sampling (or a similar technique).\n",
    "Then, you count how many of those attempts chose a particular option (A, B, etc) as the final answer. The option that was chosen most frequently has the most \"votes\", and therefore \"wins\".\n",
    "\n",
    "To speed up voting, you may want to generate these attempts in parallel as a batch. That should be very easy to implement: just run `model.generate` on a list with multiple copies of the same prompt.\n",
    "\n",
    "\n",
    "\n",
    "\n",
    "================================================\n",
    "\n",
    "__Common rules:__ You will need to test both hypothes (A and B) in the chosen option. You may choose to replace one of them with your own idea - but please ask course staff in advance (via telegram) if you want full points.\n",
    "\n",
    "Feel free to organize your code and report as you see fit - but please make sure it's readable and the code runs top-to-bottom :)\n",
    "Write a short informal report about what you tried and, in doing so, what did you found. Minimum of 2 paragraphs; more is ok; creative visualizations are welcome.\n",
    "\n",
    "You are allowed (but not required) to prompt the model into generating a report for you --- or helping you write one. However, if you do so, make sure that it is still human-readable :)\n",
    "\n"
   ]
  },
  {
   "cell_type": "code",
   "execution_count": null,
   "metadata": {
    "id": "_r6UVDl4NEua",
    "trusted": true
   },
   "outputs": [],
   "source": [
    "# feel free to organize your solution as you see it"
   ]
  }
 ],
 "metadata": {
  "accelerator": "GPU",
  "colab": {
   "gpuType": "T4",
   "provenance": []
  },
  "kaggle": {
   "accelerator": "nvidiaTeslaT4",
   "dataSources": [],
   "dockerImageVersionId": 30919,
   "isGpuEnabled": true,
   "isInternetEnabled": true,
   "language": "python",
   "sourceType": "notebook"
  },
  "kernelspec": {
   "display_name": "Python 3",
   "language": "python",
   "name": "python3"
  },
  "language_info": {
   "codemirror_mode": {
    "name": "ipython",
    "version": 3
   },
   "file_extension": ".py",
   "mimetype": "text/x-python",
   "name": "python",
   "nbconvert_exporter": "python",
   "pygments_lexer": "ipython3",
   "version": "3.11.5"
  }
 },
 "nbformat": 4,
 "nbformat_minor": 4
}
