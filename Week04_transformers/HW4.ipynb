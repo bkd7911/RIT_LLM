{
 "cells": [
  {
   "cell_type": "markdown",
   "metadata": {
    "id": "HmsFABwClrsS"
   },
   "source": [
    "## Attention Model  (10 pt)\n",
    "\n",
    "Credit to https://github.com/yandexdataschool/nlp_course/blob/2023/week04_seq2seq/practice_and_homework_pytorch.ipynb\n",
    "\n",
    "In previous notebook we composed encoder-decoder recurrent neural networks and applied it to the task of machine translation.\n",
    "\n",
    "![img](https://esciencegroup.files.wordpress.com/2016/03/seq2seq.jpg)\n",
    "_(img: esciencegroup.files.wordpress.com)_\n"
   ]
  },
  {
   "cell_type": "markdown",
   "metadata": {
    "id": "R4N9AD2dlrsU"
   },
   "source": [
    "## Our task today to add additive attention\n"
   ]
  },
  {
   "cell_type": "code",
   "metadata": {
    "id": "GKSszqZLsHCe"
   },
   "source": [
    "#We'll use data from https://www.kaggle.com/datasets/devicharith/language-translation-englishfrench"
   ],
   "outputs": [],
   "execution_count": null
  },
  {
   "cell_type": "code",
   "metadata": {
    "id": "klOUlqvHWM3D"
   },
   "source": "#!kaggle datasets download -d devicharith/language-translation-englishfrench",
   "outputs": [],
   "execution_count": null
  },
  {
   "cell_type": "code",
   "metadata": {
    "colab": {
     "base_uri": "https://localhost:8080/"
    },
    "id": "IgNi2BF5GVeN",
    "outputId": "7ec56f03-d9a0-40c4-ef57-de3fc7ffe7a2"
   },
   "source": [
    "#!unzip language-translation-englishfrench.zip"
   ],
   "outputs": [],
   "execution_count": null
  },
  {
   "cell_type": "code",
   "metadata": {
    "colab": {
     "base_uri": "https://localhost:8080/"
    },
    "id": "CfvojjHQlrsU",
    "outputId": "411f9b54-1d2a-484e-cc4c-8a40b12e4dd6"
   },
   "source": [
    "\n",
    "# !pip3 install torch>=1.3.0\n",
    "!pip3 install subword-nmt &> log\n",
    "#!wget https://www.dropbox.com/s/yy2zqh34dyhv07i/data.txt?dl=1 -O data.txt\n",
    "!wget https://raw.githubusercontent.com/yandexdataschool/nlp_course/2020/week04_seq2seq/vocab.py -O vocab.py\n",
    "# thanks to tilda and deephack teams for the data, Dmitry Emelyanenko for the code :)"
   ],
   "outputs": [],
   "execution_count": null
  },
  {
   "cell_type": "code",
   "metadata": {
    "colab": {
     "base_uri": "https://localhost:8080/"
    },
    "id": "ftz2jyA4sjnV",
    "outputId": "53de56f9-c4cb-435d-bd46-ecbcce04c21e"
   },
   "source": [
    "import csv\n",
    "from nltk.tokenize import WordPunctTokenizer\n",
    "from subword_nmt.learn_bpe import learn_bpe\n",
    "from subword_nmt.apply_bpe import BPE\n",
    "tokenizer = WordPunctTokenizer()\n",
    "def tokenize(x):\n",
    "    return ' '.join(tokenizer.tokenize(x.lower()))\n",
    "\n",
    "# split and tokenize the data\n",
    "with open('train.en', 'w') as f_src,  open('train.fr', 'w') as f_dst:\n",
    "  with open('eng_-french.csv', 'r') as csv_file:\n",
    "    csv_reader = csv.reader(csv_file)\n",
    "    header = next(csv_reader)\n",
    "    for line in csv_reader:\n",
    "        src_line, dst_line = line[0], line[1]\n",
    "        f_src.write(tokenize(src_line) + '\\n')\n",
    "        f_dst.write(tokenize(dst_line) + '\\n')\n",
    "\n",
    "# build and apply bpe vocs\n",
    "bpe = {}\n",
    "for lang in ['en', 'fr']:\n",
    "    learn_bpe(open('./train.' + lang), open('bpe_rules.' + lang, 'w'), num_symbols=8000)\n",
    "    bpe[lang] = BPE(open('./bpe_rules.' + lang))\n",
    "\n",
    "    with open('train.bpe.' + lang, 'w') as f_out:\n",
    "        for line in open('train.' + lang):\n",
    "            f_out.write(bpe[lang].process_line(line.strip()) + '\\n')"
   ],
   "outputs": [],
   "execution_count": null
  },
  {
   "cell_type": "code",
   "metadata": {
    "colab": {
     "base_uri": "https://localhost:8080/",
     "height": 35
    },
    "id": "8aRmTrJEvlPj",
    "outputId": "5c86ff64-a18c-4d41-9778-91fad1bd2008"
   },
   "source": [
    "bpe['en'].process_line('A quick brown fox jumps over a lazy dog')"
   ],
   "outputs": [],
   "execution_count": null
  },
  {
   "cell_type": "markdown",
   "metadata": {
    "id": "0UPW3sV8lrsb"
   },
   "source": [
    "### Building vocabularies\n",
    "\n",
    "We now need to build vocabularies that map strings to token ids and vice versa. We're gonna need these fellas when we feed training data into model or convert output matrices into words."
   ]
  },
  {
   "cell_type": "code",
   "metadata": {
    "id": "CmTy_m_olrsb"
   },
   "source": [
    "import numpy as np\n",
    "import matplotlib.pyplot as plt\n",
    "%matplotlib inline"
   ],
   "outputs": [],
   "execution_count": null
  },
  {
   "cell_type": "code",
   "metadata": {
    "colab": {
     "base_uri": "https://localhost:8080/"
    },
    "id": "8PskgBSxlrsd",
    "outputId": "3667ee49-869d-4d52-b2cf-31bedb93e935"
   },
   "source": [
    "#data_inp = np.array(open('./train.bpe.ru').read().split('\\n'))\n",
    "data_inp = np.array(open('./train.bpe.fr').read().split('\\n'))\n",
    "data_out = np.array(open('./train.bpe.en').read().split('\\n'))\n",
    "\n",
    "from sklearn.model_selection import train_test_split\n",
    "train_inp, dev_inp, train_out, dev_out = train_test_split(data_inp, data_out, test_size=3000,\n",
    "                                                          random_state=42)\n",
    "for i in range(3):\n",
    "    print('inp:', train_inp[i])\n",
    "    print('out:', train_out[i], end='\\n\\n')"
   ],
   "outputs": [],
   "execution_count": null
  },
  {
   "cell_type": "code",
   "metadata": {
    "id": "vipg4O61lrsg"
   },
   "source": [
    "from vocab import Vocab\n",
    "inp_voc = Vocab.from_lines(train_inp)\n",
    "out_voc = Vocab.from_lines(train_out)"
   ],
   "outputs": [],
   "execution_count": null
  },
  {
   "cell_type": "markdown",
   "metadata": {
    "id": "BHWgx34flrsn"
   },
   "source": [
    "### Encoder-decoder model\n",
    "\n",
    "The code below contains a template for a simple encoder-decoder model: single GRU encoder/decoder, no attention or anything. This model is implemented for you as a reference and a baseline for your homework assignment."
   ]
  },
  {
   "cell_type": "code",
   "metadata": {
    "id": "pd_rDRm9lrso"
   },
   "source": [
    "import torch\n",
    "import torch.nn as nn\n",
    "import torch.nn.functional as F\n",
    "# device = 'cuda' if torch.cuda.is_available() else 'cpu'"
   ],
   "outputs": [],
   "execution_count": null
  },
  {
   "cell_type": "code",
   "metadata": {
    "id": "Wsa-C5zzvlPo"
   },
   "source": "device = \"cuda\" if torch.cuda.is_available() else \"mps\" if torch.mps.is_available() else \"cpu\"",
   "outputs": [],
   "execution_count": null
  },
  {
   "cell_type": "code",
   "metadata": {
    "id": "wgfN5-F7lrst"
   },
   "source": [
    "class BasicModel(nn.Module):\n",
    "    def __init__(self, inp_voc, out_voc, emb_size=64, hid_size=128):\n",
    "        \"\"\"\n",
    "        A simple encoder-decoder seq2seq model\n",
    "        \"\"\"\n",
    "        super().__init__() # initialize base class to track sub-layers, parameters, etc.\n",
    "\n",
    "        self.inp_voc, self.out_voc = inp_voc, out_voc\n",
    "        self.hid_size = hid_size\n",
    "\n",
    "        self.emb_inp = nn.Embedding(len(inp_voc), emb_size)\n",
    "        self.emb_out = nn.Embedding(len(out_voc), emb_size)\n",
    "        self.enc0 = nn.GRU(emb_size, hid_size, batch_first=True)\n",
    "\n",
    "        self.dec_start = nn.Linear(hid_size, hid_size) #connection between encoder and decoder\n",
    "        self.dec0 = nn.GRUCell(emb_size, hid_size)\n",
    "        self.logits = nn.Linear(hid_size, len(out_voc))\n",
    "\n",
    "    def forward(self, inp, out):\n",
    "        \"\"\" Apply model in training mode \"\"\"\n",
    "        initial_state = self.encode(inp)\n",
    "        return self.decode(initial_state, out)\n",
    "\n",
    "\n",
    "    def encode(self, inp, **flags):\n",
    "        \"\"\"\n",
    "        Takes symbolic input sequence, computes initial state\n",
    "        :param inp: matrix of input tokens [batch, time]\n",
    "        :returns: initial decoder state tensors, one or many\n",
    "        \"\"\"\n",
    "        inp_emb = self.emb_inp(inp)\n",
    "        batch_size = inp.shape[0]\n",
    "\n",
    "        enc_seq, [last_state_but_not_really] = self.enc0(inp_emb)\n",
    "        # enc_seq: [batch, time, hid_size], last_state: [batch, hid_size]\n",
    "\n",
    "        # note: last_state is not _actually_ last because of padding, let's find the real last_state\n",
    "        lengths = (inp != self.inp_voc.eos_ix).to(torch.int64).sum(dim=1).clamp_max(inp.shape[1] - 1)\n",
    "        # print((inp != self.inp_voc.eos_ix).to(torch.int64))\n",
    "        last_state = enc_seq[torch.arange(len(enc_seq)), lengths]\n",
    "        # ^-- shape: [batch_size, hid_size]\n",
    "\n",
    "        dec_start = self.dec_start(last_state)\n",
    "        return [dec_start] \n",
    "\n",
    "    def decode_step(self, prev_state, prev_tokens, **flags):\n",
    "        \"\"\"\n",
    "        Takes previous decoder state and tokens, returns new state and logits for next tokens\n",
    "        :param prev_state: a list of previous decoder state tensors, same as returned by encode(...)\n",
    "        :param prev_tokens: previous output tokens, an int vector of [batch_size]\n",
    "        :return: a list of next decoder state tensors, a tensor of logits [batch, len(out_voc)]\n",
    "        \"\"\"\n",
    "        # prev_gru0_state = prev_state[0]\n",
    "        [prev_gru0_state, ] = prev_state\n",
    "\n",
    "        prev_token_embs = self.emb_out(prev_tokens)\n",
    "\n",
    "        new_gru_activations = self.dec0(prev_token_embs, prev_gru0_state)\n",
    "        new_dec_state = [new_gru_activations]\n",
    "        output_logits = self.logits(new_gru_activations)\n",
    "\n",
    "        return new_dec_state, output_logits\n",
    "\n",
    "    def decode(self, initial_state, out_tokens, **flags):\n",
    "        \"\"\" Iterate over reference tokens (out_tokens) with decode_step \"\"\"\n",
    "        batch_size = out_tokens.shape[0]\n",
    "        state = initial_state\n",
    "\n",
    "        # initial logits: always predict BOS\n",
    "        onehot_bos = F.one_hot(torch.full([batch_size], self.out_voc.bos_ix, dtype=torch.int64),\n",
    "                               num_classes=len(self.out_voc)).to(device=out_tokens.device)\n",
    "        first_logits = torch.log(onehot_bos.to(torch.float32) + 1e-9)\n",
    "\n",
    "        logits_sequence = [first_logits]\n",
    "        for i in range(out_tokens.shape[1] - 1):\n",
    "            state, logits = self.decode_step(state, out_tokens[:, i])\n",
    "            logits_sequence.append(logits)\n",
    "        return torch.stack(logits_sequence, dim=1)\n",
    "\n",
    "    def decode_inference(self, initial_state, max_len=100, **flags):\n",
    "        \"\"\" Generate translations from model (greedy version) \"\"\"\n",
    "        batch_size, device = len(initial_state[0]), initial_state[0].device\n",
    "        state = initial_state\n",
    "        outputs = [torch.full([batch_size], self.out_voc.bos_ix, dtype=torch.int64,\n",
    "                              device=device)]\n",
    "        all_states = [initial_state]\n",
    "\n",
    "        for i in range(max_len):\n",
    "            state, logits = self.decode_step(state, outputs[-1])\n",
    "            outputs.append(logits.argmax(dim=-1))\n",
    "            all_states.append(state)\n",
    "\n",
    "        return torch.stack(outputs, dim=1), all_states\n",
    "\n",
    "    def translate_lines(self, inp_lines, **kwargs):\n",
    "        inp = self.inp_voc.to_matrix(inp_lines).to(device)\n",
    "        initial_state = self.encode(inp)\n",
    "        out_ids, states = self.decode_inference(initial_state, **kwargs)\n",
    "        return self.out_voc.to_lines(out_ids.cpu().numpy()), states\n"
   ],
   "outputs": [],
   "execution_count": null
  },
  {
   "cell_type": "markdown",
   "metadata": {
    "id": "_wuv1-aVlrs0"
   },
   "source": [
    "### Training loss\n",
    "\n",
    "Our training objective is almost the same as it was for neural language models:\n",
    "$$ L = {\\frac1{|D|}} \\sum_{X, Y \\in D} \\sum_{y_t \\in Y} - \\log p(y_t \\mid y_1, \\dots, y_{t-1}, X, \\theta) $$\n",
    "\n",
    "where $|D|$ is the __total length of all sequences__, including BOS and first EOS, but excluding PAD."
   ]
  },
  {
   "cell_type": "markdown",
   "metadata": {
    "id": "HpbaBpW7lrs-"
   },
   "source": [
    "### Evaluation: BLEU\n",
    "\n",
    "Machine translation is commonly evaluated with [BLEU](https://en.wikipedia.org/wiki/BLEU) score. This metric simply computes which fraction of predicted n-grams is actually present in the reference translation. It does so for n=1,2,3 and 4 and computes the geometric average with penalty if translation is shorter than reference.\n",
    "\n",
    "While BLEU [has many drawbacks](http://www.cs.jhu.edu/~ccb/publications/re-evaluating-the-role-of-bleu-in-mt-research.pdf), it still remains the most commonly used metric and one of the simplest to compute."
   ]
  },
  {
   "metadata": {},
   "cell_type": "code",
   "source": [
    "from nltk.translate.bleu_score import corpus_bleu\n",
    "def compute_bleu(model, inp_lines, out_lines, bpe_sep='@@ ', **flags):\n",
    "    \"\"\"\n",
    "    Estimates corpora-level BLEU score of model's translations given inp and reference out\n",
    "    Note: if you're serious about reporting your results, use https://pypi.org/project/sacrebleu\n",
    "    \"\"\"\n",
    "    with torch.no_grad():\n",
    "        translations, _ = model.translate_lines(inp_lines, **flags)\n",
    "        translations = [line.replace(bpe_sep, '') for line in translations]\n",
    "        actual = [line.replace(bpe_sep, '') for line in out_lines]\n",
    "        return corpus_bleu(\n",
    "            [[ref.split()] for ref in actual],\n",
    "            [trans.split() for trans in translations],\n",
    "            smoothing_function=lambda precisions, **kw: [p + 1.0 / p.denominator for p in precisions]\n",
    "            ) * 100"
   ],
   "outputs": [],
   "execution_count": null
  },
  {
   "cell_type": "markdown",
   "metadata": {
    "id": "edk_oVg0lrtW"
   },
   "source": [
    "### Your Attention Required\n",
    "\n",
    "In this section we want you to improve over the basic model by implementing a simple attention mechanism.\n",
    "\n",
    "This is gonna be a two-parter: building the __attention layer__ and using it for an __attentive seq2seq model__."
   ]
  },
  {
   "cell_type": "markdown",
   "metadata": {
    "id": "Qz9aROAIlrtX"
   },
   "source": [
    "### Attention layer (1 points)\n",
    "\n",
    "Here you will have to implement a layer that computes a simple additive attention:\n",
    "\n",
    "Given encoder sequence $ h^e_0, h^e_1, h^e_2, ..., h^e_T$ and a single decoder state $h^d$,\n",
    "\n",
    "* Compute logits with a 2-layer neural network\n",
    "$$a_t = linear_{out}(tanh(linear_{e}(h^e_t) + linear_{d}(h_d)))$$\n",
    "* Get probabilities from logits,\n",
    "$$ p_t = {{e ^ {a_t}} \\over { \\sum_\\tau e^{a_\\tau} }} $$\n",
    "\n",
    "* Add up encoder states with probabilities to get __attention response__\n",
    "$$ attn = \\sum_t p_t \\cdot h^e_t $$\n",
    "\n",
    "You can learn more about attention layers in the lecture slides or [from this post](https://distill.pub/2016/augmented-rnns/)."
   ]
  },
  {
   "cell_type": "code",
   "metadata": {
    "id": "CFNhNqajvlP0"
   },
   "source": [
    "class AttentionLayer(nn.Module):\n",
    "    def __init__(self, name, enc_size, dec_size, hid_size, activ=torch.tanh):\n",
    "        \"\"\" A layer that computes additive attention response and weights \"\"\"\n",
    "        super().__init__()\n",
    "        self.name = name\n",
    "        self.enc_size = enc_size # num units in encoder state\n",
    "        self.dec_size = dec_size # num units in decoder state\n",
    "        self.hid_size = hid_size # attention layer hidden units\n",
    "        self.activ = activ       # attention layer hidden nonlinearity\n",
    "\n",
    "        # create trainable paramteres like this:\n",
    "        self.linear_e = nn.Linear(enc_size, hid_size, bias=False)\n",
    "        self.linear_d = nn.Linear(dec_size, hid_size, bias=False)\n",
    "        self.linear_out = nn.Linear(hid_size, 1, bias=False)\n",
    "\n",
    "\n",
    "    def forward(self, enc, dec, inp_mask):\n",
    "        \"\"\"\n",
    "        Computes attention response and weights\n",
    "        :param enc: encoder activation sequence, float32[batch_size, ninp, enc_size]\n",
    "        :param dec: single decoder state used as \"query\", float32[batch_size, dec_size]\n",
    "        :param inp_mask: mask on enc activatons (0 after first eos), float32 [batch_size, ninp]\n",
    "        :returns: attn[batch_size, enc_size], probs[batch_size, ninp]\n",
    "            - attn - attention response vector (weighted sum of enc)\n",
    "            - probs - attention weights after softmax\n",
    "        \"\"\"\n",
    "\n",
    "        # Compute logits\n",
    "        logits = self.linear_out(self.activ(self.linear_e(enc) + self.linear_d(dec.unsqueeze(1))))\n",
    "\n",
    "        # Apply mask - if mask is 0, logits should be -inf or -1e9\n",
    "        # You may need torch.where\n",
    "        logits = torch.where(inp_mask == 0, -torch.inf, logits.squeeze(-1))\n",
    "\n",
    "\n",
    "        # Compute attention probabilities (softmax)\n",
    "        probs = F.softmax(logits, dim=-1)\n",
    "\n",
    "        # Compute attention response using enc and probs\n",
    "        attn = (enc * probs.unsqueeze(-1)).sum(dim=1)\n",
    "\n",
    "        return attn, probs"
   ],
   "outputs": [],
   "execution_count": null
  },
  {
   "cell_type": "markdown",
   "metadata": {
    "id": "IalfpdAelrtb"
   },
   "source": [
    "### Seq2seq model with attention\n",
    "\n",
    "You can now use the attention layer to build a network. The simplest way to implement attention is to use it in decoder phase:\n",
    "![img](https://i.imgur.com/6fKHlHb.png)\n",
    "_image from distill.pub [article](https://distill.pub/2016/augmented-rnns/)_\n",
    "\n",
    "On every step, use __previous__ decoder state to obtain attention response. Then feed concat this response to the inputs of next attention layer.\n",
    "\n",
    "The key implementation detail here is __model state__. Put simply, you can add any tensor into the list of `encode` outputs. You will then have access to them at each `decode` step. This may include:\n",
    "* Last RNN hidden states (as in basic model)\n",
    "* The whole sequence of encoder outputs (to attend to) and mask\n",
    "* Attention probabilities (to visualize)\n",
    "\n",
    "_There are, of course, alternative ways to wire attention into your network and different kinds of attention. Take a look at [this](https://arxiv.org/abs/1609.08144), [this](https://arxiv.org/abs/1706.03762) and [this](https://arxiv.org/abs/1808.03867) for ideas. And for image captioning/im2latex there's [visual attention](https://arxiv.org/abs/1502.03044)_"
   ]
  },
  {
   "cell_type": "code",
   "metadata": {
    "id": "WrgGy80lQjrX"
   },
   "source": [
    "class AttentiveModel(BasicModel):\n",
    "    def __init__(self, name, inp_voc, out_voc,\n",
    "                 emb_size=64, hid_size=128, attn_size=128):\n",
    "        \"\"\" Translation model that uses attention. See instructions above. \"\"\"\n",
    "        nn.Module.__init__(self)  # initialize base class to track sub-layers, trainable variables, etc.\n",
    "        self.inp_voc, self.out_voc = inp_voc, out_voc\n",
    "        self.hid_size = hid_size\n",
    "\n",
    "        self.emb_inp = nn.Embedding(len(inp_voc), emb_size)\n",
    "        self.emb_out = nn.Embedding(len(out_voc), emb_size)\n",
    "        self.enc0 = nn.GRU(emb_size, hid_size, batch_first=True)\n",
    "\n",
    "        self.attn = AttentionLayer(name, hid_size, hid_size, attn_size)\n",
    "        self.dec0 = nn.GRUCell(emb_size + attn_size, hid_size)\n",
    "\n",
    "        self.logits = nn.Linear(hid_size, len(out_voc))\n",
    "        self.name = name\n",
    "\n",
    "\n",
    "    def encode(self, inp, **flags):\n",
    "        \"\"\"\n",
    "        Takes symbolic input sequence, computes initial state\n",
    "        :param inp: matrix of input tokens [batch, time]\n",
    "        :return: a list of initial decoder state tensors\n",
    "        \"\"\"\n",
    "\n",
    "        # encode input sequence, create initial decoder states\n",
    "        inp_emb = self.emb_inp(inp)\n",
    "        batch_size = inp.shape[0]\n",
    "\n",
    "        enc_seq, _ = self.enc0(inp_emb)\n",
    "\n",
    "        # apply attention layer from initial decoder hidden state\n",
    "        mask = self.out_voc.compute_mask(inp)\n",
    "\n",
    "        dec_start = torch.zeros((batch_size, self.hid_size), device=device)\n",
    "\n",
    "        first_attn, first_attn_probas = self.attn(enc_seq, dec_start, mask)\n",
    "\n",
    "\n",
    "\n",
    "        # Build first state: include\n",
    "        # * initial states for decoder recurrent layers\n",
    "        # * encoder sequence and encoder attn mask (for attention)\n",
    "        # * make sure that last state item is attention probabilities tensor\n",
    "\n",
    "        # first_state = [<...>, first_attn_probas]\n",
    "        return [dec_start, enc_seq, mask, first_attn, first_attn_probas]\n",
    "\n",
    "    def decode_step(self, prev_state, prev_tokens, **flags):\n",
    "        \"\"\"\n",
    "        Takes previous decoder state and tokens, returns new state and logits for next tokens\n",
    "        :param prev_state: a list of previous decoder state tensors\n",
    "        :param prev_tokens: previous output tokens, an int vector of [batch_size]\n",
    "        :return: a list of next decoder state tensors, a tensor of logits [batch, n_tokens]\n",
    "        \"\"\"\n",
    "\n",
    "        prev_dec_state, enc_seq, inp_mask, prev_attn, prev_attn_probas = prev_state\n",
    "\n",
    "        prev_tokens_embs = self.emb_out(prev_tokens)\n",
    "\n",
    "\n",
    "        new_dec_state = self.dec0(torch.cat([prev_tokens_embs, prev_attn], dim=-1), prev_dec_state)\n",
    "\n",
    "        output_logits = self.logits(new_dec_state)\n",
    "\n",
    "        attn, attention_probs = self.attn(enc_seq, new_dec_state, inp_mask)\n",
    "\n",
    "        return [new_dec_state, enc_seq, inp_mask, attn, attention_probs], output_logits"
   ],
   "outputs": [],
   "execution_count": null
  },
  {
   "cell_type": "markdown",
   "metadata": {
    "id": "ryZCOTEslrtf"
   },
   "source": [
    "### Training attentive model\n",
    "\n",
    "Please reuse the infrastructure you've built for the regular model. I hope you didn't hard-code anything :)"
   ]
  },
  {
   "cell_type": "code",
   "metadata": {
    "id": "sZ_cZXzRvlP6"
   },
   "source": [
    "from IPython.display import clear_output\n",
    "from tqdm import tqdm, trange\n",
    "\n",
    "# model = BasicModel( inp_voc, out_voc).to(device)\n",
    "model = AttentiveModel(\"attentive\", inp_voc, out_voc).to(device)\n",
    "metrics = {'train_loss': [], 'dev_bleu': []}\n",
    "opt = torch.optim.Adam(model.parameters(), lr=1e-3)\n",
    "batch_size = 64\n",
    "\n",
    "model.train()"
   ],
   "outputs": [],
   "execution_count": null
  },
  {
   "metadata": {},
   "cell_type": "code",
   "source": [
    "def compute_loss(model, inp, out, **flags):\n",
    "    \"\"\"\n",
    "    Compute loss (float32 scalar) as in the formula above\n",
    "    :param inp: input tokens matrix, int32[batch, time]\n",
    "    :param out: reference tokens matrix, int32[batch, time]\n",
    "\n",
    "    In order to pass the tests, your function should\n",
    "    * include loss at first EOS but not the subsequent ones\n",
    "    * divide sum of losses by a sum of input lengths (use voc.compute_mask)\n",
    "    \"\"\"\n",
    "    mask = model.out_voc.compute_mask(out)\n",
    "\n",
    "    # outputs of the model, [batch_size, out_len, num_tokens]\n",
    "    logits_seq = model(inp, out) #<YOUR CODE HERE>\n",
    "\n",
    "    loss = F.cross_entropy(logits_seq.permute(0, 2, 1), out, reduction='none')\n",
    "\n",
    "    # Note: you can compute loss more efficiently using using F.cross_entropy\n",
    "\n",
    "    # average cross-entropy over tokens where mask == True\n",
    "    return (loss*mask).sum() / mask.sum()"
   ],
   "outputs": [],
   "execution_count": null
  },
  {
   "cell_type": "code",
   "metadata": {
    "id": "_2-Xj_AkXpif"
   },
   "source": [
    "from tqdm import tqdm, trange\n",
    "for _ in trange(1):\n",
    "    step = len(metrics['train_loss']) + 1\n",
    "    batch_ix = np.random.randint(len(train_inp), size=batch_size)\n",
    "    batch_inp = inp_voc.to_matrix(train_inp[batch_ix]).to(device)\n",
    "    batch_out = out_voc.to_matrix(train_out[batch_ix]).to(device)\n",
    "\n",
    "\n",
    "\n",
    "    model.train()\n",
    "    loss_t = compute_loss(model, batch_inp, batch_out)\n",
    "    opt.zero_grad()\n",
    "    loss_t.backward()\n",
    "    opt.step()\n",
    "    metrics['train_loss'].append((step, loss_t.item()))\n",
    "\n",
    "    if step % 100 == 0:\n",
    "        model.eval()\n",
    "        dev_bleu = compute_bleu(model, dev_inp, dev_out)\n",
    "        metrics['dev_bleu'].append(dev_bleu)\n",
    "\n",
    "        clear_output(True)\n",
    "        plt.figure(figsize=(12, 4))\n",
    "        for i, (name, history) in enumerate(sorted(metrics.items())):\n",
    "            plt.subplot(1, len(metrics), i + 1)\n",
    "            plt.title(name)\n",
    "            plt.plot(history)\n",
    "            plt.grid()\n",
    "        plt.show()\n",
    "\n",
    "        print(\"Mean loss=%.3f, dev BLEU=%.3f\" % (np.mean(metrics['train_loss'][-10:]), dev_bleu))"
   ],
   "outputs": [],
   "execution_count": null
  },
  {
   "cell_type": "code",
   "metadata": {
    "id": "Kp-dJDF5Srnv"
   },
   "source": "torch.save(model.state_dict(), 'attention_original.pt')",
   "outputs": [],
   "execution_count": null
  },
  {
   "cell_type": "markdown",
   "metadata": {
    "id": "7dAyywDEvlP-"
   },
   "source": [
    "### Visualizing model attention (1 points)\n",
    "\n",
    "After training the attentive translation model, you can check it's sanity by visualizing its attention weights.\n",
    "\n",
    "We provided you with a function that draws attention maps using [`Bokeh`](https://bokeh.pydata.org/en/latest/index.html). Once you managed to produce something better than random noise, please leave them in the notebook or save  bokeh figures and add to your sumbission. You can save bokeh images as screenshots or using this button:\n",
    "\n",
    "![bokeh_panel](https://github.com/yandexdataschool/nlp_course/raw/2019/resources/bokeh_panel.png)\n",
    "\n",
    "__Note:__ you're not locked into using bokeh. If you prefer a different visualization method, feel free to use that instead of bokeh."
   ]
  },
  {
   "cell_type": "code",
   "metadata": {
    "id": "wP7GJaLMvlP_"
   },
   "source": [
    "import bokeh.plotting as pl\n",
    "import bokeh.models as bm\n",
    "from bokeh.io import output_notebook, show\n",
    "output_notebook()\n",
    "\n",
    "def draw_attention(inp_line, translation, probs):\n",
    "    \"\"\" An intentionally ambiguous function to visualize attention weights \"\"\"\n",
    "    inp_tokens = inp_voc.tokenize(inp_line)\n",
    "    trans_tokens = out_voc.tokenize(translation)\n",
    "    probs = probs[:len(trans_tokens), :len(inp_tokens)]\n",
    "\n",
    "    fig = pl.figure(x_range=(0, len(inp_tokens)), y_range=(0, len(trans_tokens)),\n",
    "                    x_axis_type=None, y_axis_type=None, tools=[])\n",
    "    fig.image([probs[::-1]], 0, 0, len(inp_tokens), len(trans_tokens))\n",
    "\n",
    "    fig.add_layout(bm.LinearAxis(axis_label='source tokens'), 'above')\n",
    "    fig.xaxis.ticker = np.arange(len(inp_tokens)) + 0.5\n",
    "    fig.xaxis.major_label_overrides = dict(zip(np.arange(len(inp_tokens)) + 0.5, inp_tokens))\n",
    "    fig.xaxis.major_label_orientation = 45\n",
    "\n",
    "    fig.add_layout(bm.LinearAxis(axis_label='translation tokens'), 'left')\n",
    "    fig.yaxis.ticker = np.arange(len(trans_tokens)) + 0.5\n",
    "    fig.yaxis.major_label_overrides = dict(zip(np.arange(len(trans_tokens)) + 0.5, trans_tokens[::-1]))\n",
    "\n",
    "    show(fig)"
   ],
   "outputs": [],
   "execution_count": null
  },
  {
   "cell_type": "code",
   "metadata": {
    "colab": {
     "base_uri": "https://localhost:8080/"
    },
    "id": "gqpCWAY0T0_d",
    "outputId": "3628d556-7bca-497d-f931-826dcd59b91e"
   },
   "source": [
    "for inp_line, trans_line in zip(dev_inp[::500], model.translate_lines(dev_inp[::500])[0]):\n",
    "    print(inp_line)\n",
    "    print(trans_line)\n",
    "    print()"
   ],
   "outputs": [],
   "execution_count": null
  },
  {
   "cell_type": "code",
   "metadata": {
    "id": "5qouLBt4vlP_"
   },
   "source": [
    "for inp_line, trans_line in zip(dev_inp[::500], model.translate_lines(dev_inp[::500])[0]):\n",
    "    print(inp_line)\n",
    "    print(trans_line)\n",
    "    print()\n",
    "\n",
    "inp = dev_inp[::500]\n",
    "\n",
    "trans, states = model.translate_lines(inp)\n",
    "\n",
    "# select attention probs from model state (you may need to change this for your custom model)\n",
    "# attention_probs below must have shape [batch_size, translation_length, input_length], extracted from states\n",
    "# e.g. if attention probs are at the end of each state, use np.stack([state[-1] for state in states], axis=1)\n",
    "\n",
    "probs = [states[i][-1] for i in range(len(states))]\n",
    "attention_probs = np.stack([state[-1].cpu().detach().numpy() for state in states], axis=1)\n",
    "for i in range(5):\n",
    "    draw_attention(inp[i], trans[i], attention_probs[i])\n",
    "\n",
    "# Does it look fine already? don't forget to save images for anytask!"
   ],
   "outputs": [],
   "execution_count": null
  },
  {
   "cell_type": "markdown",
   "metadata": {
    "id": "Fu875YfmvlQA"
   },
   "source": [
    "__Note:__ If the attention maps are not iterpretable, try starting encoder from zeros (instead of dec_start), forcing model to use attention."
   ]
  },
  {
   "cell_type": "markdown",
   "metadata": {
    "id": "pbIIngNVlrtt"
   },
   "source": [
    "## Implement Two different archetectures with attention (8 points)\n",
    "\n",
    "We want you to find the best model for the task. Use everything you know.\n",
    "\n",
    "* add attention after RNN or as a hidden state input\n",
    "* different recurrent units: rnn/gru/lstm; deeper architectures\n",
    "* bidirectional encoder, different attention methods for decoder (additive, dot-product, multi-head)\n",
    "* word dropout, training schedules, anything you can imagine\n",
    "* replace greedy inference with beam search\n",
    "\n",
    "Describe what you tried and what results you obtained in a short report."
   ]
  },
  {
   "metadata": {},
   "cell_type": "markdown",
   "source": "## Attention Model with Attention added after RNN"
  },
  {
   "metadata": {},
   "cell_type": "code",
   "source": [
    "def training_loop(model):\n",
    "    metrics = {'train_loss': [], 'dev_bleu': []}\n",
    "    opt = torch.optim.Adam(model.parameters(), lr=1e-3)\n",
    "    batch_size = 64\n",
    "\n",
    "    for _ in trange(25000):\n",
    "        step = len(metrics['train_loss']) + 1\n",
    "        batch_ix = np.random.randint(len(train_inp), size=batch_size)\n",
    "        batch_inp = inp_voc.to_matrix(train_inp[batch_ix]).to(device)\n",
    "        batch_out = out_voc.to_matrix(train_out[batch_ix]).to(device)\n",
    "\n",
    "\n",
    "        model.train()\n",
    "        loss_t = compute_loss(model, batch_inp, batch_out)\n",
    "        opt.zero_grad()\n",
    "        loss_t.backward()\n",
    "        opt.step()\n",
    "        metrics['train_loss'].append((step, loss_t.item()))\n",
    "\n",
    "        if step % 100 == 0:\n",
    "            model.eval()\n",
    "            dev_bleu = compute_bleu(model, dev_inp, dev_out)\n",
    "            metrics['dev_bleu'].append(dev_bleu)\n",
    "\n",
    "            clear_output(True)\n",
    "            plt.figure(figsize=(12, 4))\n",
    "            for i, (name, history) in enumerate(sorted(metrics.items())):\n",
    "                plt.subplot(1, len(metrics), i + 1)\n",
    "                plt.title(name)\n",
    "                plt.plot(history)\n",
    "                plt.grid()\n",
    "            plt.show()\n",
    "\n",
    "            print(\"Mean loss=%.3f, dev BLEU=%.3f\" % (np.mean(metrics['train_loss'][-10:]), dev_bleu))\n",
    "\n",
    "def test_model(model):\n",
    "    for inp_line, trans_line in zip(dev_inp[::500], model.translate_lines(dev_inp[::500])[0]):\n",
    "        print(inp_line)\n",
    "        print(trans_line)\n",
    "        print()\n",
    "\n",
    "    inp = dev_inp[::500]\n",
    "\n",
    "    trans, states = model.translate_lines(inp)\n",
    "\n",
    "    # select attention probs from model state (you may need to change this for your custom model)\n",
    "    # attention_probs below must have shape [batch_size, translation_length, input_length], extracted from states\n",
    "    # e.g. if attention probs are at the end of each state, use np.stack([state[-1] for state in states], axis=1)\n",
    "\n",
    "    probs = [states[i][-1] for i in range(len(states))]\n",
    "    attention_probs = np.stack([state[-1].cpu().detach().numpy() for state in states], axis=1)\n",
    "    for i in range(5):\n",
    "        draw_attention(inp[i], trans[i], attention_probs[i])"
   ],
   "outputs": [],
   "execution_count": null
  },
  {
   "metadata": {
    "id": "as7VjVJaOQAJ"
   },
   "cell_type": "code",
   "outputs": [],
   "execution_count": null,
   "source": [
    "class AttentiveAfterRNNModel(BasicModel):\n",
    "    def __init__(self, name, inp_voc, out_voc,\n",
    "                 emb_size=64, hid_size=128, attn_size=128):\n",
    "        \"\"\" Translation model that uses attention. \"\"\"\n",
    "        nn.Module.__init__(self)\n",
    "        self.inp_voc, self.out_voc = inp_voc, out_voc\n",
    "        self.hid_size = hid_size\n",
    "        self.emb_size = emb_size\n",
    "        self.attn_size = attn_size\n",
    "\n",
    "        self.emb_inp = nn.Embedding(len(inp_voc), emb_size)\n",
    "        self.emb_out = nn.Embedding(len(out_voc), emb_size)\n",
    "        self.enc0 = nn.GRU(emb_size, hid_size, batch_first=True)\n",
    "\n",
    "        # Attention is applied *after* the encoder RNN.\n",
    "        self.attn = AttentionLayer(name, hid_size, hid_size, attn_size)  # enc_hid_size, dec_hid_size, attn_size\n",
    "        # Decoder GRUCell takes embedding + attention context vector as input\n",
    "        self.dec0 = nn.GRUCell(emb_size + hid_size, hid_size)\n",
    "\n",
    "        self.logits = nn.Linear(hid_size, len(out_voc))\n",
    "        self.name = name\n",
    "\n",
    "    def encode(self, inp, **flags):\n",
    "        \"\"\"\n",
    "        Encodes the input sequence and computes the initial decoder state.\n",
    "        \"\"\"\n",
    "        inp_emb = self.emb_inp(inp)\n",
    "        batch_size = inp.shape[0]\n",
    "\n",
    "        # enc_seq: [batch, time, hid_size]\n",
    "        enc_seq, enc_last = self.enc0(inp_emb)\n",
    "\n",
    "        # Compute the mask for attention.\n",
    "        mask = self.inp_voc.compute_mask(inp)\n",
    "\n",
    "        # Initialize the decoder's hidden state.  Often, this is the last encoder state.\n",
    "        dec_start = enc_last.squeeze(0)  # Remove the layer dimension: [1, batch, hid_size] -> [batch, hid_size]\n",
    "\n",
    "        # Initial attention context and probabilities (dummy values, will be updated in the first decode step)\n",
    "        first_attn = torch.zeros((batch_size, self.hid_size), device=device)\n",
    "        first_attn_probas = torch.zeros((batch_size, inp.shape[1]), device=device) # Example shape, adjust if needed.\n",
    "\n",
    "        return [dec_start, enc_seq, mask, first_attn, first_attn_probas]\n",
    "\n",
    "\n",
    "    def decode_step(self, prev_state, prev_tokens, **flags):\n",
    "        \"\"\"\n",
    "        Performs a single decoding step.\n",
    "        \"\"\"\n",
    "        prev_dec_state, enc_seq, mask, _, prev_attn_probas = prev_state\n",
    "\n",
    "        # Embed the previous output tokens.\n",
    "        prev_tokens_embs = self.emb_out(prev_tokens)\n",
    "\n",
    "        # Calculate attention.  Crucially, this happens *before* the decoder RNN.\n",
    "        attn_context, attn_probas = self.attn(enc_seq, prev_dec_state, mask)\n",
    "\n",
    "        # Concatenate the embedding and the attention context vector.\n",
    "        dec_input = torch.cat([prev_tokens_embs, attn_context], dim=-1)\n",
    "\n",
    "        # Update the decoder's hidden state.\n",
    "        new_dec_state = self.dec0(dec_input, prev_dec_state)\n",
    "\n",
    "        # Compute the logits for the next token.\n",
    "        output_logits = self.logits(new_dec_state)\n",
    "\n",
    "        # Return the new state and logits.\n",
    "        return [new_dec_state, enc_seq, mask, attn_context, attn_probas], output_logits"
   ]
  },
  {
   "metadata": {},
   "cell_type": "code",
   "source": [
    "model = AttentiveAfterRNNModel(\"AttentiveAfterRNN\",inp_voc, out_voc).to(device)\n",
    "\n",
    "training_loop(model)\n",
    "torch.save(model.state_dict(), 'Attention after RNN.pt')\n",
    "test_model(model)"
   ],
   "outputs": [],
   "execution_count": null
  },
  {
   "metadata": {},
   "cell_type": "markdown",
   "source": "## Attention Model with Beam Search"
  },
  {
   "metadata": {},
   "cell_type": "code",
   "source": [
    "class AttentiveModelBeam(AttentiveModel):\n",
    "    def inference(self, inp, beam_size=5, max_steps=50, eos_token=None):\n",
    "        \"\"\"\n",
    "        Perform beam search inference.\n",
    "        :param inp: input tokens tensor [batch, time]. (Assumes batch size 1.)\n",
    "        :param beam_size: number of beams to keep.\n",
    "        :param max_steps: maximum decoding steps.\n",
    "        :param eos_token: integer token that marks end-of-sequence. If None, will use self.out_voc.eos.\n",
    "        :return: a list of token ids representing the best decoded sequence.\n",
    "        \"\"\"\n",
    "        # Get the initial decoder state (assumes batch size 1 for simplicity)\n",
    "        state = self.encode(inp)\n",
    "        device = state[0].device\n",
    "\n",
    "        # Determine start-of-sequence and end-of-sequence tokens.\n",
    "        start_token = self.out_voc.sos if hasattr(self.out_voc, 'sos') else 0\n",
    "        eos_token = eos_token if eos_token is not None else (self.out_voc.eos if hasattr(self.out_voc, 'eos') else 1)\n",
    "\n",
    "        # Each beam is a tuple: (decoded_sequence, state, cumulative_log_prob)\n",
    "        beams = [([start_token], state, 0.0)]\n",
    "        finished_beams = []\n",
    "\n",
    "        for _ in range(max_steps):\n",
    "            new_beams = []\n",
    "            for seq, state, score in beams:\n",
    "                # If EOS is reached, add beam to finished beams\n",
    "                if seq[-1] == eos_token:\n",
    "                    finished_beams.append((seq, state, score))\n",
    "                    continue\n",
    "\n",
    "                # Decode next token for the current beam.\n",
    "                prev_token = torch.tensor([seq[-1]], device=device)\n",
    "                next_state, logits = self.decode_step(state, prev_token)\n",
    "                log_probs = F.log_softmax(logits, dim=-1)  # [1, vocab_size]\n",
    "\n",
    "                # Get the top tokens from current beam.\n",
    "                top_log_probs, top_indices = log_probs.topk(beam_size)\n",
    "\n",
    "                # Expand each candidate token to form a new beam.\n",
    "                for i in range(beam_size):\n",
    "                    token = top_indices[0, i].item()\n",
    "                    token_log_prob = top_log_probs[0, i].item()\n",
    "                    new_seq = seq + [token]\n",
    "                    # Clone the state to avoid in-place modifications in different beams.\n",
    "                    new_state = self._clone_state(next_state)\n",
    "                    new_score = score + token_log_prob\n",
    "                    new_beams.append((new_seq, new_state, new_score))\n",
    "\n",
    "            if not new_beams:\n",
    "                break\n",
    "            # Keep only the top beams (highest cumulative log probability)\n",
    "            new_beams.sort(key=lambda x: x[2], reverse=True)\n",
    "            beams = new_beams[:beam_size]\n",
    "\n",
    "        # Choose best finished beam if any, otherwise the best ongoing beam.\n",
    "        if finished_beams:\n",
    "            finished_beams.sort(key=lambda x: x[2], reverse=True)\n",
    "            best_seq = finished_beams[0][0]\n",
    "        else:\n",
    "            beams.sort(key=lambda x: x[2], reverse=True)\n",
    "            best_seq = beams[0][0]\n",
    "\n",
    "        return best_seq\n",
    "\n",
    "    def _clone_state(self, state):\n",
    "        \"\"\"\n",
    "        Clones the list of state tensors.\n",
    "        :param state: list of tensors representing the decoder state.\n",
    "        :return: a deep copy of the state list.\n",
    "        \"\"\"\n",
    "        return [s.clone() for s in state]\n"
   ],
   "outputs": [],
   "execution_count": null
  },
  {
   "metadata": {},
   "cell_type": "code",
   "source": [
    "model = AttentiveModelBeam(\"AttentionBeamSearch\",inp_voc, out_voc).to(device)\n",
    "\n",
    "training_loop(model)\n",
    "torch.save(model.state_dict(), 'AttentionBeamSearch.pt')\n",
    "test_model(model)"
   ],
   "outputs": [],
   "execution_count": null
  },
  {
   "metadata": {},
   "cell_type": "markdown",
   "source": "## Attention Model with the attention added after RNN and with Beam Search used for inference"
  },
  {
   "metadata": {},
   "cell_type": "code",
   "source": [
    "class AttentiveModelBeamWithAfterRNN(AttentiveAfterRNNModel):\n",
    "    def inference(self, inp, beam_size=5, max_steps=50, eos_token=None):\n",
    "        \"\"\"\n",
    "        Perform beam search inference.\n",
    "        :param inp: input tokens tensor [batch, time]. (Assumes batch size 1.)\n",
    "        :param beam_size: number of beams to keep.\n",
    "        :param max_steps: maximum decoding steps.\n",
    "        :param eos_token: integer token that marks end-of-sequence. If None, will use self.out_voc.eos.\n",
    "        :return: a list of token ids representing the best decoded sequence.\n",
    "        \"\"\"\n",
    "        # Get the initial decoder state (assumes batch size 1 for simplicity)\n",
    "        state = self.encode(inp)\n",
    "        device = state[0].device\n",
    "\n",
    "        # Determine start-of-sequence and end-of-sequence tokens.\n",
    "        start_token = self.out_voc.sos if hasattr(self.out_voc, 'sos') else 0\n",
    "        eos_token = eos_token if eos_token is not None else (self.out_voc.eos if hasattr(self.out_voc, 'eos') else 1)\n",
    "\n",
    "        # Each beam is a tuple: (decoded_sequence, state, cumulative_log_prob)\n",
    "        beams = [([start_token], state, 0.0)]\n",
    "        finished_beams = []\n",
    "\n",
    "        for _ in range(max_steps):\n",
    "            new_beams = []\n",
    "            for seq, state, score in beams:\n",
    "                # If EOS is reached, add beam to finished beams\n",
    "                if seq[-1] == eos_token:\n",
    "                    finished_beams.append((seq, state, score))\n",
    "                    continue\n",
    "\n",
    "                # Decode next token for the current beam.\n",
    "                prev_token = torch.tensor([seq[-1]], device=device)\n",
    "                next_state, logits = self.decode_step(state, prev_token)\n",
    "                log_probs = F.log_softmax(logits, dim=-1)  # [1, vocab_size]\n",
    "\n",
    "                # Get the top tokens from current beam.\n",
    "                top_log_probs, top_indices = log_probs.topk(beam_size)\n",
    "\n",
    "                # Expand each candidate token to form a new beam.\n",
    "                for i in range(beam_size):\n",
    "                    token = top_indices[0, i].item()\n",
    "                    token_log_prob = top_log_probs[0, i].item()\n",
    "                    new_seq = seq + [token]\n",
    "                    # Clone the state to avoid in-place modifications in different beams.\n",
    "                    new_state = self._clone_state(next_state)\n",
    "                    new_score = score + token_log_prob\n",
    "                    new_beams.append((new_seq, new_state, new_score))\n",
    "\n",
    "            if not new_beams:\n",
    "                break\n",
    "            # Keep only the top beams (highest cumulative log probability)\n",
    "            new_beams.sort(key=lambda x: x[2], reverse=True)\n",
    "            beams = new_beams[:beam_size]\n",
    "\n",
    "        # Choose best finished beam if any, otherwise the best ongoing beam.\n",
    "        if finished_beams:\n",
    "            finished_beams.sort(key=lambda x: x[2], reverse=True)\n",
    "            best_seq = finished_beams[0][0]\n",
    "        else:\n",
    "            beams.sort(key=lambda x: x[2], reverse=True)\n",
    "            best_seq = beams[0][0]\n",
    "\n",
    "        return best_seq\n",
    "\n",
    "    def _clone_state(self, state):\n",
    "        \"\"\"\n",
    "        Clones the list of state tensors.\n",
    "        :param state: list of tensors representing the decoder state.\n",
    "        :return: a deep copy of the state list.\n",
    "        \"\"\"\n",
    "        return [s.clone() for s in state]\n"
   ],
   "outputs": [],
   "execution_count": null
  },
  {
   "metadata": {},
   "cell_type": "code",
   "source": [
    "model = AttentiveModelBeamWithAfterRNN(\"AttentionBeamSearchWithAfterRNN\",inp_voc, out_voc).to(device)\n",
    "\n",
    "training_loop(model)\n",
    "torch.save(model.state_dict(), 'AttentionBeamSearchWithAfterRNN.pt')\n",
    "test_model(model)"
   ],
   "outputs": [],
   "execution_count": null
  }
 ],
 "metadata": {
  "accelerator": "GPU",
  "colab": {
   "collapsed_sections": [
    "edk_oVg0lrtW"
   ],
   "gpuType": "T4",
   "provenance": []
  },
  "kernelspec": {
   "display_name": "Python 3 (ipykernel)",
   "language": "python",
   "name": "python3"
  },
  "language_info": {
   "codemirror_mode": {
    "name": "ipython",
    "version": 3
   },
   "file_extension": ".py",
   "mimetype": "text/x-python",
   "name": "python",
   "nbconvert_exporter": "python",
   "pygments_lexer": "ipython3",
   "version": "3.10.12"
  }
 },
 "nbformat": 4,
 "nbformat_minor": 0
}
