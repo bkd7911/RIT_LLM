{
  "cells": [
    {
      "cell_type": "markdown",
      "metadata": {
        "id": "-aad8e7bymDl"
      },
      "source": [
        "# Phython for Audio Processing"
      ]
    },
    {
      "cell_type": "markdown",
      "metadata": {
        "id": "4q5Iqk3FkSTh"
      },
      "source": [
        "## Installation\n",
        "**On-line:**\n",
        "\n",
        "The easiest way is to use virtual machines on [Google Colab.](http://colab.research.google.com/)\n",
        "\n",
        "**On your machine:**\n",
        "\n",
        "*The simplest* way is to set-up [Anaconda](https://www.anaconda.com/products/distribution) and add required packages.\n",
        "\n",
        "\n",
        "We will need [PyTorch,](https://pytorch.org/) if you have a CUDA GPU, choose the option with CUDA.\n",
        "\n",
        "*More complicated* way is to download [Python 3](https://www.python.org/downloads/) (on macOS, Python 3 is preinstalled) and install missing packages, including [PyTorch,](https://pytorch.org/)  [Jupyter,](https://jupyter.org/install) and [IPython.](https://ipython.org/install.html)\n",
        "\n",
        "Note: If you use Anaconda, install packages with “conda install”, if you don’t have Conda, install with “pip3 install”\n",
        "\n",
        "[VScode](https://code.visualstudio.com/download) is a convenient IDE. Here is a [video by Chris State](https://youtu.be/veJvQ88ULOM) that explains how one connects the Python to it. Just because it has been changed a little, don’t insert path in a .json file but use *Extension* $\\longrightarrow$ *Python* $\\longrightarrow$ *Default Interpreter Path* instead."
      ]
    },
    {
      "cell_type": "markdown",
      "metadata": {
        "id": "RlzqrKVa2nyf"
      },
      "source": [
        "Different tools for deep learning: TensorFlow2, PyTorch, JAX\n",
        "\n",
        "Usage of !, %, if ```__name__ == \"__main__\":```\n",
        "\n",
        "exclamation mark ! executes commands from the underlying operating system\n",
        "\n",
        "% affects the process associated with the notebook\n",
        "\n",
        "```\"__main__\":``` is not meeded in Python3, it is used now to separate functions from the code to import them"
      ]
    },
    {
      "cell_type": "code",
      "source": [
        "!pwd\n",
        "#!pip install ipywebrtc"
      ],
      "metadata": {
        "colab": {
          "base_uri": "https://localhost:8080/"
        },
        "id": "x2msRIYChM0a",
        "outputId": "f192aad4-5628-483a-e732-0c4df9ffb690"
      },
      "execution_count": null,
      "outputs": [
        {
          "output_type": "stream",
          "name": "stdout",
          "text": [
            "/content\n"
          ]
        }
      ]
    },
    {
      "cell_type": "code",
      "source": [
        "#%cd .."
      ],
      "metadata": {
        "id": "Hg1FQ2ykmGw6"
      },
      "execution_count": null,
      "outputs": []
    },
    {
      "cell_type": "code",
      "execution_count": 1,
      "metadata": {
        "id": "WH7GasKFykLz"
      },
      "outputs": [],
      "source": [
        "import torch\n",
        "import torchaudio\n",
        "import matplotlib.pyplot as plt\n",
        "import numpy as np"
      ]
    },
    {
      "cell_type": "code",
      "source": [
        "from IPython.display import Audio"
      ],
      "metadata": {
        "id": "A6tPvY887eQv"
      },
      "execution_count": 2,
      "outputs": []
    },
    {
      "cell_type": "code",
      "source": [
        "!wget https://raw.githubusercontent.com/anton-selitskiy/RIT_LLM/refs/heads/main/Week13_asr/MySTFT.py"
      ],
      "metadata": {
        "id": "lR9sXjGiMh2F"
      },
      "execution_count": 36,
      "outputs": []
    },
    {
      "cell_type": "code",
      "source": [
        "from MySTFT import *"
      ],
      "metadata": {
        "id": "2dRiFMqCrgd-"
      },
      "execution_count": 9,
      "outputs": []
    },
    {
      "cell_type": "markdown",
      "source": [
        "####Usefull Shortcuts\n",
        "\n",
        "Shift+Enter - run cell\n",
        "\n",
        "Ctrl+/ - comment lines\n",
        "\n",
        "Ctrl+] - indent lines"
      ],
      "metadata": {
        "id": "MOQRNFGKjbDx"
      }
    },
    {
      "cell_type": "markdown",
      "source": [
        "##Tensors in PyTorch https://pytorch.org/docs/stable/tensors.html"
      ],
      "metadata": {
        "id": "HIVLA-XcuO_6"
      }
    },
    {
      "cell_type": "code",
      "source": [
        "x = torch.Tensor([1,2,3,4])"
      ],
      "metadata": {
        "id": "IbBV2FMNuPQw"
      },
      "execution_count": null,
      "outputs": []
    },
    {
      "cell_type": "code",
      "source": [
        "x\n",
        "#print(x)"
      ],
      "metadata": {
        "colab": {
          "base_uri": "https://localhost:8080/"
        },
        "id": "3dUq6DDX3cnf",
        "outputId": "ce9dfc69-2c98-48b6-a3f6-63f5fedaaa2e"
      },
      "execution_count": null,
      "outputs": [
        {
          "output_type": "execute_result",
          "data": {
            "text/plain": [
              "tensor([1., 2., 3., 4.])"
            ]
          },
          "metadata": {},
          "execution_count": 11
        }
      ]
    },
    {
      "cell_type": "code",
      "source": [],
      "metadata": {
        "id": "rGgQEquUusUx"
      },
      "execution_count": null,
      "outputs": []
    },
    {
      "cell_type": "markdown",
      "source": [
        "###Shape"
      ],
      "metadata": {
        "id": "sc_Ywk4grzpp"
      }
    },
    {
      "cell_type": "markdown",
      "source": [
        "Q1 reshape"
      ],
      "metadata": {
        "id": "zhsSXab_wym7"
      }
    },
    {
      "cell_type": "code",
      "source": [
        "x.shape\n",
        "#x.size()"
      ],
      "metadata": {
        "colab": {
          "base_uri": "https://localhost:8080/"
        },
        "id": "n1GPTdVlDEW9",
        "outputId": "932293ee-5584-4e04-a929-de23df5fe497"
      },
      "execution_count": null,
      "outputs": [
        {
          "output_type": "execute_result",
          "data": {
            "text/plain": [
              "torch.Size([4])"
            ]
          },
          "metadata": {},
          "execution_count": 5
        }
      ]
    },
    {
      "cell_type": "code",
      "source": [
        "x.view(2,2)\n",
        "#x.reshape(2,2)"
      ],
      "metadata": {
        "id": "j7ndjm7xwnx6",
        "colab": {
          "base_uri": "https://localhost:8080/"
        },
        "outputId": "08a9717f-f817-4010-9628-63f4ffc7df3c"
      },
      "execution_count": null,
      "outputs": [
        {
          "output_type": "execute_result",
          "data": {
            "text/plain": [
              "tensor([[1., 2.],\n",
              "        [3., 4.]])"
            ]
          },
          "metadata": {},
          "execution_count": 6
        }
      ]
    },
    {
      "cell_type": "markdown",
      "source": [
        "Q2 inplace operations"
      ],
      "metadata": {
        "id": "OhTeJ1sawqWy"
      }
    },
    {
      "cell_type": "code",
      "source": [
        "x.pow(2)"
      ],
      "metadata": {
        "id": "a0d9qRchwpfF",
        "colab": {
          "base_uri": "https://localhost:8080/"
        },
        "outputId": "0c16789f-7b86-4b43-96f0-eab926890afb"
      },
      "execution_count": null,
      "outputs": [
        {
          "output_type": "execute_result",
          "data": {
            "text/plain": [
              "tensor([ 1.,  4.,  9., 16.])"
            ]
          },
          "metadata": {},
          "execution_count": 7
        }
      ]
    },
    {
      "cell_type": "code",
      "source": [
        "x"
      ],
      "metadata": {
        "colab": {
          "base_uri": "https://localhost:8080/"
        },
        "id": "iHoUDJwkJv_r",
        "outputId": "55ff3884-79ce-4d1f-a296-5adde13f5743"
      },
      "execution_count": null,
      "outputs": [
        {
          "output_type": "execute_result",
          "data": {
            "text/plain": [
              "tensor([1., 2., 3., 4.])"
            ]
          },
          "metadata": {},
          "execution_count": 8
        }
      ]
    },
    {
      "cell_type": "code",
      "source": [
        "x.pow_(2)\n",
        "x"
      ],
      "metadata": {
        "colab": {
          "base_uri": "https://localhost:8080/"
        },
        "id": "T1eQAUdcmkfu",
        "outputId": "2c4c3a51-912b-48b6-bd99-084cd799ea20"
      },
      "execution_count": null,
      "outputs": [
        {
          "output_type": "execute_result",
          "data": {
            "text/plain": [
              "tensor([ 1.,  4.,  9., 16.])"
            ]
          },
          "metadata": {},
          "execution_count": 9
        }
      ]
    },
    {
      "cell_type": "markdown",
      "source": [
        "###Broadcasting"
      ],
      "metadata": {
        "id": "xCW9tLhVr2Yw"
      }
    },
    {
      "cell_type": "code",
      "source": [
        "a=torch.Tensor([1,2,3])\n",
        "a=a.view(-1,1)\n",
        "a"
      ],
      "metadata": {
        "id": "s3flBALfeifb",
        "colab": {
          "base_uri": "https://localhost:8080/"
        },
        "outputId": "392aa659-8bef-4c75-ed67-a45b5c45a2ae"
      },
      "execution_count": null,
      "outputs": [
        {
          "output_type": "execute_result",
          "data": {
            "text/plain": [
              "tensor([[1.],\n",
              "        [2.],\n",
              "        [3.]])"
            ]
          },
          "metadata": {},
          "execution_count": 16
        }
      ]
    },
    {
      "cell_type": "code",
      "source": [
        "b=torch.rand(3,4)\n",
        "b"
      ],
      "metadata": {
        "id": "MODvHNxKeiij",
        "colab": {
          "base_uri": "https://localhost:8080/"
        },
        "outputId": "ca4e2c1b-5b0a-4d71-80aa-9a5b3a19a329"
      },
      "execution_count": null,
      "outputs": [
        {
          "output_type": "execute_result",
          "data": {
            "text/plain": [
              "tensor([[0.4872, 0.7175, 0.7110, 0.5353],\n",
              "        [0.6491, 0.4849, 0.2766, 0.3721],\n",
              "        [0.8324, 0.3071, 0.4025, 0.0094]])"
            ]
          },
          "metadata": {},
          "execution_count": 17
        }
      ]
    },
    {
      "cell_type": "code",
      "source": [
        "a*b"
      ],
      "metadata": {
        "id": "unJHG5g1eila",
        "colab": {
          "base_uri": "https://localhost:8080/"
        },
        "outputId": "44dbedf4-a4a7-487c-a7ae-f81162a4d6f8"
      },
      "execution_count": null,
      "outputs": [
        {
          "output_type": "execute_result",
          "data": {
            "text/plain": [
              "tensor([[0.4872, 0.7175, 0.7110, 0.5353],\n",
              "        [1.2981, 0.9698, 0.5531, 0.7441],\n",
              "        [2.4971, 0.9213, 1.2074, 0.0282]])"
            ]
          },
          "metadata": {},
          "execution_count": 18
        }
      ]
    },
    {
      "cell_type": "code",
      "source": [
        "x*b"
      ],
      "metadata": {
        "colab": {
          "base_uri": "https://localhost:8080/"
        },
        "id": "FiGDfmSKqcXb",
        "outputId": "3a55913c-a9aa-462a-be48-1c68da28f98a"
      },
      "execution_count": null,
      "outputs": [
        {
          "output_type": "execute_result",
          "data": {
            "text/plain": [
              "tensor([[0.4872, 2.8699, 6.3990, 8.5654],\n",
              "        [0.6491, 1.9397, 2.4891, 5.9528],\n",
              "        [0.8324, 1.2284, 3.6223, 0.1502]])"
            ]
          },
          "metadata": {},
          "execution_count": 30
        }
      ]
    },
    {
      "cell_type": "markdown",
      "source": [
        "###Matrix Multiplication"
      ],
      "metadata": {
        "id": "LDJQ_0Khr_sl"
      }
    },
    {
      "cell_type": "code",
      "source": [
        "torch.matmul(b,x)"
      ],
      "metadata": {
        "colab": {
          "base_uri": "https://localhost:8080/"
        },
        "id": "SSEDcn6fXVt8",
        "outputId": "ef175d85-e27a-4402-cb17-769cd67e3ce4"
      },
      "execution_count": null,
      "outputs": [
        {
          "output_type": "execute_result",
          "data": {
            "text/plain": [
              "tensor([18.3215, 11.0307,  5.8333])"
            ]
          },
          "metadata": {},
          "execution_count": 23
        }
      ]
    },
    {
      "cell_type": "code",
      "source": [
        "b.matmul(x)"
      ],
      "metadata": {
        "colab": {
          "base_uri": "https://localhost:8080/"
        },
        "id": "3g9edlDXXRfT",
        "outputId": "62fef9dc-ea5e-400f-ffbe-ee4f7f2fc29e"
      },
      "execution_count": null,
      "outputs": [
        {
          "output_type": "execute_result",
          "data": {
            "text/plain": [
              "tensor([18.3215, 11.0307,  5.8333])"
            ]
          },
          "metadata": {},
          "execution_count": 24
        }
      ]
    },
    {
      "cell_type": "code",
      "source": [
        "b@x"
      ],
      "metadata": {
        "colab": {
          "base_uri": "https://localhost:8080/"
        },
        "id": "LpPweOdxv0lh",
        "outputId": "0a724b70-307a-4dac-92a2-461d96f21ac5"
      },
      "execution_count": null,
      "outputs": [
        {
          "output_type": "execute_result",
          "data": {
            "text/plain": [
              "tensor([18.3215, 11.0307,  5.8333])"
            ]
          },
          "metadata": {},
          "execution_count": 25
        }
      ]
    },
    {
      "cell_type": "markdown",
      "source": [
        "###Data Type https://pytorch.org/docs/stable/tensors.html"
      ],
      "metadata": {
        "id": "JRMYqSusv0tq"
      }
    },
    {
      "cell_type": "code",
      "source": [
        "x.dtype"
      ],
      "metadata": {
        "colab": {
          "base_uri": "https://localhost:8080/"
        },
        "id": "vpj03s-Lv8Vq",
        "outputId": "d1d2840d-6920-43d9-a596-7bfcf613fa88"
      },
      "execution_count": null,
      "outputs": [
        {
          "output_type": "execute_result",
          "data": {
            "text/plain": [
              "torch.float32"
            ]
          },
          "metadata": {},
          "execution_count": 26
        }
      ]
    },
    {
      "cell_type": "code",
      "source": [
        "x.type(torch.long)"
      ],
      "metadata": {
        "colab": {
          "base_uri": "https://localhost:8080/"
        },
        "id": "YBwkYgDk6HfU",
        "outputId": "8029b572-09ae-4c97-c958-c9ff105a324e"
      },
      "execution_count": null,
      "outputs": [
        {
          "output_type": "execute_result",
          "data": {
            "text/plain": [
              "tensor([ 1,  4,  9, 16])"
            ]
          },
          "metadata": {},
          "execution_count": 27
        }
      ]
    },
    {
      "cell_type": "code",
      "source": [
        "x.to(torch.long)"
      ],
      "metadata": {
        "id": "zfmlgWJf6TY_",
        "colab": {
          "base_uri": "https://localhost:8080/"
        },
        "outputId": "a6a8360e-624e-45d3-8b18-ac86863d1cae"
      },
      "execution_count": null,
      "outputs": [
        {
          "output_type": "execute_result",
          "data": {
            "text/plain": [
              "tensor([ 1,  4,  9, 16])"
            ]
          },
          "metadata": {},
          "execution_count": 28
        }
      ]
    },
    {
      "cell_type": "code",
      "source": [
        "x"
      ],
      "metadata": {
        "colab": {
          "base_uri": "https://localhost:8080/"
        },
        "id": "33XHMaDg1Hzj",
        "outputId": "28e9f908-67b4-464d-b261-c489ba6e8f8e"
      },
      "execution_count": null,
      "outputs": [
        {
          "output_type": "execute_result",
          "data": {
            "text/plain": [
              "tensor([ 1.,  4.,  9., 16.])"
            ]
          },
          "metadata": {},
          "execution_count": 29
        }
      ]
    },
    {
      "cell_type": "markdown",
      "source": [
        "###Concatanating"
      ],
      "metadata": {
        "id": "PzWHmqXaIOdQ"
      }
    },
    {
      "cell_type": "markdown",
      "source": [
        "Q4 How do we do STFT?"
      ],
      "metadata": {
        "id": "Y338Jj1xKA1_"
      }
    },
    {
      "cell_type": "code",
      "source": [
        "#[1,2,3,4,5,6,7,8,9,10,11...]\n",
        "h1 = torch.Tensor([1,2,3,4,5])\n",
        "h2 = torch.Tensor([3,4,5,6,7])\n",
        "#..."
      ],
      "metadata": {
        "id": "SjKiPVBrwWkj"
      },
      "execution_count": null,
      "outputs": []
    },
    {
      "cell_type": "code",
      "source": [
        "h1.shape"
      ],
      "metadata": {
        "colab": {
          "base_uri": "https://localhost:8080/"
        },
        "id": "9yZHbZk0kc42",
        "outputId": "5ed3037f-e04b-4883-a3ee-1280ef1c2897"
      },
      "execution_count": null,
      "outputs": [
        {
          "output_type": "execute_result",
          "data": {
            "text/plain": [
              "torch.Size([5])"
            ]
          },
          "metadata": {},
          "execution_count": 11
        }
      ]
    },
    {
      "cell_type": "markdown",
      "source": [
        "We can apply window to each h1 and h2 before stacking or after"
      ],
      "metadata": {
        "id": "Ycc7QuJID8Ps"
      }
    },
    {
      "cell_type": "code",
      "source": [
        "h = torch.stack([h1,h2]).T\n",
        "h"
      ],
      "metadata": {
        "colab": {
          "base_uri": "https://localhost:8080/"
        },
        "id": "m9bzLisTkRTY",
        "outputId": "08b28b55-340d-4d08-b92c-b31524706832"
      },
      "execution_count": null,
      "outputs": [
        {
          "output_type": "execute_result",
          "data": {
            "text/plain": [
              "tensor([[1., 3.],\n",
              "        [2., 4.],\n",
              "        [3., 5.],\n",
              "        [4., 6.],\n",
              "        [5., 7.]])"
            ]
          },
          "metadata": {},
          "execution_count": 12
        }
      ]
    },
    {
      "cell_type": "markdown",
      "source": [
        "Zero padding:"
      ],
      "metadata": {
        "id": "dqb-y7H9EaIe"
      }
    },
    {
      "cell_type": "code",
      "execution_count": null,
      "metadata": {
        "id": "siKafgp2iGu2"
      },
      "outputs": [],
      "source": [
        "import torch.nn as nn"
      ]
    },
    {
      "cell_type": "code",
      "source": [
        "nn.ConstantPad1d((0,2*len(h1)),0)(h1)"
      ],
      "metadata": {
        "colab": {
          "base_uri": "https://localhost:8080/"
        },
        "id": "0457wTmmO-rE",
        "outputId": "7cdb4754-dd25-4e94-c609-8a96fa5c654c"
      },
      "execution_count": null,
      "outputs": [
        {
          "output_type": "execute_result",
          "data": {
            "text/plain": [
              "tensor([1., 2., 3., 4., 5., 0., 0., 0., 0., 0., 0., 0., 0., 0., 0.])"
            ]
          },
          "metadata": {},
          "execution_count": 15
        }
      ]
    },
    {
      "cell_type": "code",
      "source": [
        "nn.functional.pad(torch.stack([h1,h2]).T, (0,0,0,2*len(h1)), \"constant\", 0)"
      ],
      "metadata": {
        "colab": {
          "base_uri": "https://localhost:8080/"
        },
        "id": "AWv4h5dhrtdL",
        "outputId": "63734760-884e-4c98-db2e-eebfca414beb"
      },
      "execution_count": null,
      "outputs": [
        {
          "output_type": "execute_result",
          "data": {
            "text/plain": [
              "tensor([[1., 3.],\n",
              "        [2., 4.],\n",
              "        [3., 5.],\n",
              "        [4., 6.],\n",
              "        [5., 7.],\n",
              "        [0., 0.],\n",
              "        [0., 0.],\n",
              "        [0., 0.],\n",
              "        [0., 0.],\n",
              "        [0., 0.],\n",
              "        [0., 0.],\n",
              "        [0., 0.],\n",
              "        [0., 0.],\n",
              "        [0., 0.],\n",
              "        [0., 0.]])"
            ]
          },
          "metadata": {},
          "execution_count": 16
        }
      ]
    },
    {
      "cell_type": "markdown",
      "source": [
        "##TorchAudio [tutorial](https://pytorch.org/tutorials/beginner/audio_preprocessing_tutorial.html)"
      ],
      "metadata": {
        "id": "fVUxn_BqwB3g"
      }
    },
    {
      "cell_type": "markdown",
      "source": [
        "###Dounload and play\n",
        "mono 'PinkPanther30.wav' from https://www2.cs.uic.edu/~i101/SoundFiles/\n",
        "\n",
        "stereo 'prelude_cmaj_10s.wav' from https://ccrma.stanford.edu/workshops/mir2014/audio/"
      ],
      "metadata": {
        "id": "wlxOj29mmB6j"
      }
    },
    {
      "cell_type": "code",
      "source": [
        "!wget  https://ccrma.stanford.edu/workshops/mir2014/audio/prelude_cmaj_10s.wav"
      ],
      "metadata": {
        "id": "IXyl-kVEWV1r"
      },
      "execution_count": 37,
      "outputs": []
    },
    {
      "cell_type": "code",
      "source": [
        "# It took 6-7 minutes on Colab\n",
        "!wget https://data.keithito.com/data/speech/LJSpeech-1.1.tar.bz2\n",
        "!tar -xf LJSpeech-1.1.tar.bz2"
      ],
      "metadata": {
        "id": "uaY0lV0YRzxt"
      },
      "execution_count": 38,
      "outputs": []
    },
    {
      "cell_type": "code",
      "execution_count": 14,
      "metadata": {
        "id": "sFeQgdUY1ayO"
      },
      "outputs": [],
      "source": [
        "path = 'LJSpeech-1.1/wavs/LJ001-0013.wav'  #'PinkPanther30.wav' #'StarWars3.wav' #'Schumann.wav'#/Users/airlab/Downloads/courante.wav\n",
        "path2 = 'prelude_cmaj_10s.wav'"
      ]
    },
    {
      "cell_type": "code",
      "source": [
        "wav, sr = torchaudio.load(path)"
      ],
      "metadata": {
        "id": "14Pby86awcZl"
      },
      "execution_count": 15,
      "outputs": []
    },
    {
      "cell_type": "code",
      "source": [
        "sr"
      ],
      "metadata": {
        "id": "vqoIWzQKTby8",
        "outputId": "8c0a3a15-ac67-4a68-eabe-f0198aa01367",
        "colab": {
          "base_uri": "https://localhost:8080/"
        }
      },
      "execution_count": 20,
      "outputs": [
        {
          "output_type": "execute_result",
          "data": {
            "text/plain": [
              "22050"
            ]
          },
          "metadata": {},
          "execution_count": 20
        }
      ]
    },
    {
      "cell_type": "code",
      "source": [
        "wav2, sr2 = torchaudio.load(path2)"
      ],
      "metadata": {
        "id": "55QedGqQWi-J"
      },
      "execution_count": 16,
      "outputs": []
    },
    {
      "cell_type": "code",
      "source": [
        "wav.shape"
      ],
      "metadata": {
        "colab": {
          "base_uri": "https://localhost:8080/"
        },
        "id": "GOh66or2C7VR",
        "outputId": "b2b0c55a-b917-4fe4-d113-2939e645aa59"
      },
      "execution_count": 17,
      "outputs": [
        {
          "output_type": "execute_result",
          "data": {
            "text/plain": [
              "torch.Size([1, 56989])"
            ]
          },
          "metadata": {},
          "execution_count": 17
        }
      ]
    },
    {
      "cell_type": "code",
      "source": [
        "Audio(data=wav, rate=sr)"
      ],
      "metadata": {
        "id": "sDPAymzPaoZH",
        "outputId": "b85ef50e-4151-41f4-b87c-b1f561551d55",
        "colab": {
          "base_uri": "https://localhost:8080/",
          "height": 75
        }
      },
      "execution_count": 18,
      "outputs": [
        {
          "output_type": "execute_result",
          "data": {
            "text/plain": [
              "<IPython.lib.display.Audio object>"
            ],
            "text/html": [
              "\n",
              "                <audio  controls=\"controls\" >\n",
              "                    <source src=\"data:audio/wav;base64,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\" type=\"audio/wav\" />\n",
              "                    Your browser does not support the audio element.\n",
              "                </audio>\n",
              "              "
            ]
          },
          "metadata": {},
          "execution_count": 18
        }
      ]
    },
    {
      "cell_type": "markdown",
      "source": [
        "###Visualize"
      ],
      "metadata": {
        "id": "Fo79EpXzmIWV"
      }
    },
    {
      "cell_type": "code",
      "source": [
        "plt.plot(wav[0])\n",
        "#plt.plot(wav[0][-100:])"
      ],
      "metadata": {
        "id": "pUjMdgd39YyW"
      },
      "execution_count": 39,
      "outputs": []
    },
    {
      "cell_type": "markdown",
      "source": [
        "Q5 To set the time correctly"
      ],
      "metadata": {
        "id": "WJwvaet9ai6C"
      }
    },
    {
      "cell_type": "code",
      "source": [
        "t = np.arange(wav.shape[-1])/sr"
      ],
      "metadata": {
        "id": "iHANQm_fah85"
      },
      "execution_count": null,
      "outputs": []
    },
    {
      "cell_type": "code",
      "source": [
        "#plt.plot(t,wav[0])"
      ],
      "metadata": {
        "id": "bPqbo1hT7lOM"
      },
      "execution_count": null,
      "outputs": []
    },
    {
      "cell_type": "code",
      "source": [],
      "metadata": {
        "id": "nBDEokswnO_v"
      },
      "execution_count": null,
      "outputs": []
    },
    {
      "cell_type": "code",
      "source": [
        "import librosa, librosa.display"
      ],
      "metadata": {
        "id": "uEz3dSR39ZjW"
      },
      "execution_count": null,
      "outputs": []
    },
    {
      "cell_type": "code",
      "source": [
        "librosa.display.waveshow(wav[0].numpy(), sr)\n",
        "#librosa.display.waveshow(wav[0].numpy()[-100:], sr)"
      ],
      "metadata": {
        "id": "8EN86CK_9btl",
        "colab": {
          "base_uri": "https://localhost:8080/",
          "height": 298
        },
        "outputId": "286bfb16-4561-4a29-a283-4bd3f49959f3"
      },
      "execution_count": null,
      "outputs": [
        {
          "output_type": "execute_result",
          "data": {
            "text/plain": [
              "<librosa.display.AdaptiveWaveplot at 0x7fd355667410>"
            ]
          },
          "metadata": {},
          "execution_count": 23
        },
        {
          "output_type": "display_data",
          "data": {
            "text/plain": [
              "<Figure size 432x288 with 1 Axes>"
            ],
            "image/png": "[encoded data removed]"
          },
          "metadata": {
            "needs_background": "light"
          }
        }
      ]
    },
    {
      "cell_type": "markdown",
      "source": [
        "Saving audio to file"
      ],
      "metadata": {
        "id": "jkjhro55nWta"
      }
    },
    {
      "cell_type": "code",
      "source": [
        "torchaudio.save('new_wav.wav', wav, sr)"
      ],
      "metadata": {
        "id": "5uUpXJcHPsad"
      },
      "execution_count": null,
      "outputs": []
    },
    {
      "cell_type": "markdown",
      "source": [
        "###Resample and other operations\n",
        "\n",
        "\n",
        "https://pytorch.org/audio/stable/functional.html\n",
        "\n",
        "https://pytorch.org/audio/stable/transforms.html"
      ],
      "metadata": {
        "id": "6O8dXWZ-mbuu"
      }
    },
    {
      "cell_type": "code",
      "source": [
        "print(torchaudio.info(path))"
      ],
      "metadata": {
        "colab": {
          "base_uri": "https://localhost:8080/"
        },
        "id": "jjbXf1WV68SU",
        "outputId": "2fc8bc41-7978-4756-f5c7-081bf0352e58"
      },
      "execution_count": null,
      "outputs": [
        {
          "output_type": "stream",
          "name": "stdout",
          "text": [
            "AudioMetaData(sample_rate=22050, num_frames=41885, num_channels=1, bits_per_sample=16, encoding=PCM_S)\n"
          ]
        }
      ]
    },
    {
      "cell_type": "markdown",
      "source": [
        "###Window\n",
        "By default it's periodic"
      ],
      "metadata": {
        "id": "9mM5s1M0nypx"
      }
    },
    {
      "cell_type": "code",
      "source": [
        "w = torch.hann_window(64,periodic=False)"
      ],
      "metadata": {
        "id": "-t1xnqDYqITY"
      },
      "execution_count": null,
      "outputs": []
    },
    {
      "cell_type": "code",
      "source": [
        "w_p = torch.hann_window(64)"
      ],
      "metadata": {
        "id": "FtGCaPYHYBJV"
      },
      "execution_count": null,
      "outputs": []
    },
    {
      "cell_type": "code",
      "source": [
        "fig = plt.figure(figsize=(10,5))\n",
        "plt.plot(w)\n",
        "plt.plot(w_p)\n",
        "plt.legend(['Symmetric', 'Periodic'])\n",
        "font = {'family': 'serif',\n",
        "        'color':  'darkred',\n",
        "        'weight': 'normal',\n",
        "        'size': 16,\n",
        "        }\n",
        "plt.xlabel('time (samples)', fontdict=font)\n",
        "plt.ylabel('Amplitude', fontdict=font)\n",
        "plt.title('Hann Window', fontdict=font)\n",
        "#plt.savefig('window')\n",
        "#plt.close(fig)\n",
        "#plt.show()"
      ],
      "metadata": {
        "colab": {
          "base_uri": "https://localhost:8080/",
          "height": 379
        },
        "id": "NMxsoTQUXy8b",
        "outputId": "ad4d4056-f889-4716-b3af-306e78426e13"
      },
      "execution_count": null,
      "outputs": [
        {
          "output_type": "execute_result",
          "data": {
            "text/plain": [
              "Text(0.5, 1.0, 'Hann Window')"
            ]
          },
          "metadata": {},
          "execution_count": 34
        },
        {
          "output_type": "display_data",
          "data": {
            "text/plain": [
              "<Figure size 720x360 with 1 Axes>"
            ],
            "image/png": "[encoded data removed]"
          },
          "metadata": {
            "needs_background": "light"
          }
        }
      ]
    },
    {
      "cell_type": "markdown",
      "source": [
        "###Spectrogram"
      ],
      "metadata": {
        "id": "O8cb67nRmZjv"
      }
    },
    {
      "cell_type": "markdown",
      "source": [
        "Example a sinusoidal wave"
      ],
      "metadata": {
        "id": "pqKXHuP9Vo30"
      }
    },
    {
      "cell_type": "code",
      "source": [
        "Fs = 2000\n",
        "T=1\n",
        "Ts = 1/Fs\n",
        "n = T//Ts\n",
        "t = np.arange(n)*Ts\n",
        "y = np.sin(2*np.pi*t)"
      ],
      "metadata": {
        "id": "R84BSRfuVnlW"
      },
      "execution_count": null,
      "outputs": []
    },
    {
      "cell_type": "code",
      "source": [
        "plt.plot(y)"
      ],
      "metadata": {
        "colab": {
          "base_uri": "https://localhost:8080/",
          "height": 284
        },
        "id": "TNctgGhgVn-Y",
        "outputId": "5f378eff-5757-4f76-dabf-57c85d6ffdb6"
      },
      "execution_count": null,
      "outputs": [
        {
          "output_type": "execute_result",
          "data": {
            "text/plain": [
              "[<matplotlib.lines.Line2D at 0x7fd354d5c350>]"
            ]
          },
          "metadata": {},
          "execution_count": 36
        },
        {
          "output_type": "display_data",
          "data": {
            "text/plain": [
              "<Figure size 432x288 with 1 Axes>"
            ],
            "image/png": "[encoded data removed]"
          },
          "metadata": {
            "needs_background": "light"
          }
        }
      ]
    },
    {
      "cell_type": "code",
      "source": [
        "y_fft = torch.fft.fft(torch.Tensor(y))\n",
        "plt.plot(y_fft.abs()[:len(y_fft)//2+1]) #.log10()"
      ],
      "metadata": {
        "colab": {
          "base_uri": "https://localhost:8080/",
          "height": 284
        },
        "id": "aXCWJCfiWgAn",
        "outputId": "669027ce-2f07-4935-c582-e745b056fd26"
      },
      "execution_count": null,
      "outputs": [
        {
          "output_type": "execute_result",
          "data": {
            "text/plain": [
              "[<matplotlib.lines.Line2D at 0x7fd3555c66d0>]"
            ]
          },
          "metadata": {},
          "execution_count": 37
        },
        {
          "output_type": "display_data",
          "data": {
            "text/plain": [
              "<Figure size 432x288 with 1 Axes>"
            ],
            "image/png": "[encoded data removed]"
          },
          "metadata": {
            "needs_background": "light"
          }
        }
      ]
    },
    {
      "cell_type": "code",
      "source": [
        "y_t = torch.Tensor(y)\n",
        "y_pad_fft = torch.fft.fft(nn.ConstantPad1d((0,3*len(y_t)),0)(y_t))\n",
        "plt.plot(y_pad_fft.abs().log10())\n",
        "# y_pad_fft_2 = torch.fft.fft(nn.ConstantPad1d((0,9*len(y_t)),0)(y_t))\n",
        "# plt.plot(y_pad_fft_2.abs().log10()[:200])\n",
        "# plt.legend(['1', '2'])"
      ],
      "metadata": {
        "id": "nfs7HVAGXZ4S"
      },
      "execution_count": null,
      "outputs": []
    },
    {
      "cell_type": "code",
      "source": [],
      "metadata": {
        "id": "tvgZ-878Xz0E"
      },
      "execution_count": null,
      "outputs": []
    },
    {
      "cell_type": "code",
      "source": [
        "n_fft=512*2\n",
        "hop_length=256 #Usually 1/2 or 1/4 of the window length\n",
        "w =  torch.ones(n_fft) #torch.hann_window(n_fft) )"
      ],
      "metadata": {
        "id": "CN8c_IeEtdW0"
      },
      "execution_count": 21,
      "outputs": []
    },
    {
      "cell_type": "code",
      "source": [
        "st = MySTFT(wav, sr, n_fft, hop_length, w, 0)"
      ],
      "metadata": {
        "id": "DK5Kr0aEq96G"
      },
      "execution_count": 22,
      "outputs": []
    },
    {
      "cell_type": "code",
      "source": [
        "st.shape"
      ],
      "metadata": {
        "colab": {
          "base_uri": "https://localhost:8080/"
        },
        "id": "_cXAhRfeV9mE",
        "outputId": "fb9f8a91-9ccf-484e-9d84-9c8b6748c46e"
      },
      "execution_count": 23,
      "outputs": [
        {
          "output_type": "execute_result",
          "data": {
            "text/plain": [
              "torch.Size([513, 219])"
            ]
          },
          "metadata": {},
          "execution_count": 23
        }
      ]
    },
    {
      "cell_type": "code",
      "source": [
        "#amplitude and phase\n",
        "#torch.allclose(st,st.abs()*torch.exp(1j*st.angle()))"
      ],
      "metadata": {
        "id": "yWbo0hOCTY8d"
      },
      "execution_count": null,
      "outputs": []
    },
    {
      "cell_type": "code",
      "source": [],
      "metadata": {
        "id": "dyRNwVBbQcd_"
      },
      "execution_count": null,
      "outputs": []
    },
    {
      "cell_type": "code",
      "source": [],
      "metadata": {
        "id": "vLinyYY6Rvq4"
      },
      "execution_count": null,
      "outputs": []
    },
    {
      "cell_type": "markdown",
      "source": [
        "####Torch STFT\n",
        "```torch.stft``` has hop_length = 1/4 of the window_length and if the window is not specified, it's a rectangular window https://pytorch.org/docs/stable/generated/torch.stft.html"
      ],
      "metadata": {
        "id": "wiUFep_DUxX5"
      }
    },
    {
      "cell_type": "code",
      "source": [
        "stf = torch.stft(wav[0], n_fft=n_fft, hop_length=hop_length, return_complex=True)  #, center=False window=w,"
      ],
      "metadata": {
        "id": "3QjTES6Fogme",
        "outputId": "36132b29-d0f9-4e58-cfe0-8654bb577ef0",
        "colab": {
          "base_uri": "https://localhost:8080/"
        }
      },
      "execution_count": 24,
      "outputs": [
        {
          "output_type": "stream",
          "name": "stderr",
          "text": [
            "/usr/local/lib/python3.11/dist-packages/torch/functional.py:709: UserWarning: A window was not provided. A rectangular window will be applied,which is known to cause spectral leakage. Other windows such as torch.hann_window or torch.hamming_window can are recommended to reduce spectral leakage.To suppress this warning and use a rectangular window, explicitly set `window=torch.ones(n_fft, device=<device>)`. (Triggered internally at /pytorch/aten/src/ATen/native/SpectralOps.cpp:836.)\n",
            "  return _VF.stft(  # type: ignore[attr-defined]\n"
          ]
        }
      ]
    },
    {
      "cell_type": "code",
      "source": [
        "stf2 = torch.stft(wav2[0], n_fft=2*n_fft, hop_length=hop_length, return_complex=True)  #, center=False window=w,"
      ],
      "metadata": {
        "id": "-sqbFbvEWqn_"
      },
      "execution_count": 25,
      "outputs": []
    },
    {
      "cell_type": "code",
      "source": [
        "stf.shape"
      ],
      "metadata": {
        "colab": {
          "base_uri": "https://localhost:8080/"
        },
        "id": "0kBGS2f6WFvr",
        "outputId": "cc538033-9bc2-45d2-e7d5-a2008f0e6805"
      },
      "execution_count": 26,
      "outputs": [
        {
          "output_type": "execute_result",
          "data": {
            "text/plain": [
              "torch.Size([513, 223])"
            ]
          },
          "metadata": {},
          "execution_count": 26
        }
      ]
    },
    {
      "cell_type": "code",
      "source": [
        "torch.allclose(stf, st)"
      ],
      "metadata": {
        "id": "XY2tqvm5og3H"
      },
      "execution_count": null,
      "outputs": []
    },
    {
      "cell_type": "code",
      "source": [
        "plt.figure(figsize=(25,10))\n",
        "plt.imshow(20*stf.squeeze().abs().log10(), origin='lower')"
      ],
      "metadata": {
        "id": "jv8675mNsuLh"
      },
      "execution_count": 40,
      "outputs": []
    },
    {
      "cell_type": "markdown",
      "metadata": {
        "id": "htpQD1ZI3Bv0"
      },
      "source": [
        "https://pytorch.org/tutorials/beginner/audio_preprocessing_tutorial.html"
      ]
    },
    {
      "cell_type": "code",
      "execution_count": 41,
      "metadata": {
        "id": "FUiwUtco1i_c"
      },
      "outputs": [],
      "source": [
        "Audio(data=wav, rate=sr)"
      ]
    },
    {
      "cell_type": "code",
      "source": [
        "plt.figure(figsize=(25,10))\n",
        "plt.imshow(librosa.power_to_db(stf.squeeze().abs(), amin=1e-10, top_db=None), origin='lower')  #, top_db=None\n",
        "plt.colorbar(format=\"%+2.f dB\")"
      ],
      "metadata": {
        "id": "oVYZXo1tfTe8"
      },
      "execution_count": null,
      "outputs": []
    },
    {
      "cell_type": "code",
      "source": [
        "plt.figure(figsize=(25,10))\n",
        "plt.imshow(20*torch.clip(stf.squeeze().abs(), min=1e-10).log10(), origin='lower')"
      ],
      "metadata": {
        "id": "-bufcGa4gJwT"
      },
      "execution_count": null,
      "outputs": []
    },
    {
      "cell_type": "code",
      "source": [
        "torch.allclose(torch.Tensor(librosa.power_to_db(stf.squeeze().abs(), amin=1e-10, top_db=None)), 10*torch.clip(stf.squeeze().abs(), min=1e-10).log10())"
      ],
      "metadata": {
        "colab": {
          "base_uri": "https://localhost:8080/"
        },
        "id": "4PWp2m7uzph2",
        "outputId": "6497d61e-e941-4381-cd16-04659c80aca1"
      },
      "execution_count": null,
      "outputs": [
        {
          "output_type": "execute_result",
          "data": {
            "text/plain": [
              "True"
            ]
          },
          "metadata": {},
          "execution_count": 81
        }
      ]
    },
    {
      "cell_type": "markdown",
      "source": [
        "####TorchAudio STFT\n",
        "torchaudio uses hop_length = 1/2 window_length and the window function is periodic (not symmetric) by default. Therefore, people usually use torch.stft"
      ],
      "metadata": {
        "id": "OrAviTQebW0Y"
      }
    },
    {
      "cell_type": "code",
      "source": [
        "spec = torchaudio.transforms.Spectrogram(\n",
        "    n_fft=n_fft,\n",
        "    center = False,\n",
        "    #win_length=win_length,\n",
        "    window_fn= torch.ones, #torch.hann_window\n",
        "    hop_length=hop_length\n",
        ")(wav[0])\n",
        "# griffin_lim = torchaudio.transforms.GriffinLim(\n",
        "#     n_fft=n_fft,\n",
        "#     #win_length=win_length,\n",
        "#     hop_length=hop_length,\n",
        "# )\n",
        "# waveform = griffin_lim(spec)  #stf.squeeze().abs()"
      ],
      "metadata": {
        "id": "vC50PB2dg73L"
      },
      "execution_count": null,
      "outputs": []
    },
    {
      "cell_type": "code",
      "source": [
        "torch.allclose(st.abs()**2,spec)"
      ],
      "metadata": {
        "colab": {
          "base_uri": "https://localhost:8080/"
        },
        "id": "-Kn3vrQdwSKE",
        "outputId": "85627764-b116-452b-99a0-6194a01f49dc"
      },
      "execution_count": null,
      "outputs": [
        {
          "output_type": "execute_result",
          "data": {
            "text/plain": [
              "True"
            ]
          },
          "metadata": {},
          "execution_count": 85
        }
      ]
    },
    {
      "cell_type": "markdown",
      "source": [
        "###Librosa Spectrogram"
      ],
      "metadata": {
        "id": "LwrbAIPoGFyE"
      }
    },
    {
      "cell_type": "code",
      "source": [
        "plt.figure(figsize=(30,10))\n",
        "librosa.display.specshow(librosa.amplitude_to_db(stf.abs().numpy()**2), y_axis='log', sr=sr, hop_length=hop_length, x_axis='time')\n",
        "plt.colorbar(format=\"%+2.f dB\")"
      ],
      "metadata": {
        "id": "KfjJIJWCGEOD"
      },
      "execution_count": null,
      "outputs": []
    },
    {
      "cell_type": "markdown",
      "source": [
        "###Inverse STFT"
      ],
      "metadata": {
        "id": "tBogW6YUc0BM"
      }
    },
    {
      "cell_type": "code",
      "source": [
        "recA = iMySTFT(wav, sr, n_fft, hop_length, w, 0)"
      ],
      "metadata": {
        "id": "WD596JdQ4Qth"
      },
      "execution_count": null,
      "outputs": []
    },
    {
      "cell_type": "code",
      "source": [
        "Audio(data=recA, rate=sr)"
      ],
      "metadata": {
        "id": "nmcOsQNp5O1k"
      },
      "execution_count": null,
      "outputs": []
    },
    {
      "cell_type": "code",
      "source": [
        "istf = torch.istft(stf,n_fft=n_fft, hop_length=hop_length, center=False)"
      ],
      "metadata": {
        "id": "iB8Q2oxL5gRJ"
      },
      "execution_count": null,
      "outputs": []
    },
    {
      "cell_type": "code",
      "source": [
        "Audio(data=istf, rate=sr)"
      ],
      "metadata": {
        "id": "2LLyL3wd6BEv"
      },
      "execution_count": null,
      "outputs": []
    },
    {
      "cell_type": "code",
      "source": [
        "torch.allclose(recA, istf)"
      ],
      "metadata": {
        "id": "qUt0-vuS6IKn"
      },
      "execution_count": 42,
      "outputs": []
    },
    {
      "cell_type": "markdown",
      "source": [
        "###Mel Spectrogram"
      ],
      "metadata": {
        "id": "29-1K0SGmkrf"
      }
    },
    {
      "cell_type": "code",
      "execution_count": 32,
      "metadata": {
        "id": "scCuCRHehcYu",
        "outputId": "b5e5f243-e6a9-4e59-f951-71ffb28861b6",
        "colab": {
          "base_uri": "https://localhost:8080/"
        }
      },
      "outputs": [
        {
          "output_type": "stream",
          "name": "stderr",
          "text": [
            "/usr/local/lib/python3.11/dist-packages/torchaudio/transforms/_transforms.py:580: UserWarning: Argument 'onesided' has been deprecated and has no influence on the behavior of this module.\n",
            "  warnings.warn(\n"
          ]
        }
      ],
      "source": [
        "n_fft = 512 #1024\n",
        "win_length = None\n",
        "hop_length = 256 #512\n",
        "n_mels = 80\n",
        "\n",
        "mel_spectrogram = torchaudio.transforms.MelSpectrogram(\n",
        "    sample_rate=sr,\n",
        "    n_fft=n_fft,\n",
        "    win_length=win_length,\n",
        "    hop_length=hop_length,\n",
        "    center=True,\n",
        "    pad_mode=\"reflect\",\n",
        "    power=2.0,\n",
        "    norm='slaney',\n",
        "    onesided=True,\n",
        "    n_mels=n_mels,\n",
        "    mel_scale=\"htk\",\n",
        ")"
      ]
    },
    {
      "cell_type": "code",
      "source": [
        "melspec = mel_spectrogram(wav[0])\n",
        "#plot_spectrogram(melspec[0], title=\"MelSpectrogram - torchaudio\", ylabel='mel freq')"
      ],
      "metadata": {
        "id": "ucs-4zzab0sS"
      },
      "execution_count": 33,
      "outputs": []
    },
    {
      "cell_type": "code",
      "source": [
        "plt.figure(figsize=(25,10))\n",
        "plt.imshow(librosa.power_to_db(melspec), origin='lower')"
      ],
      "metadata": {
        "id": "GIbmiaB6fKC-"
      },
      "execution_count": 43,
      "outputs": []
    },
    {
      "cell_type": "markdown",
      "source": [
        "###Mel Filter Bank"
      ],
      "metadata": {
        "id": "GTG_a496OW-q"
      }
    },
    {
      "cell_type": "code",
      "source": [
        "plt.figure(figsize=(10,10))\n",
        "plt.imshow(mel_spectrogram.mel_scale.fb, origin='lower')"
      ],
      "metadata": {
        "id": "m4oqo2ZaR8K7"
      },
      "execution_count": 44,
      "outputs": []
    },
    {
      "cell_type": "code",
      "source": [
        "mel_filters_librosa = librosa.filters.mel(\n",
        "    sr,\n",
        "    n_fft,\n",
        "    n_mels=n_mels,\n",
        "    fmin=0.,\n",
        "    fmax=sr/2.,\n",
        "    norm='slaney',\n",
        "    htk=True,\n",
        ").T"
      ],
      "metadata": {
        "id": "WF5f0tJKRs_D"
      },
      "execution_count": null,
      "outputs": []
    },
    {
      "cell_type": "code",
      "source": [
        "plt.imshow(mel_filters_librosa, origin='lower')"
      ],
      "metadata": {
        "id": "DLYDXoXHaRBl"
      },
      "execution_count": null,
      "outputs": []
    },
    {
      "cell_type": "code",
      "source": [
        "torch.allclose(torch.Tensor(mel_filters_librosa), mel_spectrogram.mel_scale.fb)"
      ],
      "metadata": {
        "colab": {
          "base_uri": "https://localhost:8080/"
        },
        "id": "50WEJ26yajVk",
        "outputId": "6ecf14de-e6b3-4c2d-9e84-408f233b7b41"
      },
      "execution_count": null,
      "outputs": [
        {
          "output_type": "execute_result",
          "data": {
            "text/plain": [
              "True"
            ]
          },
          "metadata": {},
          "execution_count": 18
        }
      ]
    },
    {
      "cell_type": "code",
      "source": [
        "mel_spectrogram.mel_scale.fb.copy_(torch.tensor(mel_filters_librosa))"
      ],
      "metadata": {
        "id": "otwfDKKR4O8-",
        "colab": {
          "base_uri": "https://localhost:8080/"
        },
        "outputId": "9ef05370-b5ad-440f-b33e-79609af98a25"
      },
      "execution_count": null,
      "outputs": [
        {
          "output_type": "execute_result",
          "data": {
            "text/plain": [
              "tensor([[0.0000, 0.0000, 0.0000,  ..., 0.0000, 0.0000, 0.0000],\n",
              "        [0.0114, 0.0273, 0.0000,  ..., 0.0000, 0.0000, 0.0000],\n",
              "        [0.0000, 0.0000, 0.0247,  ..., 0.0000, 0.0000, 0.0000],\n",
              "        ...,\n",
              "        [0.0000, 0.0000, 0.0000,  ..., 0.0000, 0.0000, 0.0005],\n",
              "        [0.0000, 0.0000, 0.0000,  ..., 0.0000, 0.0000, 0.0003],\n",
              "        [0.0000, 0.0000, 0.0000,  ..., 0.0000, 0.0000, 0.0000]])"
            ]
          },
          "metadata": {},
          "execution_count": 17
        }
      ]
    },
    {
      "cell_type": "code",
      "source": [],
      "metadata": {
        "id": "ERPBcsqWa2nr"
      },
      "execution_count": null,
      "outputs": []
    }
  ],
  "metadata": {
    "colab": {
      "provenance": []
    },
    "kernelspec": {
      "display_name": "Python 3",
      "name": "python3"
    },
    "language_info": {
      "name": "python"
    }
  },
  "nbformat": 4,
  "nbformat_minor": 0
}